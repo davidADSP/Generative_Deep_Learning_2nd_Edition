{
 "cells": [
  {
   "cell_type": "code",
   "execution_count": 1,
   "id": "d1961f52-c45d-4c91-b7e6-4fbb803b9a70",
   "metadata": {
    "tags": []
   },
   "outputs": [],
   "source": [
    "import tensorflow as tf\n",
    "import tensorflow_datasets as tfds\n",
    "import tensorflow_probability as tfp\n",
    "\n",
    "import numpy as np"
   ]
  },
  {
   "cell_type": "code",
   "execution_count": 2,
   "id": "7e34fd88-f521-4e3e-9bc3-d8609b18baf4",
   "metadata": {
    "collapsed": true,
    "jupyter": {
     "outputs_hidden": true
    },
    "tags": []
   },
   "outputs": [
    {
     "name": "stderr",
     "output_type": "stream",
     "text": [
      "2022-05-26 11:31:34.424385: I tensorflow/core/platform/cpu_feature_guard.cc:151] This TensorFlow binary is optimized with oneAPI Deep Neural Network Library (oneDNN) to use the following CPU instructions in performance-critical operations:  AVX2 FMA\n",
      "To enable them in other operations, rebuild TensorFlow with the appropriate compiler flags.\n"
     ]
    },
    {
     "name": "stdout",
     "output_type": "stream",
     "text": [
      "Epoch 1/20\n"
     ]
    },
    {
     "name": "stderr",
     "output_type": "stream",
     "text": [
      "2022-05-26 11:31:34.826764: W tensorflow/python/util/util.cc:368] Sets are not currently considered sequences, but this may change in the future, so consider avoiding using them.\n"
     ]
    },
    {
     "name": "stdout",
     "output_type": "stream",
     "text": [
      "20/20 [==============================] - 1s 2ms/step - loss: 1.8397\n",
      "Epoch 2/20\n",
      "20/20 [==============================] - 0s 2ms/step - loss: 1.5736\n",
      "Epoch 3/20\n",
      "20/20 [==============================] - 0s 2ms/step - loss: 1.3091\n",
      "Epoch 4/20\n",
      "20/20 [==============================] - 0s 2ms/step - loss: 0.9618\n",
      "Epoch 5/20\n",
      "20/20 [==============================] - 0s 2ms/step - loss: 0.7171\n",
      "Epoch 6/20\n",
      "20/20 [==============================] - 0s 2ms/step - loss: 0.5798\n",
      "Epoch 7/20\n",
      "20/20 [==============================] - 0s 2ms/step - loss: 0.4924\n",
      "Epoch 8/20\n",
      "20/20 [==============================] - 0s 2ms/step - loss: 0.4001\n",
      "Epoch 9/20\n",
      "20/20 [==============================] - 0s 2ms/step - loss: 0.3228\n",
      "Epoch 10/20\n",
      "20/20 [==============================] - 0s 2ms/step - loss: 0.2802\n",
      "Epoch 11/20\n",
      "20/20 [==============================] - 0s 2ms/step - loss: 0.2724\n",
      "Epoch 12/20\n",
      "20/20 [==============================] - 0s 2ms/step - loss: 0.2580\n",
      "Epoch 13/20\n",
      "20/20 [==============================] - 0s 2ms/step - loss: 0.2439\n",
      "Epoch 14/20\n",
      "20/20 [==============================] - 0s 2ms/step - loss: 0.2276\n",
      "Epoch 15/20\n",
      "20/20 [==============================] - 0s 2ms/step - loss: 0.2460\n",
      "Epoch 16/20\n",
      "20/20 [==============================] - 0s 3ms/step - loss: 0.2258\n",
      "Epoch 17/20\n",
      "20/20 [==============================] - 0s 3ms/step - loss: 0.2493\n",
      "Epoch 18/20\n",
      "20/20 [==============================] - 0s 3ms/step - loss: 0.2379\n",
      "Epoch 19/20\n",
      "20/20 [==============================] - 0s 3ms/step - loss: 0.2249\n",
      "Epoch 20/20\n",
      "20/20 [==============================] - 0s 2ms/step - loss: 0.2119\n"
     ]
    },
    {
     "data": {
      "text/plain": [
       "<keras.callbacks.History at 0x7ff5b86dfa00>"
      ]
     },
     "execution_count": 2,
     "metadata": {},
     "output_type": "execute_result"
    }
   ],
   "source": [
    "tfd = tfp.distributions\n",
    "tfpl = tfp.layers\n",
    "tfk = tf.keras\n",
    "tfkl = tf.keras.layers\n",
    "# Load data -- graph of a [cardioid](https://en.wikipedia.org/wiki/Cardioid).\n",
    "n = 2000\n",
    "t = tfd.Uniform(low=-np.pi, high=np.pi).sample([n, 1])\n",
    "r = 2 * (1 - tf.cos(t))\n",
    "x = r * tf.sin(t) + tfd.Normal(loc=0., scale=0.1).sample([n, 1])\n",
    "y = r * tf.cos(t) + tfd.Normal(loc=0., scale=0.1).sample([n, 1])\n",
    "# Model the distribution of y given x with a Mixture Density Network.\n",
    "event_shape = [1]\n",
    "num_components = 3\n",
    "params_size = tfpl.MixtureLogistic.params_size(num_components, event_shape)\n",
    "model = tfk.Sequential([\n",
    "tfkl.Dense(12, activation='relu'),\n",
    "tfkl.Dense(params_size, activation=None),\n",
    "tfpl.MixtureLogistic(num_components, event_shape)\n",
    "])\n",
    "# Fit.\n",
    "batch_size = 100\n",
    "model.compile(optimizer=tf.keras.optimizers.Adam(learning_rate=0.02),\n",
    "            loss=lambda y, model: -model.log_prob(y))\n",
    "model.fit(x, y,\n",
    "        batch_size=batch_size,\n",
    "        epochs=20,\n",
    "        steps_per_epoch=n // batch_size)"
   ]
  },
  {
   "cell_type": "code",
   "execution_count": 3,
   "id": "0493bda7-2638-4513-a651-0d0158b52c24",
   "metadata": {},
   "outputs": [
    {
     "data": {
      "text/plain": [
       "[<keras.layers.core.dense.Dense at 0x7ff6204d0b50>,\n",
       " <keras.layers.core.dense.Dense at 0x7ff5b8895670>,\n",
       " <tensorflow_probability.python.layers.distribution_layer.MixtureLogistic at 0x7ff5b88959d0>]"
      ]
     },
     "execution_count": 3,
     "metadata": {},
     "output_type": "execute_result"
    }
   ],
   "source": [
    "model.layers"
   ]
  },
  {
   "cell_type": "code",
   "execution_count": 4,
   "id": "da2663f9-d15b-47cc-803c-8ce899a06fe2",
   "metadata": {},
   "outputs": [],
   "source": [
    "from keras.models import Model\n",
    "\n",
    "intermediate_layer_model = Model(inputs=model.input,\n",
    "                                 outputs=model.layers[1].output)\n",
    "intermediate_output = intermediate_layer_model.predict(np.array([x[0]]))"
   ]
  },
  {
   "cell_type": "code",
   "execution_count": 5,
   "id": "2ce8832e-96f7-428b-9780-0f2c066c902c",
   "metadata": {},
   "outputs": [
    {
     "data": {
      "text/plain": [
       "array([[ 1.145561  , -3.4068832 ,  0.3460977 ,  0.17611848, -2.585769  ,\n",
       "        -1.9918323 ,  0.39855596, -3.3038175 , -2.2761903 ]],\n",
       "      dtype=float32)"
      ]
     },
     "execution_count": 5,
     "metadata": {},
     "output_type": "execute_result"
    }
   ],
   "source": [
    "intermediate_output"
   ]
  },
  {
   "cell_type": "code",
   "execution_count": 19,
   "id": "866a785f-eef1-451d-ba83-be58338dd7cb",
   "metadata": {},
   "outputs": [
    {
     "name": "stdout",
     "output_type": "stream",
     "text": [
      "[-0.06594776]\n"
     ]
    }
   ],
   "source": [
    "preds = model.predict(np.array([[0]]))\n",
    "print(preds[0])"
   ]
  },
  {
   "cell_type": "code",
   "execution_count": 7,
   "id": "48aeb246-e7d3-4cf8-bb05-c00d03cca000",
   "metadata": {},
   "outputs": [
    {
     "data": {
      "text/plain": [
       "TensorShape([2000, 1])"
      ]
     },
     "execution_count": 7,
     "metadata": {},
     "output_type": "execute_result"
    }
   ],
   "source": [
    "x.shape"
   ]
  },
  {
   "cell_type": "code",
   "execution_count": 9,
   "id": "478be23f-c73c-4865-895c-eb65f1ed5a06",
   "metadata": {},
   "outputs": [
    {
     "data": {
      "text/plain": [
       "(1,)"
      ]
     },
     "execution_count": 9,
     "metadata": {},
     "output_type": "execute_result"
    }
   ],
   "source": [
    "np.array([0]).shape"
   ]
  },
  {
   "cell_type": "code",
   "execution_count": null,
   "id": "931659b7-6aad-455a-a6ef-0c5df61b41b8",
   "metadata": {},
   "outputs": [],
   "source": [
    "import matplotlib.pyplot as plt\n",
    "plt.scatter(x,y)"
   ]
  },
  {
   "cell_type": "code",
   "execution_count": null,
   "id": "89404c68-d6eb-4d50-941c-0fd0eef3018c",
   "metadata": {},
   "outputs": [],
   "source": []
  }
 ],
 "metadata": {
  "kernelspec": {
   "display_name": "Python 3 (ipykernel)",
   "language": "python",
   "name": "python3"
  },
  "language_info": {
   "codemirror_mode": {
    "name": "ipython",
    "version": 3
   },
   "file_extension": ".py",
   "mimetype": "text/x-python",
   "name": "python",
   "nbconvert_exporter": "python",
   "pygments_lexer": "ipython3",
   "version": "3.8.10"
  }
 },
 "nbformat": 4,
 "nbformat_minor": 5
}
