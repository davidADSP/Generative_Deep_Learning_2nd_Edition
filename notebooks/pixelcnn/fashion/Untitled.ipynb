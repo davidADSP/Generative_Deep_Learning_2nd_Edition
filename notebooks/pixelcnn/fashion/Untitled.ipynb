{
 "cells": [
  {
   "cell_type": "code",
   "execution_count": 10,
   "id": "8cb3a55a-f33b-410f-b261-c09734f995e4",
   "metadata": {},
   "outputs": [
    {
     "name": "stdout",
     "output_type": "stream",
     "text": [
      "\u001b[1mDownloading and preparing dataset 29.45 MiB (download: 29.45 MiB, generated: 36.42 MiB, total: 65.87 MiB) to /root/tensorflow_datasets/fashion_mnist/3.0.1...\u001b[0m\n"
     ]
    },
    {
     "data": {
      "application/vnd.jupyter.widget-view+json": {
       "model_id": "d203d2e6daea4dd1a55ba17d6d006f0c",
       "version_major": 2,
       "version_minor": 0
      },
      "text/plain": [
       "Dl Completed...: 0 url [00:00, ? url/s]"
      ]
     },
     "metadata": {},
     "output_type": "display_data"
    },
    {
     "data": {
      "application/vnd.jupyter.widget-view+json": {
       "model_id": "176099522c034da2a92595bd4e80ee7a",
       "version_major": 2,
       "version_minor": 0
      },
      "text/plain": [
       "Dl Size...: 0 MiB [00:00, ? MiB/s]"
      ]
     },
     "metadata": {},
     "output_type": "display_data"
    },
    {
     "data": {
      "application/vnd.jupyter.widget-view+json": {
       "model_id": "1c1fd95b7c794ad2a665d69d935ad56a",
       "version_major": 2,
       "version_minor": 0
      },
      "text/plain": [
       "Extraction completed...: 0 file [00:00, ? file/s]"
      ]
     },
     "metadata": {},
     "output_type": "display_data"
    },
    {
     "data": {
      "application/vnd.jupyter.widget-view+json": {
       "model_id": "",
       "version_major": 2,
       "version_minor": 0
      },
      "text/plain": [
       "Generating splits...:   0%|          | 0/2 [00:00<?, ? splits/s]"
      ]
     },
     "metadata": {},
     "output_type": "display_data"
    },
    {
     "data": {
      "application/vnd.jupyter.widget-view+json": {
       "model_id": "",
       "version_major": 2,
       "version_minor": 0
      },
      "text/plain": [
       "Generating train examples...:   0%|          | 0/60000 [00:00<?, ? examples/s]"
      ]
     },
     "metadata": {},
     "output_type": "display_data"
    },
    {
     "data": {
      "application/vnd.jupyter.widget-view+json": {
       "model_id": "",
       "version_major": 2,
       "version_minor": 0
      },
      "text/plain": [
       "Shuffling /root/tensorflow_datasets/fashion_mnist/3.0.1.incompleteDE9094/fashion_mnist-train.tfrecord*...:   0…"
      ]
     },
     "metadata": {},
     "output_type": "display_data"
    },
    {
     "data": {
      "application/vnd.jupyter.widget-view+json": {
       "model_id": "",
       "version_major": 2,
       "version_minor": 0
      },
      "text/plain": [
       "Generating test examples...:   0%|          | 0/10000 [00:00<?, ? examples/s]"
      ]
     },
     "metadata": {},
     "output_type": "display_data"
    },
    {
     "data": {
      "application/vnd.jupyter.widget-view+json": {
       "model_id": "",
       "version_major": 2,
       "version_minor": 0
      },
      "text/plain": [
       "Shuffling /root/tensorflow_datasets/fashion_mnist/3.0.1.incompleteDE9094/fashion_mnist-test.tfrecord*...:   0%…"
      ]
     },
     "metadata": {},
     "output_type": "display_data"
    },
    {
     "name": "stdout",
     "output_type": "stream",
     "text": [
      "\u001b[1mDataset fashion_mnist downloaded and prepared to /root/tensorflow_datasets/fashion_mnist/3.0.1. Subsequent calls will reuse this data.\u001b[0m\n",
      "Epoch 1/10\n",
      "3750/3750 [==============================] - 145s 36ms/step - loss: 1684.8624\n",
      "Epoch 2/10\n",
      "3750/3750 [==============================] - 134s 36ms/step - loss: 1596.6353\n",
      "Epoch 3/10\n",
      " 165/3750 [>.............................] - ETA: 2:06 - loss: 1594.7432"
     ]
    },
    {
     "ename": "KeyboardInterrupt",
     "evalue": "",
     "output_type": "error",
     "traceback": [
      "\u001b[0;31m---------------------------------------------------------------------------\u001b[0m",
      "\u001b[0;31mKeyboardInterrupt\u001b[0m                         Traceback (most recent call last)",
      "Input \u001b[0;32mIn [10]\u001b[0m, in \u001b[0;36m<cell line: 48>\u001b[0;34m()\u001b[0m\n\u001b[1;32m     43\u001b[0m \u001b[38;5;66;03m# Compile and train the model\u001b[39;00m\n\u001b[1;32m     44\u001b[0m model\u001b[38;5;241m.\u001b[39mcompile(\n\u001b[1;32m     45\u001b[0m     optimizer\u001b[38;5;241m=\u001b[39mtfk\u001b[38;5;241m.\u001b[39moptimizers\u001b[38;5;241m.\u001b[39mAdam(\u001b[38;5;241m.001\u001b[39m),\n\u001b[1;32m     46\u001b[0m     metrics\u001b[38;5;241m=\u001b[39m[])\n\u001b[0;32m---> 48\u001b[0m \u001b[43mmodel\u001b[49m\u001b[38;5;241;43m.\u001b[39;49m\u001b[43mfit\u001b[49m\u001b[43m(\u001b[49m\u001b[43mtrain_it\u001b[49m\u001b[43m,\u001b[49m\u001b[43m \u001b[49m\u001b[43mepochs\u001b[49m\u001b[38;5;241;43m=\u001b[39;49m\u001b[38;5;241;43m10\u001b[39;49m\u001b[43m,\u001b[49m\u001b[43m \u001b[49m\u001b[43mverbose\u001b[49m\u001b[38;5;241;43m=\u001b[39;49m\u001b[38;5;28;43;01mTrue\u001b[39;49;00m\u001b[43m)\u001b[49m\n",
      "File \u001b[0;32m/usr/local/lib/python3.8/dist-packages/keras/utils/traceback_utils.py:64\u001b[0m, in \u001b[0;36mfilter_traceback.<locals>.error_handler\u001b[0;34m(*args, **kwargs)\u001b[0m\n\u001b[1;32m     62\u001b[0m filtered_tb \u001b[38;5;241m=\u001b[39m \u001b[38;5;28;01mNone\u001b[39;00m\n\u001b[1;32m     63\u001b[0m \u001b[38;5;28;01mtry\u001b[39;00m:\n\u001b[0;32m---> 64\u001b[0m   \u001b[38;5;28;01mreturn\u001b[39;00m \u001b[43mfn\u001b[49m\u001b[43m(\u001b[49m\u001b[38;5;241;43m*\u001b[39;49m\u001b[43margs\u001b[49m\u001b[43m,\u001b[49m\u001b[43m \u001b[49m\u001b[38;5;241;43m*\u001b[39;49m\u001b[38;5;241;43m*\u001b[39;49m\u001b[43mkwargs\u001b[49m\u001b[43m)\u001b[49m\n\u001b[1;32m     65\u001b[0m \u001b[38;5;28;01mexcept\u001b[39;00m \u001b[38;5;167;01mException\u001b[39;00m \u001b[38;5;28;01mas\u001b[39;00m e:  \u001b[38;5;66;03m# pylint: disable=broad-except\u001b[39;00m\n\u001b[1;32m     66\u001b[0m   filtered_tb \u001b[38;5;241m=\u001b[39m _process_traceback_frames(e\u001b[38;5;241m.\u001b[39m__traceback__)\n",
      "File \u001b[0;32m/usr/local/lib/python3.8/dist-packages/keras/engine/training.py:1384\u001b[0m, in \u001b[0;36mModel.fit\u001b[0;34m(self, x, y, batch_size, epochs, verbose, callbacks, validation_split, validation_data, shuffle, class_weight, sample_weight, initial_epoch, steps_per_epoch, validation_steps, validation_batch_size, validation_freq, max_queue_size, workers, use_multiprocessing)\u001b[0m\n\u001b[1;32m   1377\u001b[0m \u001b[38;5;28;01mwith\u001b[39;00m tf\u001b[38;5;241m.\u001b[39mprofiler\u001b[38;5;241m.\u001b[39mexperimental\u001b[38;5;241m.\u001b[39mTrace(\n\u001b[1;32m   1378\u001b[0m     \u001b[38;5;124m'\u001b[39m\u001b[38;5;124mtrain\u001b[39m\u001b[38;5;124m'\u001b[39m,\n\u001b[1;32m   1379\u001b[0m     epoch_num\u001b[38;5;241m=\u001b[39mepoch,\n\u001b[1;32m   1380\u001b[0m     step_num\u001b[38;5;241m=\u001b[39mstep,\n\u001b[1;32m   1381\u001b[0m     batch_size\u001b[38;5;241m=\u001b[39mbatch_size,\n\u001b[1;32m   1382\u001b[0m     _r\u001b[38;5;241m=\u001b[39m\u001b[38;5;241m1\u001b[39m):\n\u001b[1;32m   1383\u001b[0m   callbacks\u001b[38;5;241m.\u001b[39mon_train_batch_begin(step)\n\u001b[0;32m-> 1384\u001b[0m   tmp_logs \u001b[38;5;241m=\u001b[39m \u001b[38;5;28;43mself\u001b[39;49m\u001b[38;5;241;43m.\u001b[39;49m\u001b[43mtrain_function\u001b[49m\u001b[43m(\u001b[49m\u001b[43miterator\u001b[49m\u001b[43m)\u001b[49m\n\u001b[1;32m   1385\u001b[0m   \u001b[38;5;28;01mif\u001b[39;00m data_handler\u001b[38;5;241m.\u001b[39mshould_sync:\n\u001b[1;32m   1386\u001b[0m     context\u001b[38;5;241m.\u001b[39masync_wait()\n",
      "File \u001b[0;32m/usr/local/lib/python3.8/dist-packages/tensorflow/python/util/traceback_utils.py:150\u001b[0m, in \u001b[0;36mfilter_traceback.<locals>.error_handler\u001b[0;34m(*args, **kwargs)\u001b[0m\n\u001b[1;32m    148\u001b[0m filtered_tb \u001b[38;5;241m=\u001b[39m \u001b[38;5;28;01mNone\u001b[39;00m\n\u001b[1;32m    149\u001b[0m \u001b[38;5;28;01mtry\u001b[39;00m:\n\u001b[0;32m--> 150\u001b[0m   \u001b[38;5;28;01mreturn\u001b[39;00m \u001b[43mfn\u001b[49m\u001b[43m(\u001b[49m\u001b[38;5;241;43m*\u001b[39;49m\u001b[43margs\u001b[49m\u001b[43m,\u001b[49m\u001b[43m \u001b[49m\u001b[38;5;241;43m*\u001b[39;49m\u001b[38;5;241;43m*\u001b[39;49m\u001b[43mkwargs\u001b[49m\u001b[43m)\u001b[49m\n\u001b[1;32m    151\u001b[0m \u001b[38;5;28;01mexcept\u001b[39;00m \u001b[38;5;167;01mException\u001b[39;00m \u001b[38;5;28;01mas\u001b[39;00m e:\n\u001b[1;32m    152\u001b[0m   filtered_tb \u001b[38;5;241m=\u001b[39m _process_traceback_frames(e\u001b[38;5;241m.\u001b[39m__traceback__)\n",
      "File \u001b[0;32m/usr/local/lib/python3.8/dist-packages/tensorflow/python/eager/def_function.py:915\u001b[0m, in \u001b[0;36mFunction.__call__\u001b[0;34m(self, *args, **kwds)\u001b[0m\n\u001b[1;32m    912\u001b[0m compiler \u001b[38;5;241m=\u001b[39m \u001b[38;5;124m\"\u001b[39m\u001b[38;5;124mxla\u001b[39m\u001b[38;5;124m\"\u001b[39m \u001b[38;5;28;01mif\u001b[39;00m \u001b[38;5;28mself\u001b[39m\u001b[38;5;241m.\u001b[39m_jit_compile \u001b[38;5;28;01melse\u001b[39;00m \u001b[38;5;124m\"\u001b[39m\u001b[38;5;124mnonXla\u001b[39m\u001b[38;5;124m\"\u001b[39m\n\u001b[1;32m    914\u001b[0m \u001b[38;5;28;01mwith\u001b[39;00m OptionalXlaContext(\u001b[38;5;28mself\u001b[39m\u001b[38;5;241m.\u001b[39m_jit_compile):\n\u001b[0;32m--> 915\u001b[0m   result \u001b[38;5;241m=\u001b[39m \u001b[38;5;28;43mself\u001b[39;49m\u001b[38;5;241;43m.\u001b[39;49m\u001b[43m_call\u001b[49m\u001b[43m(\u001b[49m\u001b[38;5;241;43m*\u001b[39;49m\u001b[43margs\u001b[49m\u001b[43m,\u001b[49m\u001b[43m \u001b[49m\u001b[38;5;241;43m*\u001b[39;49m\u001b[38;5;241;43m*\u001b[39;49m\u001b[43mkwds\u001b[49m\u001b[43m)\u001b[49m\n\u001b[1;32m    917\u001b[0m new_tracing_count \u001b[38;5;241m=\u001b[39m \u001b[38;5;28mself\u001b[39m\u001b[38;5;241m.\u001b[39mexperimental_get_tracing_count()\n\u001b[1;32m    918\u001b[0m without_tracing \u001b[38;5;241m=\u001b[39m (tracing_count \u001b[38;5;241m==\u001b[39m new_tracing_count)\n",
      "File \u001b[0;32m/usr/local/lib/python3.8/dist-packages/tensorflow/python/eager/def_function.py:947\u001b[0m, in \u001b[0;36mFunction._call\u001b[0;34m(self, *args, **kwds)\u001b[0m\n\u001b[1;32m    944\u001b[0m   \u001b[38;5;28mself\u001b[39m\u001b[38;5;241m.\u001b[39m_lock\u001b[38;5;241m.\u001b[39mrelease()\n\u001b[1;32m    945\u001b[0m   \u001b[38;5;66;03m# In this case we have created variables on the first call, so we run the\u001b[39;00m\n\u001b[1;32m    946\u001b[0m   \u001b[38;5;66;03m# defunned version which is guaranteed to never create variables.\u001b[39;00m\n\u001b[0;32m--> 947\u001b[0m   \u001b[38;5;28;01mreturn\u001b[39;00m \u001b[38;5;28;43mself\u001b[39;49m\u001b[38;5;241;43m.\u001b[39;49m\u001b[43m_stateless_fn\u001b[49m\u001b[43m(\u001b[49m\u001b[38;5;241;43m*\u001b[39;49m\u001b[43margs\u001b[49m\u001b[43m,\u001b[49m\u001b[43m \u001b[49m\u001b[38;5;241;43m*\u001b[39;49m\u001b[38;5;241;43m*\u001b[39;49m\u001b[43mkwds\u001b[49m\u001b[43m)\u001b[49m  \u001b[38;5;66;03m# pylint: disable=not-callable\u001b[39;00m\n\u001b[1;32m    948\u001b[0m \u001b[38;5;28;01melif\u001b[39;00m \u001b[38;5;28mself\u001b[39m\u001b[38;5;241m.\u001b[39m_stateful_fn \u001b[38;5;129;01mis\u001b[39;00m \u001b[38;5;129;01mnot\u001b[39;00m \u001b[38;5;28;01mNone\u001b[39;00m:\n\u001b[1;32m    949\u001b[0m   \u001b[38;5;66;03m# Release the lock early so that multiple threads can perform the call\u001b[39;00m\n\u001b[1;32m    950\u001b[0m   \u001b[38;5;66;03m# in parallel.\u001b[39;00m\n\u001b[1;32m    951\u001b[0m   \u001b[38;5;28mself\u001b[39m\u001b[38;5;241m.\u001b[39m_lock\u001b[38;5;241m.\u001b[39mrelease()\n",
      "File \u001b[0;32m/usr/local/lib/python3.8/dist-packages/tensorflow/python/eager/function.py:2956\u001b[0m, in \u001b[0;36mFunction.__call__\u001b[0;34m(self, *args, **kwargs)\u001b[0m\n\u001b[1;32m   2953\u001b[0m \u001b[38;5;28;01mwith\u001b[39;00m \u001b[38;5;28mself\u001b[39m\u001b[38;5;241m.\u001b[39m_lock:\n\u001b[1;32m   2954\u001b[0m   (graph_function,\n\u001b[1;32m   2955\u001b[0m    filtered_flat_args) \u001b[38;5;241m=\u001b[39m \u001b[38;5;28mself\u001b[39m\u001b[38;5;241m.\u001b[39m_maybe_define_function(args, kwargs)\n\u001b[0;32m-> 2956\u001b[0m \u001b[38;5;28;01mreturn\u001b[39;00m \u001b[43mgraph_function\u001b[49m\u001b[38;5;241;43m.\u001b[39;49m\u001b[43m_call_flat\u001b[49m\u001b[43m(\u001b[49m\n\u001b[1;32m   2957\u001b[0m \u001b[43m    \u001b[49m\u001b[43mfiltered_flat_args\u001b[49m\u001b[43m,\u001b[49m\u001b[43m \u001b[49m\u001b[43mcaptured_inputs\u001b[49m\u001b[38;5;241;43m=\u001b[39;49m\u001b[43mgraph_function\u001b[49m\u001b[38;5;241;43m.\u001b[39;49m\u001b[43mcaptured_inputs\u001b[49m\u001b[43m)\u001b[49m\n",
      "File \u001b[0;32m/usr/local/lib/python3.8/dist-packages/tensorflow/python/eager/function.py:1853\u001b[0m, in \u001b[0;36mConcreteFunction._call_flat\u001b[0;34m(self, args, captured_inputs, cancellation_manager)\u001b[0m\n\u001b[1;32m   1849\u001b[0m possible_gradient_type \u001b[38;5;241m=\u001b[39m gradients_util\u001b[38;5;241m.\u001b[39mPossibleTapeGradientTypes(args)\n\u001b[1;32m   1850\u001b[0m \u001b[38;5;28;01mif\u001b[39;00m (possible_gradient_type \u001b[38;5;241m==\u001b[39m gradients_util\u001b[38;5;241m.\u001b[39mPOSSIBLE_GRADIENT_TYPES_NONE\n\u001b[1;32m   1851\u001b[0m     \u001b[38;5;129;01mand\u001b[39;00m executing_eagerly):\n\u001b[1;32m   1852\u001b[0m   \u001b[38;5;66;03m# No tape is watching; skip to running the function.\u001b[39;00m\n\u001b[0;32m-> 1853\u001b[0m   \u001b[38;5;28;01mreturn\u001b[39;00m \u001b[38;5;28mself\u001b[39m\u001b[38;5;241m.\u001b[39m_build_call_outputs(\u001b[38;5;28;43mself\u001b[39;49m\u001b[38;5;241;43m.\u001b[39;49m\u001b[43m_inference_function\u001b[49m\u001b[38;5;241;43m.\u001b[39;49m\u001b[43mcall\u001b[49m\u001b[43m(\u001b[49m\n\u001b[1;32m   1854\u001b[0m \u001b[43m      \u001b[49m\u001b[43mctx\u001b[49m\u001b[43m,\u001b[49m\u001b[43m \u001b[49m\u001b[43margs\u001b[49m\u001b[43m,\u001b[49m\u001b[43m \u001b[49m\u001b[43mcancellation_manager\u001b[49m\u001b[38;5;241;43m=\u001b[39;49m\u001b[43mcancellation_manager\u001b[49m\u001b[43m)\u001b[49m)\n\u001b[1;32m   1855\u001b[0m forward_backward \u001b[38;5;241m=\u001b[39m \u001b[38;5;28mself\u001b[39m\u001b[38;5;241m.\u001b[39m_select_forward_and_backward_functions(\n\u001b[1;32m   1856\u001b[0m     args,\n\u001b[1;32m   1857\u001b[0m     possible_gradient_type,\n\u001b[1;32m   1858\u001b[0m     executing_eagerly)\n\u001b[1;32m   1859\u001b[0m forward_function, args_with_tangents \u001b[38;5;241m=\u001b[39m forward_backward\u001b[38;5;241m.\u001b[39mforward()\n",
      "File \u001b[0;32m/usr/local/lib/python3.8/dist-packages/tensorflow/python/eager/function.py:499\u001b[0m, in \u001b[0;36m_EagerDefinedFunction.call\u001b[0;34m(self, ctx, args, cancellation_manager)\u001b[0m\n\u001b[1;32m    497\u001b[0m \u001b[38;5;28;01mwith\u001b[39;00m _InterpolateFunctionError(\u001b[38;5;28mself\u001b[39m):\n\u001b[1;32m    498\u001b[0m   \u001b[38;5;28;01mif\u001b[39;00m cancellation_manager \u001b[38;5;129;01mis\u001b[39;00m \u001b[38;5;28;01mNone\u001b[39;00m:\n\u001b[0;32m--> 499\u001b[0m     outputs \u001b[38;5;241m=\u001b[39m \u001b[43mexecute\u001b[49m\u001b[38;5;241;43m.\u001b[39;49m\u001b[43mexecute\u001b[49m\u001b[43m(\u001b[49m\n\u001b[1;32m    500\u001b[0m \u001b[43m        \u001b[49m\u001b[38;5;28;43mstr\u001b[39;49m\u001b[43m(\u001b[49m\u001b[38;5;28;43mself\u001b[39;49m\u001b[38;5;241;43m.\u001b[39;49m\u001b[43msignature\u001b[49m\u001b[38;5;241;43m.\u001b[39;49m\u001b[43mname\u001b[49m\u001b[43m)\u001b[49m\u001b[43m,\u001b[49m\n\u001b[1;32m    501\u001b[0m \u001b[43m        \u001b[49m\u001b[43mnum_outputs\u001b[49m\u001b[38;5;241;43m=\u001b[39;49m\u001b[38;5;28;43mself\u001b[39;49m\u001b[38;5;241;43m.\u001b[39;49m\u001b[43m_num_outputs\u001b[49m\u001b[43m,\u001b[49m\n\u001b[1;32m    502\u001b[0m \u001b[43m        \u001b[49m\u001b[43minputs\u001b[49m\u001b[38;5;241;43m=\u001b[39;49m\u001b[43margs\u001b[49m\u001b[43m,\u001b[49m\n\u001b[1;32m    503\u001b[0m \u001b[43m        \u001b[49m\u001b[43mattrs\u001b[49m\u001b[38;5;241;43m=\u001b[39;49m\u001b[43mattrs\u001b[49m\u001b[43m,\u001b[49m\n\u001b[1;32m    504\u001b[0m \u001b[43m        \u001b[49m\u001b[43mctx\u001b[49m\u001b[38;5;241;43m=\u001b[39;49m\u001b[43mctx\u001b[49m\u001b[43m)\u001b[49m\n\u001b[1;32m    505\u001b[0m   \u001b[38;5;28;01melse\u001b[39;00m:\n\u001b[1;32m    506\u001b[0m     outputs \u001b[38;5;241m=\u001b[39m execute\u001b[38;5;241m.\u001b[39mexecute_with_cancellation(\n\u001b[1;32m    507\u001b[0m         \u001b[38;5;28mstr\u001b[39m(\u001b[38;5;28mself\u001b[39m\u001b[38;5;241m.\u001b[39msignature\u001b[38;5;241m.\u001b[39mname),\n\u001b[1;32m    508\u001b[0m         num_outputs\u001b[38;5;241m=\u001b[39m\u001b[38;5;28mself\u001b[39m\u001b[38;5;241m.\u001b[39m_num_outputs,\n\u001b[0;32m   (...)\u001b[0m\n\u001b[1;32m    511\u001b[0m         ctx\u001b[38;5;241m=\u001b[39mctx,\n\u001b[1;32m    512\u001b[0m         cancellation_manager\u001b[38;5;241m=\u001b[39mcancellation_manager)\n",
      "File \u001b[0;32m/usr/local/lib/python3.8/dist-packages/tensorflow/python/eager/execute.py:54\u001b[0m, in \u001b[0;36mquick_execute\u001b[0;34m(op_name, num_outputs, inputs, attrs, ctx, name)\u001b[0m\n\u001b[1;32m     52\u001b[0m \u001b[38;5;28;01mtry\u001b[39;00m:\n\u001b[1;32m     53\u001b[0m   ctx\u001b[38;5;241m.\u001b[39mensure_initialized()\n\u001b[0;32m---> 54\u001b[0m   tensors \u001b[38;5;241m=\u001b[39m \u001b[43mpywrap_tfe\u001b[49m\u001b[38;5;241;43m.\u001b[39;49m\u001b[43mTFE_Py_Execute\u001b[49m\u001b[43m(\u001b[49m\u001b[43mctx\u001b[49m\u001b[38;5;241;43m.\u001b[39;49m\u001b[43m_handle\u001b[49m\u001b[43m,\u001b[49m\u001b[43m \u001b[49m\u001b[43mdevice_name\u001b[49m\u001b[43m,\u001b[49m\u001b[43m \u001b[49m\u001b[43mop_name\u001b[49m\u001b[43m,\u001b[49m\n\u001b[1;32m     55\u001b[0m \u001b[43m                                      \u001b[49m\u001b[43minputs\u001b[49m\u001b[43m,\u001b[49m\u001b[43m \u001b[49m\u001b[43mattrs\u001b[49m\u001b[43m,\u001b[49m\u001b[43m \u001b[49m\u001b[43mnum_outputs\u001b[49m\u001b[43m)\u001b[49m\n\u001b[1;32m     56\u001b[0m \u001b[38;5;28;01mexcept\u001b[39;00m core\u001b[38;5;241m.\u001b[39m_NotOkStatusException \u001b[38;5;28;01mas\u001b[39;00m e:\n\u001b[1;32m     57\u001b[0m   \u001b[38;5;28;01mif\u001b[39;00m name \u001b[38;5;129;01mis\u001b[39;00m \u001b[38;5;129;01mnot\u001b[39;00m \u001b[38;5;28;01mNone\u001b[39;00m:\n",
      "\u001b[0;31mKeyboardInterrupt\u001b[0m: "
     ]
    }
   ],
   "source": [
    "# Build a small Pixel CNN++ model to train on MNIST.\n",
    "\n",
    "import tensorflow as tf\n",
    "import tensorflow_datasets as tfds\n",
    "import tensorflow_probability as tfp\n",
    "\n",
    "tfd = tfp.distributions\n",
    "tfk = tf.keras\n",
    "tfkl = tf.keras.layers\n",
    "\n",
    "# Load MNIST from tensorflow_datasets\n",
    "data = tfds.load('fashion_mnist')\n",
    "train_data, test_data = data['train'], data['test']\n",
    "\n",
    "def image_preprocess(x):\n",
    "  x['image'] = tf.cast(x['image'], tf.float32)\n",
    "  return (x['image'],)  # (input, output) of the model\n",
    "\n",
    "batch_size = 16\n",
    "train_it = train_data.map(image_preprocess).batch(batch_size).shuffle(1000)\n",
    "\n",
    "image_shape = (28, 28, 1)\n",
    "# Define a Pixel CNN network\n",
    "dist = tfd.PixelCNN(\n",
    "    image_shape=image_shape,\n",
    "    num_resnet=1,\n",
    "    num_hierarchies=2,\n",
    "    num_filters=32,\n",
    "    num_logistic_mix=5,\n",
    "    dropout_p=.3,\n",
    ")\n",
    "\n",
    "# Define the model input\n",
    "image_input = tfkl.Input(shape=image_shape)\n",
    "\n",
    "# Define the log likelihood for the loss fn\n",
    "log_prob = dist.log_prob(image_input)\n",
    "\n",
    "# Define the model\n",
    "model = tfk.Model(inputs=image_input, outputs=log_prob)\n",
    "model.add_loss(-tf.reduce_mean(log_prob))\n",
    "\n",
    "# Compile and train the model\n",
    "model.compile(\n",
    "    optimizer=tfk.optimizers.Adam(.001),\n",
    "    metrics=[])\n",
    "\n",
    "model.fit(train_it, epochs=10, verbose=True)"
   ]
  },
  {
   "cell_type": "code",
   "execution_count": 11,
   "id": "0fc8fe73-5f6c-4fdd-b855-0f16a1f37d11",
   "metadata": {},
   "outputs": [],
   "source": [
    "# sample images from the trained model\n",
    "samples = dist.sample(10)"
   ]
  },
  {
   "cell_type": "code",
   "execution_count": 12,
   "id": "a878580f-386c-41da-8885-66f265cddf14",
   "metadata": {},
   "outputs": [
    {
     "data": {
      "text/plain": [
       "TensorShape([10, 28, 28, 1])"
      ]
     },
     "execution_count": 12,
     "metadata": {},
     "output_type": "execute_result"
    }
   ],
   "source": [
    "samples.shape"
   ]
  },
  {
   "cell_type": "code",
   "execution_count": 13,
   "id": "acc43296-33d0-4bf0-b216-473f2e076eb8",
   "metadata": {},
   "outputs": [
    {
     "data": {
      "image/png": "[encoded data removed]",
      "text/plain": [
       "<Figure size 1440x216 with 10 Axes>"
      ]
     },
     "metadata": {
      "needs_background": "light"
     },
     "output_type": "display_data"
    }
   ],
   "source": [
    "from utils.image import display\n",
    "display(samples.numpy())"
   ]
  },
  {
   "cell_type": "code",
   "execution_count": 14,
   "id": "86511260-e43a-403b-baee-36c2c360d139",
   "metadata": {},
   "outputs": [
    {
     "name": "stdout",
     "output_type": "stream",
     "text": [
      "Model: \"model_3\"\n",
      "__________________________________________________________________________________________________\n",
      " Layer (type)                   Output Shape         Param #     Connected to                     \n",
      "==================================================================================================\n",
      " input_4 (InputLayer)           [(None, 28, 28, 1)]  0           []                               \n",
      "                                                                                                  \n",
      " tf.reshape_5 (TFOpLambda)      (None, 28, 28, 1)    0           ['input_4[0][0]']                \n",
      "                                                                                                  \n",
      " tf.convert_to_tensor_11 (TFOpL  (None, 28, 28, 1)   0           ['tf.reshape_5[0][0]']           \n",
      " ambda)                                                                                           \n",
      "                                                                                                  \n",
      " tf.math.subtract_13 (TFOpLambd  (None, 28, 28, 1)   0           ['tf.reshape_5[0][0]']           \n",
      " a)                                                                                               \n",
      "                                                                                                  \n",
      " tf.compat.v1.shape_3 (TFOpLamb  (4,)                0           ['tf.convert_to_tensor_11[0][0]']\n",
      " da)                                                                                              \n",
      "                                                                                                  \n",
      " tf.math.multiply_3 (TFOpLambda  (None, 28, 28, 1)   0           ['tf.math.subtract_13[0][0]']    \n",
      " )                                                                                                \n",
      "                                                                                                  \n",
      " tf.convert_to_tensor_12 (TFOpL  (4,)                0           ['tf.compat.v1.shape_3[0][0]']   \n",
      " ambda)                                                                                           \n",
      "                                                                                                  \n",
      " tf.math.truediv_5 (TFOpLambda)  (None, 28, 28, 1)   0           ['tf.math.multiply_3[0][0]']     \n",
      "                                                                                                  \n",
      " tf.__operators__.getitem_4 (Sl  (3,)                0           ['tf.convert_to_tensor_12[0][0]']\n",
      " icingOpLambda)                                                                                   \n",
      "                                                                                                  \n",
      " tf.__operators__.getitem_5 (Sl  (1,)                0           ['tf.convert_to_tensor_12[0][0]']\n",
      " icingOpLambda)                                                                                   \n",
      "                                                                                                  \n",
      " tf.math.subtract_14 (TFOpLambd  (None, 28, 28, 1)   0           ['tf.math.truediv_5[0][0]']      \n",
      " a)                                                                                               \n",
      "                                                                                                  \n",
      " tf.concat_1 (TFOpLambda)       (5,)                 0           ['tf.__operators__.getitem_4[0][0\n",
      "                                                                 ]',                              \n",
      "                                                                  'tf.__operators__.getitem_5[0][0\n",
      "                                                                 ]']                              \n",
      "                                                                                                  \n",
      " private__pixel_cnn_network_1 (  [(None, 28, 28, 5),  625026     ['tf.math.subtract_14[0][0]']    \n",
      " _PixelCNNNetwork)               (None, 28, 28, 5,                                                \n",
      "                                1),                                                               \n",
      "                                 (None, 28, 28, 5,                                                \n",
      "                                1)]                                                               \n",
      "                                                                                                  \n",
      " tf.reshape_6 (TFOpLambda)      (None, 28, 28, 1, 1  0           ['tf.reshape_5[0][0]',           \n",
      "                                )                                 'tf.concat_1[0][0]']            \n",
      "                                                                                                  \n",
      " tf.__operators__.add_6 (TFOpLa  (None, 28, 28, 5, 1  0          ['private__pixel_cnn_network_1[0]\n",
      " mbda)                          )                                [1]']                            \n",
      "                                                                                                  \n",
      " tf.math.floor_3 (TFOpLambda)   (None, 28, 28, 1, 1  0           ['tf.reshape_6[0][0]']           \n",
      "                                )                                                                 \n",
      "                                                                                                  \n",
      " tf.math.multiply_4 (TFOpLambda  (None, 28, 28, 5, 1  0          ['tf.__operators__.add_6[0][0]'] \n",
      " )                              )                                                                 \n",
      "                                                                                                  \n",
      " tf.__operators__.add_7 (TFOpLa  (None, 28, 28, 5, 1  0          ['tf.math.multiply_4[0][0]']     \n",
      " mbda)                          )                                                                 \n",
      "                                                                                                  \n",
      " tf.math.floor_4 (TFOpLambda)   (None, 28, 28, 1, 1  0           ['tf.math.floor_3[0][0]']        \n",
      "                                )                                                                 \n",
      "                                                                                                  \n",
      " tf.math.subtract_22 (TFOpLambd  (None, 28, 28, 1, 1  0          ['tf.math.floor_3[0][0]']        \n",
      " a)                             )                                                                 \n",
      "                                                                                                  \n",
      " tf.math.ceil_2 (TFOpLambda)    (None, 28, 28, 1, 1  0           ['tf.math.floor_3[0][0]']        \n",
      "                                )                                                                 \n",
      "                                                                                                  \n",
      " tf.convert_to_tensor_9 (TFOpLa  (None, 28, 28, 5, 1  0          ['tf.__operators__.add_7[0][0]'] \n",
      " mbda)                          )                                                                 \n",
      "                                                                                                  \n",
      " tf.math.multiply_5 (TFOpLambda  (None, 28, 28, 5, 1  0          ['private__pixel_cnn_network_1[0]\n",
      " )                              )                                [2]']                            \n",
      "                                                                                                  \n",
      " tf.math.subtract_20 (TFOpLambd  (None, 28, 28, 1, 1  0          ['tf.math.floor_4[0][0]']        \n",
      " a)                             )                                                                 \n",
      "                                                                                                  \n",
      " tf.math.subtract_17 (TFOpLambd  (None, 28, 28, 1, 1  0          ['tf.math.floor_3[0][0]']        \n",
      " a)                             )                                                                 \n",
      "                                                                                                  \n",
      " tf.math.floor_5 (TFOpLambda)   (None, 28, 28, 1, 1  0           ['tf.math.subtract_22[0][0]']    \n",
      "                                )                                                                 \n",
      "                                                                                                  \n",
      " tf.math.subtract_15 (TFOpLambd  (None, 28, 28, 1, 1  0          ['tf.math.ceil_2[0][0]']         \n",
      " a)                             )                                                                 \n",
      "                                                                                                  \n",
      " tf.convert_to_tensor_10 (TFOpL  (None, 28, 28, 5, 1  0          ['tf.math.multiply_5[0][0]']     \n",
      " ambda)                         )                                                                 \n",
      "                                                                                                  \n",
      " tf.math.subtract_21 (TFOpLambd  (None, 28, 28, 5, 1  0          ['tf.math.subtract_20[0][0]',    \n",
      " a)                             )                                 'tf.convert_to_tensor_9[0][0]'] \n",
      "                                                                                                  \n",
      " tf.math.ceil_3 (TFOpLambda)    (None, 28, 28, 1, 1  0           ['tf.math.subtract_17[0][0]']    \n",
      "                                )                                                                 \n",
      "                                                                                                  \n",
      " tf.math.subtract_23 (TFOpLambd  (None, 28, 28, 1, 1  0          ['tf.math.floor_5[0][0]']        \n",
      " a)                             )                                                                 \n",
      "                                                                                                  \n",
      " tf.math.subtract_16 (TFOpLambd  (None, 28, 28, 5, 1  0          ['tf.math.subtract_15[0][0]',    \n",
      " a)                             )                                 'tf.convert_to_tensor_9[0][0]'] \n",
      "                                                                                                  \n",
      " tf.math.truediv_8 (TFOpLambda)  (None, 28, 28, 5, 1  0          ['tf.math.subtract_21[0][0]',    \n",
      "                                )                                 'tf.convert_to_tensor_10[0][0]']\n",
      "                                                                                                  \n",
      " tf.math.subtract_18 (TFOpLambd  (None, 28, 28, 1, 1  0          ['tf.math.ceil_3[0][0]']         \n",
      " a)                             )                                                                 \n",
      "                                                                                                  \n",
      " tf.math.subtract_24 (TFOpLambd  (None, 28, 28, 5, 1  0          ['tf.math.subtract_23[0][0]',    \n",
      " a)                             )                                 'tf.convert_to_tensor_9[0][0]'] \n",
      "                                                                                                  \n",
      " tf.math.truediv_6 (TFOpLambda)  (None, 28, 28, 5, 1  0          ['tf.math.subtract_16[0][0]',    \n",
      "                                )                                 'tf.convert_to_tensor_10[0][0]']\n",
      "                                                                                                  \n",
      " tf.math.negative_10 (TFOpLambd  (None, 28, 28, 5, 1  0          ['tf.math.truediv_8[0][0]']      \n",
      " a)                             )                                                                 \n",
      "                                                                                                  \n",
      " tf.math.subtract_19 (TFOpLambd  (None, 28, 28, 5, 1  0          ['tf.math.subtract_18[0][0]',    \n",
      " a)                             )                                 'tf.convert_to_tensor_9[0][0]'] \n",
      "                                                                                                  \n",
      " tf.math.truediv_9 (TFOpLambda)  (None, 28, 28, 5, 1  0          ['tf.math.subtract_24[0][0]',    \n",
      "                                )                                 'tf.convert_to_tensor_10[0][0]']\n",
      "                                                                                                  \n",
      " tf.math.softplus_6 (TFOpLambda  (None, 28, 28, 5, 1  0          ['tf.math.truediv_6[0][0]']      \n",
      " )                              )                                                                 \n",
      "                                                                                                  \n",
      " tf.math.softplus_8 (TFOpLambda  (None, 28, 28, 5, 1  0          ['tf.math.negative_10[0][0]']    \n",
      " )                              )                                                                 \n",
      "                                                                                                  \n",
      " tf.math.truediv_7 (TFOpLambda)  (None, 28, 28, 5, 1  0          ['tf.math.subtract_19[0][0]',    \n",
      "                                )                                 'tf.convert_to_tensor_10[0][0]']\n",
      "                                                                                                  \n",
      " tf.math.negative_12 (TFOpLambd  (None, 28, 28, 5, 1  0          ['tf.math.truediv_9[0][0]']      \n",
      " a)                             )                                                                 \n",
      "                                                                                                  \n",
      " tf.math.less_10 (TFOpLambda)   (None, 28, 28, 1, 1  0           ['tf.math.ceil_2[0][0]']         \n",
      "                                )                                                                 \n",
      "                                                                                                  \n",
      " tf.math.negative_8 (TFOpLambda  (None, 28, 28, 5, 1  0          ['tf.math.softplus_6[0][0]']     \n",
      " )                              )                                                                 \n",
      "                                                                                                  \n",
      " tf.math.less_14 (TFOpLambda)   (None, 28, 28, 1, 1  0           ['tf.math.floor_4[0][0]']        \n",
      "                                )                                                                 \n",
      "                                                                                                  \n",
      " tf.math.negative_11 (TFOpLambd  (None, 28, 28, 5, 1  0          ['tf.math.softplus_8[0][0]']     \n",
      " a)                             )                                                                 \n",
      "                                                                                                  \n",
      " tf.math.softplus_7 (TFOpLambda  (None, 28, 28, 5, 1  0          ['tf.math.truediv_7[0][0]']      \n",
      " )                              )                                                                 \n",
      "                                                                                                  \n",
      " tf.math.softplus_9 (TFOpLambda  (None, 28, 28, 5, 1  0          ['tf.math.negative_12[0][0]']    \n",
      " )                              )                                                                 \n",
      "                                                                                                  \n",
      " tf.math.less_11 (TFOpLambda)   (None, 28, 28, 1, 1  0           ['tf.math.ceil_2[0][0]']         \n",
      "                                )                                                                 \n",
      "                                                                                                  \n",
      " tf.where_10 (TFOpLambda)       (None, 28, 28, 5, 1  0           ['tf.math.less_10[0][0]',        \n",
      "                                )                                 'tf.math.negative_8[0][0]']     \n",
      "                                                                                                  \n",
      " tf.math.less_15 (TFOpLambda)   (None, 28, 28, 1, 1  0           ['tf.math.floor_4[0][0]']        \n",
      "                                )                                                                 \n",
      "                                                                                                  \n",
      " tf.where_14 (TFOpLambda)       (None, 28, 28, 5, 1  0           ['tf.math.less_14[0][0]',        \n",
      "                                )                                 'tf.math.negative_11[0][0]']    \n",
      "                                                                                                  \n",
      " tf.math.less_12 (TFOpLambda)   (None, 28, 28, 1, 1  0           ['tf.math.ceil_3[0][0]']         \n",
      "                                )                                                                 \n",
      "                                                                                                  \n",
      " tf.math.negative_9 (TFOpLambda  (None, 28, 28, 5, 1  0          ['tf.math.softplus_7[0][0]']     \n",
      " )                              )                                                                 \n",
      "                                                                                                  \n",
      " tf.math.less_16 (TFOpLambda)   (None, 28, 28, 1, 1  0           ['tf.math.floor_5[0][0]']        \n",
      "                                )                                                                 \n",
      "                                                                                                  \n",
      " tf.math.negative_13 (TFOpLambd  (None, 28, 28, 5, 1  0          ['tf.math.softplus_9[0][0]']     \n",
      " a)                             )                                                                 \n",
      "                                                                                                  \n",
      " tf.where_11 (TFOpLambda)       (None, 28, 28, 5, 1  0           ['tf.math.less_11[0][0]',        \n",
      "                                )                                 'tf.where_10[0][0]']            \n",
      "                                                                                                  \n",
      " tf.where_15 (TFOpLambda)       (None, 28, 28, 5, 1  0           ['tf.math.less_15[0][0]',        \n",
      "                                )                                 'tf.where_14[0][0]']            \n",
      "                                                                                                  \n",
      " tf.math.less_13 (TFOpLambda)   (None, 28, 28, 1, 1  0           ['tf.math.ceil_3[0][0]']         \n",
      "                                )                                                                 \n",
      "                                                                                                  \n",
      " tf.where_12 (TFOpLambda)       (None, 28, 28, 5, 1  0           ['tf.math.less_12[0][0]',        \n",
      "                                )                                 'tf.math.negative_9[0][0]']     \n",
      "                                                                                                  \n",
      " tf.math.less_17 (TFOpLambda)   (None, 28, 28, 1, 1  0           ['tf.math.floor_5[0][0]']        \n",
      "                                )                                                                 \n",
      "                                                                                                  \n",
      " tf.where_16 (TFOpLambda)       (None, 28, 28, 5, 1  0           ['tf.math.less_16[0][0]',        \n",
      "                                )                                 'tf.math.negative_13[0][0]']    \n",
      "                                                                                                  \n",
      " tf.math.less_18 (TFOpLambda)   (None, 28, 28, 5, 1  0           ['tf.where_11[0][0]',            \n",
      "                                )                                 'tf.where_15[0][0]']            \n",
      "                                                                                                  \n",
      " tf.where_13 (TFOpLambda)       (None, 28, 28, 5, 1  0           ['tf.math.less_13[0][0]',        \n",
      "                                )                                 'tf.where_12[0][0]']            \n",
      "                                                                                                  \n",
      " tf.math.less_19 (TFOpLambda)   (None, 28, 28, 5, 1  0           ['tf.where_11[0][0]',            \n",
      "                                )                                 'tf.where_15[0][0]']            \n",
      "                                                                                                  \n",
      " tf.where_17 (TFOpLambda)       (None, 28, 28, 5, 1  0           ['tf.math.less_17[0][0]',        \n",
      "                                )                                 'tf.where_16[0][0]']            \n",
      "                                                                                                  \n",
      " tf.where_18 (TFOpLambda)       (None, 28, 28, 5, 1  0           ['tf.math.less_18[0][0]',        \n",
      "                                )                                 'tf.where_13[0][0]',            \n",
      "                                                                  'tf.where_15[0][0]']            \n",
      "                                                                                                  \n",
      " tf.where_19 (TFOpLambda)       (None, 28, 28, 5, 1  0           ['tf.math.less_19[0][0]',        \n",
      "                                )                                 'tf.where_11[0][0]',            \n",
      "                                                                  'tf.where_17[0][0]']            \n",
      "                                                                                                  \n",
      " tf.math.subtract_25 (TFOpLambd  (None, 28, 28, 5, 1  0          ['tf.where_19[0][0]',            \n",
      " a)                             )                                 'tf.where_18[0][0]']            \n",
      "                                                                                                  \n",
      " tf.math.exp_1 (TFOpLambda)     (None, 28, 28, 5, 1  0           ['tf.math.subtract_25[0][0]']    \n",
      "                                )                                                                 \n",
      "                                                                                                  \n",
      " tf.math.negative_14 (TFOpLambd  (None, 28, 28, 5, 1  0          ['tf.math.exp_1[0][0]']          \n",
      " a)                             )                                                                 \n",
      "                                                                                                  \n",
      " tf.math.log1p_1 (TFOpLambda)   (None, 28, 28, 5, 1  0           ['tf.math.negative_14[0][0]']    \n",
      "                                )                                                                 \n",
      "                                                                                                  \n",
      " tf.convert_to_tensor_8 (TFOpLa  (None, 28, 28, 5)   0           ['private__pixel_cnn_network_1[0]\n",
      " mbda)                                                           [0]']                            \n",
      "                                                                                                  \n",
      " tf.__operators__.add_8 (TFOpLa  (None, 28, 28, 5, 1  0          ['tf.where_18[0][0]',            \n",
      " mbda)                          )                                 'tf.math.log1p_1[0][0]']        \n",
      "                                                                                                  \n",
      " tf.convert_to_tensor_13 (TFOpL  (None, 28, 28, 5)   0           ['tf.convert_to_tensor_8[0][0]'] \n",
      " ambda)                                                                                           \n",
      "                                                                                                  \n",
      " tf.math.reduce_sum_2 (TFOpLamb  (None, 28, 28, 5)   0           ['tf.__operators__.add_8[0][0]'] \n",
      " da)                                                                                              \n",
      "                                                                                                  \n",
      " tf.nn.log_softmax_1 (TFOpLambd  (None, 28, 28, 5)   0           ['tf.convert_to_tensor_13[0][0]']\n",
      " a)                                                                                               \n",
      "                                                                                                  \n",
      " tf.__operators__.add_9 (TFOpLa  (None, 28, 28, 5)   0           ['tf.math.reduce_sum_2[0][0]',   \n",
      " mbda)                                                            'tf.nn.log_softmax_1[0][0]']    \n",
      "                                                                                                  \n",
      " tf.convert_to_tensor_7 (TFOpLa  (None, 28, 28, 1)   0           ['input_4[0][0]']                \n",
      " mbda)                                                                                            \n",
      "                                                                                                  \n",
      " tf.math.reduce_logsumexp_1 (TF  (None, 28, 28)      0           ['tf.__operators__.add_9[0][0]'] \n",
      " OpLambda)                                                                                        \n",
      "                                                                                                  \n",
      " tf.compat.v1.shape_2 (TFOpLamb  (4,)                0           ['tf.convert_to_tensor_7[0][0]'] \n",
      " da)                                                                                              \n",
      "                                                                                                  \n",
      " tf.math.reduce_sum_3 (TFOpLamb  (None,)             0           ['tf.math.reduce_logsumexp_1[0][0\n",
      " da)                                                             ]']                              \n",
      "                                                                                                  \n",
      " tf.__operators__.getitem_3 (Sl  (1,)                0           ['tf.compat.v1.shape_2[0][0]']   \n",
      " icingOpLambda)                                                                                   \n",
      "                                                                                                  \n",
      " tf.reshape_7 (TFOpLambda)      (None,)              0           ['tf.math.reduce_sum_3[0][0]',   \n",
      "                                                                  'tf.__operators__.getitem_3[0][0\n",
      "                                                                 ]']                              \n",
      "                                                                                                  \n",
      " tf.math.reduce_mean_1 (TFOpLam  ()                  0           ['tf.reshape_7[0][0]']           \n",
      " bda)                                                                                             \n",
      "                                                                                                  \n",
      " tf.math.negative_15 (TFOpLambd  ()                  0           ['tf.math.reduce_mean_1[0][0]']  \n",
      " a)                                                                                               \n",
      "                                                                                                  \n",
      " add_loss_1 (AddLoss)           ()                   0           ['tf.math.negative_15[0][0]']    \n",
      "                                                                                                  \n",
      "==================================================================================================\n",
      "Total params: 625,026\n",
      "Trainable params: 624,990\n",
      "Non-trainable params: 36\n",
      "__________________________________________________________________________________________________\n"
     ]
    }
   ],
   "source": [
    "model.summary()"
   ]
  },
  {
   "cell_type": "code",
   "execution_count": 32,
   "id": "2d67a493-16b1-4bd5-9efb-1c9516d032fc",
   "metadata": {},
   "outputs": [],
   "source": [
    "import numpy as np\n",
    "preds3 = model.predict(np.concatenate([list(train_it.take(1))[0][0][:1, :14,:,:].numpy(), np.zeros(shape=(1,14,28,1))], axis = 1 ))\n",
    "# preds3 = np.argmax(preds3, axis = -1)"
   ]
  },
  {
   "cell_type": "code",
   "execution_count": 33,
   "id": "47b58ed7-c0fd-4e8f-b9f9-ad4ff46991a2",
   "metadata": {},
   "outputs": [
    {
     "data": {
      "text/plain": [
       "(1,)"
      ]
     },
     "execution_count": 33,
     "metadata": {},
     "output_type": "execute_result"
    }
   ],
   "source": [
    "preds3.shape"
   ]
  },
  {
   "cell_type": "code",
   "execution_count": 30,
   "id": "5fb4933f-0323-440d-8146-aa17e164266c",
   "metadata": {},
   "outputs": [
    {
     "ename": "IndexError",
     "evalue": "invalid index to scalar variable.",
     "output_type": "error",
     "traceback": [
      "\u001b[0;31m---------------------------------------------------------------------------\u001b[0m",
      "\u001b[0;31mIndexError\u001b[0m                                Traceback (most recent call last)",
      "Input \u001b[0;32mIn [30]\u001b[0m, in \u001b[0;36m<cell line: 1>\u001b[0;34m()\u001b[0m\n\u001b[0;32m----> 1\u001b[0m \u001b[43mdisplay\u001b[49m\u001b[43m(\u001b[49m\u001b[43mpreds3\u001b[49m\u001b[43m,\u001b[49m\u001b[43m \u001b[49m\u001b[43mn\u001b[49m\u001b[43m \u001b[49m\u001b[38;5;241;43m=\u001b[39;49m\u001b[43m \u001b[49m\u001b[38;5;241;43m1\u001b[39;49m\u001b[43m)\u001b[49m\n",
      "File \u001b[0;32m/app/utils/image.py:19\u001b[0m, in \u001b[0;36mdisplay\u001b[0;34m(images, n, size, cmap, as_type, save_to)\u001b[0m\n\u001b[1;32m     17\u001b[0m \u001b[38;5;28;01mfor\u001b[39;00m i \u001b[38;5;129;01min\u001b[39;00m \u001b[38;5;28mrange\u001b[39m(n):\n\u001b[1;32m     18\u001b[0m     ax \u001b[38;5;241m=\u001b[39m plt\u001b[38;5;241m.\u001b[39msubplot(\u001b[38;5;241m1\u001b[39m, n, i \u001b[38;5;241m+\u001b[39m \u001b[38;5;241m1\u001b[39m)\n\u001b[0;32m---> 19\u001b[0m     plt\u001b[38;5;241m.\u001b[39mimshow(\u001b[43mimages\u001b[49m\u001b[43m[\u001b[49m\u001b[43mi\u001b[49m\u001b[43m]\u001b[49m\u001b[38;5;241m.\u001b[39mastype(as_type), cmap\u001b[38;5;241m=\u001b[39mcmap)\n\u001b[1;32m     20\u001b[0m     plt\u001b[38;5;241m.\u001b[39maxis(\u001b[38;5;124m\"\u001b[39m\u001b[38;5;124moff\u001b[39m\u001b[38;5;124m\"\u001b[39m)\n\u001b[1;32m     22\u001b[0m \u001b[38;5;28;01mif\u001b[39;00m save_to:\n",
      "\u001b[0;31mIndexError\u001b[0m: invalid index to scalar variable."
     ]
    },
    {
     "data": {
      "image/png": "[encoded data removed]",
      "text/plain": [
       "<Figure size 1440x216 with 1 Axes>"
      ]
     },
     "metadata": {
      "needs_background": "light"
     },
     "output_type": "display_data"
    }
   ],
   "source": [
    "display(preds3, n = 1)"
   ]
  },
  {
   "cell_type": "code",
   "execution_count": null,
   "id": "e1cffdb7-4531-4916-93b6-d77a260f1870",
   "metadata": {},
   "outputs": [],
   "source": []
  }
 ],
 "metadata": {
  "kernelspec": {
   "display_name": "Python 3 (ipykernel)",
   "language": "python",
   "name": "python3"
  },
  "language_info": {
   "codemirror_mode": {
    "name": "ipython",
    "version": 3
   },
   "file_extension": ".py",
   "mimetype": "text/x-python",
   "name": "python",
   "nbconvert_exporter": "python",
   "pygments_lexer": "ipython3",
   "version": "3.8.10"
  }
 },
 "nbformat": 4,
 "nbformat_minor": 5
}
