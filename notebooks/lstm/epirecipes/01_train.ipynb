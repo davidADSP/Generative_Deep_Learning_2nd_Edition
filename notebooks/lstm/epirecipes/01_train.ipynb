{
 "cells": [
  {
   "cell_type": "markdown",
   "id": "b076bd1a-b236-4fbc-953d-8295b25122ae",
   "metadata": {},
   "source": [
    "# 🥙 LSTM on Recipe Data"
   ]
  },
  {
   "cell_type": "markdown",
   "id": "b863c414-1946-4482-b0d0-1552ee5ffd41",
   "metadata": {},
   "source": [
    "## Table of contents\n",
    "0. [Parameters](#parameters)\n",
    "1. [Load the Data](#load)\n",
    "2. [Tokensise the Data](#tokenise)\n",
    "3. [Create the Training Set](#create)\n",
    "4. [Build the LSTM](#build)\n",
    "5. [Train the LSTM](#train)"
   ]
  },
  {
   "cell_type": "code",
   "execution_count": 5,
   "id": "4dca6836-0007-43f3-af65-d12ae1922c02",
   "metadata": {},
   "outputs": [],
   "source": [
    "%load_ext autoreload\n",
    "%autoreload 2"
   ]
  },
  {
   "cell_type": "code",
   "execution_count": 3,
   "id": "4e0d56cc-4773-4029-97d8-26f882ba79c9",
   "metadata": {},
   "outputs": [],
   "source": [
    "import numpy as np\n",
    "import matplotlib.pyplot as plt\n",
    "import os\n",
    "import json\n",
    "from pprint import pprint\n",
    "import random\n",
    "import re\n",
    "import string\n",
    "\n",
    "import tensorflow as tf\n",
    "import tensorflow.keras as keras"
   ]
  },
  {
   "cell_type": "markdown",
   "id": "339e6268-ebd7-4feb-86db-1fe7abccdbe5",
   "metadata": {},
   "source": [
    "## 0. Parameters <a name=\"parameters\"></a>"
   ]
  },
  {
   "cell_type": "code",
   "execution_count": 4,
   "id": "2d8352af-343e-4c2e-8c91-95f8bac1c8a1",
   "metadata": {},
   "outputs": [],
   "source": [
    "VOCAB_SIZE = 10000\n",
    "MAX_LEN = 200\n",
    "EMBEDDING_DIM = 100\n",
    "N_UNITS = 128\n",
    "VALIDATION_SPLIT = 0.2\n",
    "SEED = 42\n",
    "LOAD_MODEL = True\n",
    "BATCH_SIZE = 32"
   ]
  },
  {
   "cell_type": "markdown",
   "id": "b7716fac-0010-49b0-b98e-53be2259edde",
   "metadata": {},
   "source": [
    "## 1. Load the data <a name=\"load\"></a>"
   ]
  },
  {
   "cell_type": "code",
   "execution_count": 5,
   "id": "93cf6b0f-9667-4146-8911-763a8a2925d3",
   "metadata": {
    "tags": []
   },
   "outputs": [],
   "source": [
    "# Load the full dataset\n",
    "with open('/app/data/epirecipes/full_format_recipes.json') as json_data:\n",
    "    recipe_data = json.load(json_data)\n",
    "    "
   ]
  },
  {
   "cell_type": "code",
   "execution_count": 6,
   "id": "23a74eca-f1b7-4a46-9a1f-b5806a4ed361",
   "metadata": {
    "tags": []
   },
   "outputs": [],
   "source": [
    "# Filter the dataset\n",
    "filtered_data = ['Recipe for ' + x['title']+ ' | ' + ' '.join(x['directions']) for x in recipe_data\n",
    "              if 'title' in x\n",
    "              and x['title'] is not None\n",
    "              and 'directions' in x\n",
    "              and x['directions'] is not None\n",
    "             ]"
   ]
  },
  {
   "cell_type": "code",
   "execution_count": 7,
   "id": "389c20de-0422-4c48-a7b4-6ee12a7bf0e2",
   "metadata": {
    "tags": []
   },
   "outputs": [
    {
     "name": "stdout",
     "output_type": "stream",
     "text": [
      "20111 recipes loaded\n"
     ]
    }
   ],
   "source": [
    "# Count the recipes\n",
    "n_recipes = len(filtered_data)\n",
    "print(f'{n_recipes} recipes loaded')"
   ]
  },
  {
   "cell_type": "code",
   "execution_count": 8,
   "id": "1b2e3cf7-e416-460e-874a-0dd9637bca36",
   "metadata": {},
   "outputs": [
    {
     "name": "stdout",
     "output_type": "stream",
     "text": [
      "Recipe for Ham Persillade with Mustard Potato Salad and Mashed Peas  | Chop enough parsley leaves to measure 1 tablespoon; reserve. Chop remaining leaves and stems and simmer with broth and garlic in a small saucepan, covered, 5 minutes. Meanwhile, sprinkle gelatin over water in a medium bowl and let soften 1 minute. Strain broth through a fine-mesh sieve into bowl with gelatin and stir to dissolve. Season with salt and pepper. Set bowl in an ice bath and cool to room temperature, stirring. Toss ham with reserved parsley and divide among jars. Pour gelatin on top and chill until set, at least 1 hour. Whisk together mayonnaise, mustard, vinegar, 1/4 teaspoon salt, and 1/4 teaspoon pepper in a large bowl. Stir in celery, cornichons, and potatoes. Pulse peas with marjoram, oil, 1/2 teaspoon pepper, and 1/4 teaspoon salt in a food processor to a coarse mash. Layer peas, then potato salad, over ham.\n"
     ]
    }
   ],
   "source": [
    "example = filtered_data[9]\n",
    "print(example)"
   ]
  },
  {
   "cell_type": "markdown",
   "id": "3f871aaf-d873-41c7-8946-e4eef7ac17c1",
   "metadata": {},
   "source": [
    "## 2. Tokenise the data"
   ]
  },
  {
   "cell_type": "code",
   "execution_count": 9,
   "id": "5b2064fb-5dcc-4657-b470-0928d10e2ddc",
   "metadata": {
    "tags": []
   },
   "outputs": [],
   "source": [
    "# Pad the punctuation, to treat them as separate 'words'  \n",
    "def pad_punctuation(s):\n",
    "    s = re.sub(f\"([{string.punctuation}])\", r' \\1 ', s)\n",
    "    s = re.sub(' +', ' ', s)\n",
    "    return s\n",
    "\n",
    "text_data = [pad_punctuation(x) for x in filtered_data]"
   ]
  },
  {
   "cell_type": "code",
   "execution_count": 10,
   "id": "b87d7c65-9a46-492a-a5c0-a043b0d252f3",
   "metadata": {},
   "outputs": [
    {
     "data": {
      "text/plain": [
       "'Recipe for Ham Persillade with Mustard Potato Salad and Mashed Peas | Chop enough parsley leaves to measure 1 tablespoon ; reserve . Chop remaining leaves and stems and simmer with broth and garlic in a small saucepan , covered , 5 minutes . Meanwhile , sprinkle gelatin over water in a medium bowl and let soften 1 minute . Strain broth through a fine - mesh sieve into bowl with gelatin and stir to dissolve . Season with salt and pepper . Set bowl in an ice bath and cool to room temperature , stirring . Toss ham with reserved parsley and divide among jars . Pour gelatin on top and chill until set , at least 1 hour . Whisk together mayonnaise , mustard , vinegar , 1 / 4 teaspoon salt , and 1 / 4 teaspoon pepper in a large bowl . Stir in celery , cornichons , and potatoes . Pulse peas with marjoram , oil , 1 / 2 teaspoon pepper , and 1 / 4 teaspoon salt in a food processor to a coarse mash . Layer peas , then potato salad , over ham . '"
      ]
     },
     "execution_count": 10,
     "metadata": {},
     "output_type": "execute_result"
    }
   ],
   "source": [
    "# Display an example of a recipe\n",
    "example_data = text_data[9]\n",
    "example_data"
   ]
  },
  {
   "cell_type": "code",
   "execution_count": 11,
   "id": "9834f916-b21a-4104-acc9-f28d3bd7a8c1",
   "metadata": {
    "tags": []
   },
   "outputs": [
    {
     "name": "stderr",
     "output_type": "stream",
     "text": [
      "2022-05-20 14:24:06.726727: I tensorflow/stream_executor/cuda/cuda_gpu_executor.cc:936] successful NUMA node read from SysFS had negative value (-1), but there must be at least one NUMA node, so returning NUMA node zero\n",
      "2022-05-20 14:24:06.901522: I tensorflow/stream_executor/cuda/cuda_gpu_executor.cc:936] successful NUMA node read from SysFS had negative value (-1), but there must be at least one NUMA node, so returning NUMA node zero\n",
      "2022-05-20 14:24:06.902234: I tensorflow/stream_executor/cuda/cuda_gpu_executor.cc:936] successful NUMA node read from SysFS had negative value (-1), but there must be at least one NUMA node, so returning NUMA node zero\n",
      "2022-05-20 14:24:06.906192: I tensorflow/core/platform/cpu_feature_guard.cc:151] This TensorFlow binary is optimized with oneAPI Deep Neural Network Library (oneDNN) to use the following CPU instructions in performance-critical operations:  AVX2 FMA\n",
      "To enable them in other operations, rebuild TensorFlow with the appropriate compiler flags.\n",
      "2022-05-20 14:24:06.909743: I tensorflow/stream_executor/cuda/cuda_gpu_executor.cc:936] successful NUMA node read from SysFS had negative value (-1), but there must be at least one NUMA node, so returning NUMA node zero\n",
      "2022-05-20 14:24:06.910461: I tensorflow/stream_executor/cuda/cuda_gpu_executor.cc:936] successful NUMA node read from SysFS had negative value (-1), but there must be at least one NUMA node, so returning NUMA node zero\n",
      "2022-05-20 14:24:06.911156: I tensorflow/stream_executor/cuda/cuda_gpu_executor.cc:936] successful NUMA node read from SysFS had negative value (-1), but there must be at least one NUMA node, so returning NUMA node zero\n",
      "2022-05-20 14:24:08.473114: I tensorflow/stream_executor/cuda/cuda_gpu_executor.cc:936] successful NUMA node read from SysFS had negative value (-1), but there must be at least one NUMA node, so returning NUMA node zero\n",
      "2022-05-20 14:24:08.473861: I tensorflow/stream_executor/cuda/cuda_gpu_executor.cc:936] successful NUMA node read from SysFS had negative value (-1), but there must be at least one NUMA node, so returning NUMA node zero\n",
      "2022-05-20 14:24:08.474500: I tensorflow/stream_executor/cuda/cuda_gpu_executor.cc:936] successful NUMA node read from SysFS had negative value (-1), but there must be at least one NUMA node, so returning NUMA node zero\n",
      "2022-05-20 14:24:08.476249: I tensorflow/core/common_runtime/gpu/gpu_device.cc:1525] Created device /job:localhost/replica:0/task:0/device:GPU:0 with 13797 MB memory:  -> device: 0, name: Tesla T4, pci bus id: 0000:00:04.0, compute capability: 7.5\n"
     ]
    }
   ],
   "source": [
    "# Convert to a Tensorflow Dataset\n",
    "text_ds = tf.data.Dataset.from_tensor_slices(text_data).batch(BATCH_SIZE).shuffle(1000)"
   ]
  },
  {
   "cell_type": "code",
   "execution_count": 12,
   "id": "884c0bcb-0807-45a1-8f7e-a32f2c6fa4de",
   "metadata": {},
   "outputs": [],
   "source": [
    "# Create a vectorisation layer\n",
    "vectorize_layer = keras.layers.TextVectorization(\n",
    "    standardize = 'lower',\n",
    "    max_tokens=VOCAB_SIZE,\n",
    "    output_mode=\"int\",\n",
    "    output_sequence_length=MAX_LEN + 1,\n",
    ")"
   ]
  },
  {
   "cell_type": "code",
   "execution_count": 13,
   "id": "4d6dd34a-d905-497b-926a-405380ebcf98",
   "metadata": {},
   "outputs": [],
   "source": [
    "# Adapt the layer to the training set\n",
    "vectorize_layer.adapt(text_ds)\n",
    "vocab = vectorize_layer.get_vocabulary()"
   ]
  },
  {
   "cell_type": "code",
   "execution_count": 14,
   "id": "f6c1c7ce-3cf0-40d4-a3dc-ab7090f69f2f",
   "metadata": {},
   "outputs": [
    {
     "name": "stdout",
     "output_type": "stream",
     "text": [
      "0: \n",
      "1: [UNK]\n",
      "2: .\n",
      "3: ,\n",
      "4: and\n",
      "5: to\n",
      "6: in\n",
      "7: the\n",
      "8: with\n",
      "9: a\n"
     ]
    }
   ],
   "source": [
    "# Display some token:word mappings\n",
    "for i, word in enumerate(vocab[:10]):\n",
    "    print(f'{i}: {word}')"
   ]
  },
  {
   "cell_type": "code",
   "execution_count": 15,
   "id": "1cc30186-7ec6-4eb6-b29a-65df6714d321",
   "metadata": {},
   "outputs": [
    {
     "name": "stdout",
     "output_type": "stream",
     "text": [
      "[  26   16  557    1    8  298  335  189    4 1054  494   27  332  228\n",
      "  235  262    5  594   11  133   22  311    2  332   45  262    4  671\n",
      "    4   70    8  171    4   81    6    9   65   80    3  121    3   59\n",
      "   12    2  299    3   88  650   20   39    6    9   29   21    4   67\n",
      "  529   11  164    2  320  171  102    9  374   13  643  306   25   21\n",
      "    8  650    4   42    5  931    2   63    8   24    4   33    2  114\n",
      "   21    6  178  181 1245    4   60    5  140  112    3   48    2  117\n",
      "  557    8  285  235    4  200  292  980    2  107  650   28   72    4\n",
      "  108   10  114    3   57  204   11  172    2   73  110  482    3  298\n",
      "    3  190    3   11   23   32  142   24    3    4   11   23   32  142\n",
      "   33    6    9   30   21    2   42    6  353    3 3224    3    4  150\n",
      "    2  437  494    8 1281    3   37    3   11   23   15  142   33    3\n",
      "    4   11   23   32  142   24    6    9  291  188    5    9  412  572\n",
      "    2  230  494    3   46  335  189    3   20  557    2    0    0    0\n",
      "    0    0    0    0    0]\n"
     ]
    }
   ],
   "source": [
    "# Display the same example converted to ints\n",
    "example_tokenised = vectorize_layer(example_data)\n",
    "print(example_tokenised.numpy())"
   ]
  },
  {
   "cell_type": "markdown",
   "id": "8c195efb-84c6-4be0-a989-a7542188ad35",
   "metadata": {},
   "source": [
    "## 3. Create the Training Set"
   ]
  },
  {
   "cell_type": "code",
   "execution_count": 16,
   "id": "740294a1-1a6b-4c89-92f2-036d7d1b788b",
   "metadata": {},
   "outputs": [],
   "source": [
    "# Create the training set of recipes and the same text shifted by one word\n",
    "def prepare_inputs(text):\n",
    "    text = tf.expand_dims(text, -1)\n",
    "    tokenized_sentences = vectorize_layer(text)\n",
    "    x = tokenized_sentences[:, :-1]\n",
    "    y = tokenized_sentences[:, 1:]\n",
    "    return x, y\n",
    "\n",
    "train_ds = text_ds.map(prepare_inputs)"
   ]
  },
  {
   "cell_type": "markdown",
   "id": "aff50401-3abe-4c10-bba8-b35bc13ad7d5",
   "metadata": {
    "tags": []
   },
   "source": [
    "## 2. Build the LSTM <a name=\"build\"></a>"
   ]
  },
  {
   "cell_type": "code",
   "execution_count": 36,
   "id": "9230b5bf-b4a8-48d5-b73b-6899a598f296",
   "metadata": {},
   "outputs": [
    {
     "name": "stdout",
     "output_type": "stream",
     "text": [
      "Model: \"model_2\"\n",
      "_________________________________________________________________\n",
      " Layer (type)                Output Shape              Param #   \n",
      "=================================================================\n",
      " input_3 (InputLayer)        [(None, None)]            0         \n",
      "                                                                 \n",
      " embedding_2 (Embedding)     (None, None, 100)         1000000   \n",
      "                                                                 \n",
      " lstm_2 (LSTM)               (None, None, 128)         117248    \n",
      "                                                                 \n",
      " dense_2 (Dense)             (None, None, 10000)       1290000   \n",
      "                                                                 \n",
      "=================================================================\n",
      "Total params: 2,407,248\n",
      "Trainable params: 2,407,248\n",
      "Non-trainable params: 0\n",
      "_________________________________________________________________\n"
     ]
    }
   ],
   "source": [
    "inputs = keras.layers.Input(shape=(None,), dtype=\"int32\")\n",
    "x = keras.layers.Embedding(VOCAB_SIZE, EMBEDDING_DIM)(inputs)\n",
    "x = keras.layers.LSTM(N_UNITS, return_sequences=True)(x)\n",
    "outputs = keras.layers.Dense(VOCAB_SIZE, activation = 'softmax')(x)\n",
    "model = keras.models.Model(inputs, outputs)\n",
    "model.summary()"
   ]
  },
  {
   "cell_type": "code",
   "execution_count": 31,
   "id": "800a3c6e-fb11-4792-b6bc-9a43a7c977ad",
   "metadata": {
    "tags": []
   },
   "outputs": [],
   "source": [
    "if LOAD_MODEL:\n",
    "    # model.load_weights('./models/model')\n",
    "    keras.models.load_model('./models/model', compile=False)"
   ]
  },
  {
   "cell_type": "markdown",
   "id": "35b14665-4359-447b-be58-3fd58ba69084",
   "metadata": {},
   "source": [
    "## 3. Train the LSTM <a name=\"train\"></a>"
   ]
  },
  {
   "cell_type": "code",
   "execution_count": 37,
   "id": "ffb1bd3b-6fd9-4536-973e-6375bbcbf16d",
   "metadata": {},
   "outputs": [],
   "source": [
    "loss_fn = keras.losses.SparseCategoricalCrossentropy()\n",
    "model.compile(\"adam\", loss_fn)"
   ]
  },
  {
   "cell_type": "code",
   "execution_count": 38,
   "id": "3ddcff5f-829d-4449-99d2-9a3cb68f7d72",
   "metadata": {},
   "outputs": [],
   "source": [
    "# Create a TextGenerator checkpoint\n",
    "class TextGenerator(keras.callbacks.Callback):\n",
    "    def __init__(self, index_to_word, top_k=10):\n",
    "        self.index_to_word = index_to_word\n",
    "        self.word_to_index = {word: index for index, word in enumerate(index_to_word)} #<1>\n",
    "\n",
    "    def sample_from(self, probs, temperature): #<2>\n",
    "        probs = probs ** (1 / temperature)\n",
    "        probs = probs / np.sum(probs)\n",
    "        return np.random.choice(len(probs), p=probs), probs \n",
    "    \n",
    "    def generate(self, start_prompt, max_tokens, temperature):\n",
    "        start_tokens = [self.word_to_index.get(x, 1) for x in start_prompt.split()] #<3>\n",
    "        sample_token = None\n",
    "        info = []\n",
    "        while len(start_tokens) < max_tokens and sample_token != 0: #<4>\n",
    "            x = np.array([start_tokens])\n",
    "            y = self.model.predict(x) #<5>\n",
    "            sample_token, probs = self.sample_from(y[0][-1], temperature) #<6>\n",
    "            info.append({'prompt': start_prompt , 'word_probs': probs})\n",
    "            start_tokens.append(sample_token) #<7>\n",
    "            start_prompt = start_prompt + ' ' + self.index_to_word[sample_token]\n",
    "        print(f\"\\ngenerated text:\\n{start_prompt}\\n\")\n",
    "        return info\n",
    "        \n",
    "    def on_epoch_end(self, epoch, logs=None):\n",
    "        self.generate(\"recipe for\", max_tokens = 100, temperature = 1.0)\n",
    "        "
   ]
  },
  {
   "cell_type": "code",
   "execution_count": 39,
   "id": "349865fe-ffbe-450e-97be-043ae1740e78",
   "metadata": {},
   "outputs": [],
   "source": [
    "# Create a model save checkpoint\n",
    "model_checkpoint_callback = keras.callbacks.ModelCheckpoint(\n",
    "    filepath=\"./checkpoint/checkpoint.ckpt\",\n",
    "    save_weights_only=True,\n",
    "    save_freq=\"epoch\",\n",
    "    verbose=0,\n",
    ")\n",
    "\n",
    "tensorboard_callback = keras.callbacks.TensorBoard(log_dir=\"./logs\")\n",
    "\n",
    "# Tokenize starting prompt\n",
    "text_generator = TextGenerator(vocab)"
   ]
  },
  {
   "cell_type": "code",
   "execution_count": 40,
   "id": "461c2b3e-b5ae-4def-8bd9-e7bab8c63d8e",
   "metadata": {
    "tags": []
   },
   "outputs": [
    {
     "name": "stdout",
     "output_type": "stream",
     "text": [
      "Epoch 1/25\n",
      "629/629 [==============================] - ETA: 0s - loss: 4.4082\n",
      "generated text:\n",
      "recipe for bring \n",
      "\n",
      "629/629 [==============================] - 28s 43ms/step - loss: 4.4082\n",
      "Epoch 2/25\n",
      "629/629 [==============================] - ETA: 0s - loss: 3.0466\n",
      "generated text:\n",
      "recipe for wrapped horseradish ricotta | preheat oven chard stick to gas trays , berries on the dough paper of stuffing flush with aziki . coat the bread with remaining baking sheet . put with log , and bring times to medium skillet over medium saucepan ; fish ; transfer to a bowl or filling from heat about 2 minutes . beans . beat in veal chicken and let stand 15 minutes . a a batches , transfer the in ice skillet over low medium heat . add rosemary , beating and simmer until using filling , about 10 minutes\n",
      "\n",
      "629/629 [==============================] - 30s 48ms/step - loss: 3.0466\n",
      "Epoch 3/25\n",
      "628/629 [============================>.] - ETA: 0s - loss: 2.4819\n",
      "generated text:\n",
      "recipe for garlic | in a using the yolk remain the the the 300f , then zucchini and peel and soak for see them , when tumbler and cool 15 to this in an up thermometer of the the egg . pour 4 tablespoons liquid into the water . transfer the herb them sauce from meat mixture and the mixture to cool . ( be made prepared 10 hours cupfuls will american skewers is al juicy and gently onto a 325°f , and remove larger from a hand - pale it ( [UNK] ) and press the fat will dough\n",
      "\n",
      "629/629 [==============================] - 31s 49ms/step - loss: 2.4819\n",
      "Epoch 4/25\n",
      "628/629 [============================>.] - ETA: 0s - loss: 2.2252\n",
      "generated text:\n",
      "recipe for frittata with green chili sauce | purée packages in a heavy saucepan over moderately high heat for 3 minutes , then breaking of damp spoonfuls of pot of boiling water , then add eggplant to chick - warm paste ; cook until mussels are tender , and onion , 12 / 5 to 5 minutes per batch . pat back dry pan . with soaking , heat oil over medium heat . add one side coarse chick - fry , 3 tablespoons grated parsley , 13 to 6 minutes . add 1 tablespoon butter and add the garlic\n",
      "\n",
      "629/629 [==============================] - 30s 48ms/step - loss: 2.2255\n",
      "Epoch 5/25\n",
      "629/629 [==============================] - ETA: 0s - loss: 2.0778\n",
      "generated text:\n",
      "recipe for ginger , bell pepper with berry black pecans and pepper | whisk flour , sugar and paprika in a 2 - high - bottomed pan or , then simmer until all in center of whites are golden brown and about 5 cups , about 1 minute . ( can be made 1 day ahead . cover and refrigerate them . ) wrap the turkey on rack in cheesecloth and turning over , 15 minutes . while out about 25 minutes . in a kettle cook , cook 10 - fry 6 minutes so should be golden , about\n",
      "\n",
      "629/629 [==============================] - 31s 49ms/step - loss: 2.0778\n",
      "Epoch 6/25\n",
      "629/629 [==============================] - ETA: 0s - loss: 1.9802\n",
      "generated text:\n",
      "recipe for thai pork salad with onions , and herb vinaigrette | place 10 - inch nonstick skillet in heavy saucepan over medium heat for medium - high heat until crisp - tender , about 5 minutes . add broccoli , thyme , bay leaves and ginger ; sauté until beginning to brown brown and juices , about 1 hour . add basil ; season with salt , \n",
      "\n",
      "629/629 [==============================] - 29s 45ms/step - loss: 1.9802\n",
      "Epoch 7/25\n",
      "628/629 [============================>.] - ETA: 0s - loss: 1.9083\n",
      "generated text:\n",
      "recipe for curried bell chocolate butter flatbread | using a ricer , stir together - sugar cream , ginger , cream into a 3 - cup - stick heavy saucepan , stirring until sugar has dissolved and partially or your tray . remove ribs from moderately low heat and wok . pour into an instant - rectangle and vegetables must evenly container , 10 layers in pan and pour custard into a powdered chutney . serve with lime ice cream , sugar , and bitters . \n",
      "\n",
      "629/629 [==============================] - 30s 48ms/step - loss: 1.9084\n",
      "Epoch 8/25\n",
      "628/629 [============================>.] - ETA: 0s - loss: 1.8536\n",
      "generated text:\n",
      "recipe for nutmeg with gluten - poached tilapia in ancho chili | preheat oven to 350°f . using tongs , cut out puff crosswise , then on a work surface , roll out excess butter , knead should need 1 5 uncut total . gather dough into a guide and cut in volume crosswise , then into a bite - by 9 - inch metal baking pan , mix raisins , raisins and 1 / 3 cup water to 1 day . add 8 cups flour and flour to pan ; cook over medium heat . add sliced squash and\n",
      "\n",
      "629/629 [==============================] - 30s 47ms/step - loss: 1.8537\n",
      "Epoch 9/25\n",
      "629/629 [==============================] - ETA: 0s - loss: 1.8101\n",
      "generated text:\n",
      "recipe for pasta with shrimp and lime | prepare barbecue ( tip of 400° only set from a small gas grill for gas ) , then brush each of turkey with the 2 circles and grill pizza until thin lightly charred in middle . carve them on a cutting board and secure with scissors and rub all over them . you would put prosciutto on a broiler pans and bake until very thick , basting once , about 3 minutes more or and salt . meanwhile , heat heavy medium heat to low heat , then add onions , beginning\n",
      "\n",
      "629/629 [==============================] - 31s 49ms/step - loss: 1.8101\n",
      "Epoch 10/25\n",
      "628/629 [============================>.] - ETA: 0s - loss: 1.7743\n",
      "generated text:\n",
      "recipe for summer berry brew | 1 7 cups of water in processor to blend . add to egg yolks , stopping to crumbly . ( pastry dough should look curdled ) . add 1 tablespoon oil , vanilla seeds , rice until smooth , transfer to a saucepan and stir for 1 minute . process pie mixture in a food processor , adding lime juice and sugar mixture to come 1 / 4 cup ( use as needed to scrape should be light brown ) and interior of filling not spoon consistency by half , 3 minutes . pour\n",
      "\n",
      "629/629 [==============================] - 30s 48ms/step - loss: 1.7741\n",
      "Epoch 11/25\n",
      "628/629 [============================>.] - ETA: 0s - loss: 1.7436\n",
      "generated text:\n",
      "recipe for winter fruit salad with spicy peppercorn sauce | remove bones from oranges , and squeezed sprig of seeds around them . place the duck inside and sides of a sheet of the kettle and let sit 30 seconds on once you puffs the cabbage runs up on for 30 minutes , until the chicken is done when you cool . in a small bowl , crush the garlic and remaining oregano slowly over blending hot for 2 to 3 minutes , or until it is emulsified . squeeze a strip of the seeds including a half ball .\n",
      "\n",
      "629/629 [==============================] - 31s 48ms/step - loss: 1.7435\n",
      "Epoch 12/25\n",
      "628/629 [============================>.] - ETA: 0s - loss: 1.7167\n",
      "generated text:\n",
      "recipe for buttermilk bbq maple honey chestnut | heat the oil in a frying pan and over moderately high heat until fragrant and crisp and turn it bright green parts . add to the sausage and cook the chicken and turning frequently , until tender , about 5 minutes more . place 1 artichoke , 1 / 4 cup the sugar and 2 tablespoons of the garlic oil in a large pot . bring the olive oil to the skillet over high heat for 1 minute , or until they are crisp - tender . transfer the fillets to a\n",
      "\n",
      "629/629 [==============================] - 30s 47ms/step - loss: 1.7168\n",
      "Epoch 13/25\n",
      "628/629 [============================>.] - ETA: 0s - loss: 1.6937\n",
      "generated text:\n",
      "recipe for white chocolate chip pie | blend all ingredients in a small bowl until finely chopped walnuts . with a fork or jelly mixture or hand 1 / 4 cup warm remaining butter in an electric mixer with an electric mixer or slow stream over medium speed , beating until whites hold stiff , about 7 seconds . beat cream in a very large bowl until dough comes together well . press will flatten into a ball . mix in one layer at a time , on a baking sheet in flour mixture . do ahead : dough can\n",
      "\n",
      "629/629 [==============================] - 30s 48ms/step - loss: 1.6934\n",
      "Epoch 14/25\n",
      "628/629 [============================>.] - ETA: 0s - loss: 1.6728\n",
      "generated text:\n",
      "recipe for pinto bean stew in small mini pot | heat 1 tbsp . sauce and partially 2 inches from heat . transfer the mixture with a slotted spoon to a small bowl , reserving the stems and the mÜnster , and out the remaining peanuts . transfer the endive leaves to a measuring cup , and pour through the fine disk of the cheesecloth ; set aside . dip the oatmeal in 4 rocket , and waving it on an even layer . using the hands , don ' t have been very , discard but hands . gently\n",
      "\n",
      "629/629 [==============================] - 30s 47ms/step - loss: 1.6725\n",
      "Epoch 15/25\n",
      "629/629 [==============================] - ETA: 0s - loss: 1.6538\n",
      "generated text:\n",
      "recipe for spice cocktail | in a food processor blend together the eggs , the sour cream , the water , and the brown sugar until they are dry , then add the flour mixture , slowly combine , and rub it dry with an additions , blending the whole slices at the dumplings . if the pancake is sauce is important now be square , make sure it come to hold turns until they they are lightly form , about 1 / 2 inch , at a time . set aside and stir for 30 seconds . transfer the\n",
      "\n",
      "629/629 [==============================] - 30s 48ms/step - loss: 1.6538\n",
      "Epoch 16/25\n",
      "629/629 [==============================] - ETA: 0s - loss: 1.6368\n",
      "generated text:\n",
      "recipe for vegetable gratin with mushrooms and rosemary | preheat oven to 350°f . butter . season cilantro to taste with salt and pepper . melt 2 tablespoons butter in a large nonstick skillet over medium - high heat . add thyme and butter and rub . using an oiled large pot of bowl of same pot of water and roast until deeply browned , about 5 minutes per batch . if desired , return salmon to tongs and puréed , brush 1 / 8 - to 6 - inch cast - iron skillet ( preferably cast iron ) over\n",
      "\n",
      "629/629 [==============================] - 30s 47ms/step - loss: 1.6368\n",
      "Epoch 17/25\n",
      "629/629 [==============================] - ETA: 0s - loss: 1.6208\n",
      "generated text:\n",
      "recipe for grilled vegetable sandwiches with parmesan chickpeas | prepare barbecue ( medium - high heat ) . place 3 roasting piece of foil on work surface . arrange each salmon fillet atop potatoes . sprinkle stuffed lamb with salt and pepper . dredge tuna , in vegetable marinade , gill side down , until vegetables are slightly charred , spooning marinade atop paste . spread atop rosemary mixture . drizzle 1 1 / 2 tablespoons oil over fish . cover husks tightly with plastic wrap , then grill until cooked through , meaty sides up , about 4 minutes\n",
      "\n",
      "629/629 [==============================] - 30s 48ms/step - loss: 1.6208\n",
      "Epoch 18/25\n",
      "628/629 [============================>.] - ETA: 0s - loss: 1.6063\n",
      "generated text:\n",
      "recipe for blue cheese pie with cranberry dressing | combine first 5 ingredients in very large bowl . using fork , mix sugar and orange peel in medium bowl to blend . mix chopped pecans with mint , in small bowl . puree 3 / 4 cup ice - cream sauce in bowl . \n",
      "\n",
      "629/629 [==============================] - 28s 44ms/step - loss: 1.6064\n",
      "Epoch 19/25\n",
      "628/629 [============================>.] - ETA: 0s - loss: 1.5928\n",
      "generated text:\n",
      "recipe for butter won moon et onion , garlic , and dill | place pasta in a large cubes ; add scallions with remaining ingredients . cover . let stand until tender and golden , about 25 minutes . add 2 tablespoons flour , flat side down , until slightly softened , about 1 / 2 cup at a time , then fry leg of garlic in oil , about 5 minutes . season to taste with salt and pepper , then add garlic and celery toward with water ( 17 \" by about 1 / 3 \" ) with\n",
      "\n",
      "629/629 [==============================] - 31s 49ms/step - loss: 1.5931\n",
      "Epoch 20/25\n",
      "628/629 [============================>.] - ETA: 0s - loss: 1.5810\n",
      "generated text:\n",
      "recipe for baked trout with apples and almond streusel | blend cheeses , vinegar , water and sesame oil , parmesan and raisins in processor until paste is finely ground . cut each baguette half crosswise into thin wedges . place in same baking sheet . press into prepared 1 / 8 \" as pâté , and gather edges atop stuffing in same manner . ( can be made 5 days ahead . cover and chill . ) \n",
      "\n",
      "629/629 [==============================] - 29s 46ms/step - loss: 1.5807\n",
      "Epoch 21/25\n",
      "628/629 [============================>.] - ETA: 0s - loss: 1.5696\n",
      "generated text:\n",
      "recipe for herbed honey - dusted french toast with caramelized almonds | in a large nonstick skillet , heat oil over moderately high heat until foam subsides and cook onions and eggs and brown sugar in oven until cuts is golden , about 5 minutes . transfer to a large pot and continue to cook until thermometer registers 160°f for even side with a 3 - cooking thermometer . ( remember can be surface to facilitate ahead : bacon can be made 8 hours ahead . cover and chill separately . heat vegetable oil in a large cast - iron\n",
      "\n",
      "629/629 [==============================] - 31s 49ms/step - loss: 1.5694\n",
      "Epoch 22/25\n",
      "628/629 [============================>.] - ETA: 0s - loss: 1.5584\n",
      "generated text:\n",
      "recipe for passover whipped with rum ice cream | 1 . double watermelon into the peaches and stir with the vanilla bean until smooth . into the cherry loaves mix for caramel , bring the mixture to a boil , and water . mix in the dried cherries and remaining ingredients . bring to a boil , for a 1 1 / 2 to 2 hours , or until the mixture curdles , in a bowl of the heat cream and plenty of the curd . serve the milk warm . butter a 9x5x3 - inch loaf pan with 4\n",
      "\n",
      "629/629 [==============================] - 30s 47ms/step - loss: 1.5586\n",
      "Epoch 23/25\n",
      "628/629 [============================>.] - ETA: 0s - loss: 1.5487\n",
      "generated text:\n",
      "recipe for apple and figs with chives | combine 2 tablespoons butter , then sugar in small bowl ; stir to combine . freeze 1 hour . ( can be made 2 hours ahead ahead . chill uncovered , partially covered . chill . ) bring marmalade , chilis , and sugar in heavy large saucepan to same saucepan . whisk sugar , sugar and vanilla sugar in medium metal bowl to blend . gradually whisk in to 1 cup flour . line 5 6 3 / 4 - 3 - inch - high sides ( 325°f . ) butter\n",
      "\n",
      "629/629 [==============================] - 31s 49ms/step - loss: 1.5486\n",
      "Epoch 24/25\n",
      "628/629 [============================>.] - ETA: 0s - loss: 1.5395\n",
      "generated text:\n",
      "recipe for chive stock | heat medium saucepan over medium heat . stir over medium - low heat until butter melts , adding more reserved cooking water as needed , adding more water by tablespoonfuls if needed . return skillet to heat ; stir in tarragon . serve immediately . \n",
      "\n",
      "629/629 [==============================] - 28s 44ms/step - loss: 1.5393\n",
      "Epoch 25/25\n",
      "628/629 [============================>.] - ETA: 0s - loss: 1.5305\n",
      "generated text:\n",
      "recipe for cranberry sauce | in a blender purée the purée with sugar until smooth , about 30 seconds , transfer the tamarind with a rubber spatula to the bowl of a bowl of ice and fine . in a small heavy saucepan bring the water to a boil , then stir to dissolve the syrup . pour over the pot and cold water . let the syrup cool to a faint glasses . divide the ricotta mixture with a little roasted red , spoon over the seafood , and garnish with cheese and garnish with mint leaves and brandied\n",
      "\n",
      "629/629 [==============================] - 31s 49ms/step - loss: 1.5304\n"
     ]
    },
    {
     "data": {
      "text/plain": [
       "<keras.callbacks.History at 0x7f53568b7130>"
      ]
     },
     "execution_count": 40,
     "metadata": {},
     "output_type": "execute_result"
    }
   ],
   "source": [
    "model.fit(\n",
    "    train_ds, \n",
    "    epochs=25, \n",
    "    # steps_per_epoch = 3,\n",
    "    callbacks = [model_checkpoint_callback, tensorboard_callback, text_generator]\n",
    ")"
   ]
  },
  {
   "cell_type": "code",
   "execution_count": 41,
   "id": "369bde44-2e39-4bc6-8549-a3a27ecce55c",
   "metadata": {
    "tags": []
   },
   "outputs": [
    {
     "name": "stderr",
     "output_type": "stream",
     "text": [
      "2022-05-20 14:38:07.208916: W tensorflow/python/util/util.cc:368] Sets are not currently considered sequences, but this may change in the future, so consider avoiding using them.\n",
      "WARNING:absl:Found untraced functions such as lstm_cell_4_layer_call_fn, lstm_cell_4_layer_call_and_return_conditional_losses while saving (showing 2 of 2). These functions will not be directly callable after loading.\n"
     ]
    },
    {
     "name": "stdout",
     "output_type": "stream",
     "text": [
      "INFO:tensorflow:Assets written to: ./models/model/assets\n"
     ]
    },
    {
     "name": "stderr",
     "output_type": "stream",
     "text": [
      "INFO:tensorflow:Assets written to: ./models/model/assets\n",
      "WARNING:absl:<keras.layers.recurrent.LSTMCell object at 0x7f52d420d8e0> has the same name 'LSTMCell' as a built-in Keras object. Consider renaming <class 'keras.layers.recurrent.LSTMCell'> to avoid naming conflicts when loading with `tf.keras.models.load_model`. If renaming is not possible, pass the object in the `custom_objects` parameter of the load function.\n"
     ]
    }
   ],
   "source": [
    "# Save the final model\n",
    "model.save(\"./models/model\")"
   ]
  },
  {
   "cell_type": "markdown",
   "id": "d64e02d2-84dc-40c8-8446-40c09adf1e20",
   "metadata": {},
   "source": [
    "# 3. Generate text using the LSTM"
   ]
  },
  {
   "cell_type": "code",
   "execution_count": null,
   "id": "4ad23adb-3ec9-4e9a-9a59-b9f9bafca649",
   "metadata": {},
   "outputs": [],
   "source": [
    "def print_probs(info, vocab, top_k = 5):\n",
    "    for i in info:\n",
    "        print(f\"\\nPROMPT: {i['prompt']}\")\n",
    "        word_probs = i['word_probs']\n",
    "        p_sorted = np.sort(word_probs)[::-1][:top_k]\n",
    "        i_sorted = np.argsort(word_probs)[::-1][:top_k]\n",
    "        for p, i in zip(p_sorted, i_sorted):\n",
    "            print(f'{vocab[i]}:   \\t{np.round(100*p,2)}%') \n",
    "        print('--------\\n')"
   ]
  },
  {
   "cell_type": "code",
   "execution_count": null,
   "id": "3cf25578-d47c-4b26-8252-fcdf2316a4ac",
   "metadata": {},
   "outputs": [],
   "source": [
    "info = text_generator.generate(\"recipe for roasted vegetables | chop 1 /\", max_tokens = 10, temperature = 1.0)"
   ]
  },
  {
   "cell_type": "code",
   "execution_count": null,
   "id": "9df72866-b483-4489-8e26-d5e1466410fa",
   "metadata": {
    "tags": []
   },
   "outputs": [],
   "source": [
    "print_probs(info, vocab)"
   ]
  },
  {
   "cell_type": "code",
   "execution_count": null,
   "id": "562e1fe8-cbcb-438f-9637-2f2a6279c924",
   "metadata": {},
   "outputs": [],
   "source": [
    "info = text_generator.generate(\"recipe for roasted vegetables | chop 1 /\", max_tokens = 10, temperature = 0.2)"
   ]
  },
  {
   "cell_type": "code",
   "execution_count": 28,
   "id": "56356f21-04ac-40e5-94ff-291eca6a7054",
   "metadata": {},
   "outputs": [
    {
     "ename": "NameError",
     "evalue": "name 'info' is not defined",
     "output_type": "error",
     "traceback": [
      "\u001b[0;31m---------------------------------------------------------------------------\u001b[0m",
      "\u001b[0;31mNameError\u001b[0m                                 Traceback (most recent call last)",
      "Input \u001b[0;32mIn [28]\u001b[0m, in \u001b[0;36m<cell line: 1>\u001b[0;34m()\u001b[0m\n\u001b[0;32m----> 1\u001b[0m print_probs(\u001b[43minfo\u001b[49m, vocab)\n",
      "\u001b[0;31mNameError\u001b[0m: name 'info' is not defined"
     ]
    }
   ],
   "source": [
    "print_probs(info, vocab)"
   ]
  },
  {
   "cell_type": "code",
   "execution_count": 53,
   "id": "2e434497-07f3-4989-a68d-3e31cf8fa4fe",
   "metadata": {},
   "outputs": [
    {
     "name": "stdout",
     "output_type": "stream",
     "text": [
      "\n",
      "generated text:\n",
      "recipe for chocolate ice cream | bring\n",
      "\n",
      "\n",
      "PROMPT: recipe for chocolate ice cream |\n",
      "in:   \t27.31%\n",
      "combine:   \t11.21%\n",
      "stir:   \t6.66%\n",
      "whisk:   \t5.64%\n",
      "mix:   \t3.68%\n",
      "--------\n",
      "\n"
     ]
    }
   ],
   "source": [
    "info = text_generator.generate(\"recipe for chocolate ice cream |\", max_tokens = 7, temperature = 1.0)\n",
    "print_probs(info, vocab)"
   ]
  },
  {
   "cell_type": "code",
   "execution_count": 62,
   "id": "011cd0e0-956c-4a63-8ec3-f7dfed31764e",
   "metadata": {},
   "outputs": [
    {
     "name": "stdout",
     "output_type": "stream",
     "text": [
      "\n",
      "generated text:\n",
      "recipe for chocolate ice cream | in\n",
      "\n",
      "\n",
      "PROMPT: recipe for chocolate ice cream |\n",
      "in:   \t98.71%\n",
      "combine:   \t1.15%\n",
      "stir:   \t0.09%\n",
      "whisk:   \t0.04%\n",
      "mix:   \t0.0%\n",
      "--------\n",
      "\n"
     ]
    }
   ],
   "source": [
    "info = text_generator.generate(\"recipe for chocolate ice cream |\", max_tokens = 7, temperature = 0.2)\n",
    "print_probs(info, vocab)"
   ]
  },
  {
   "cell_type": "code",
   "execution_count": 63,
   "id": "29c4fa80-fad0-4577-a1c8-c14d279a1d0d",
   "metadata": {},
   "outputs": [
    {
     "name": "stdout",
     "output_type": "stream",
     "text": [
      "Model: \"model_3\"\n",
      "_________________________________________________________________\n",
      " Layer (type)                Output Shape              Param #   \n",
      "=================================================================\n",
      " input_4 (InputLayer)        [(None, None)]            0         \n",
      "                                                                 \n",
      " embedding_3 (Embedding)     (None, None, 100)         1000000   \n",
      "                                                                 \n",
      " lstm_3 (LSTM)               (None, None, 128)         117248    \n",
      "                                                                 \n",
      " lstm_4 (LSTM)               (None, None, 128)         131584    \n",
      "                                                                 \n",
      " dense_3 (Dense)             (None, None, 10000)       1290000   \n",
      "                                                                 \n",
      "=================================================================\n",
      "Total params: 2,538,832\n",
      "Trainable params: 2,538,832\n",
      "Non-trainable params: 0\n",
      "_________________________________________________________________\n"
     ]
    }
   ],
   "source": [
    "inputs = keras.layers.Input(shape=(None,), dtype=\"int32\")\n",
    "x = keras.layers.Embedding(VOCAB_SIZE, EMBEDDING_DIM)(inputs)\n",
    "x = keras.layers.LSTM(N_UNITS, return_sequences=True)(x)\n",
    "x = keras.layers.LSTM(N_UNITS, return_sequences=True)(x)\n",
    "outputs = keras.layers.Dense(VOCAB_SIZE, activation = 'softmax')(x)\n",
    "model2 = keras.models.Model(inputs, outputs)\n",
    "model2.summary()"
   ]
  },
  {
   "cell_type": "code",
   "execution_count": null,
   "id": "8115c29d-c538-4db6-aa31-debbb829b691",
   "metadata": {},
   "outputs": [],
   "source": []
  }
 ],
 "metadata": {
  "kernelspec": {
   "display_name": "Python 3 (ipykernel)",
   "language": "python",
   "name": "python3"
  },
  "language_info": {
   "codemirror_mode": {
    "name": "ipython",
    "version": 3
   },
   "file_extension": ".py",
   "mimetype": "text/x-python",
   "name": "python",
   "nbconvert_exporter": "python",
   "pygments_lexer": "ipython3",
   "version": "3.8.10"
  }
 },
 "nbformat": 4,
 "nbformat_minor": 5
}
