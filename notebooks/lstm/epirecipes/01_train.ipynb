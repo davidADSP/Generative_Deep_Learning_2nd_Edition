{
 "cells": [
  {
   "cell_type": "markdown",
   "id": "b076bd1a-b236-4fbc-953d-8295b25122ae",
   "metadata": {},
   "source": [
    "# 🥙 LSTM on Recipe Data"
   ]
  },
  {
   "cell_type": "markdown",
   "id": "b863c414-1946-4482-b0d0-1552ee5ffd41",
   "metadata": {},
   "source": [
    "## Table of contents\n",
    "0. [Parameters](#parameters)\n",
    "1. [Load the Data](#load)\n",
    "2. [Tokensise the Data](#tokenise)\n",
    "3. [Create the Training Set](#create)\n",
    "4. [Build the LSTM](#build)\n",
    "5. [Train the LSTM](#train)"
   ]
  },
  {
   "cell_type": "code",
   "execution_count": 1,
   "id": "4dca6836-0007-43f3-af65-d12ae1922c02",
   "metadata": {},
   "outputs": [],
   "source": [
    "%load_ext autoreload\n",
    "%autoreload 2"
   ]
  },
  {
   "cell_type": "code",
   "execution_count": 2,
   "id": "4e0d56cc-4773-4029-97d8-26f882ba79c9",
   "metadata": {},
   "outputs": [],
   "source": [
    "import numpy as np\n",
    "import matplotlib.pyplot as plt\n",
    "import os\n",
    "import json\n",
    "from pprint import pprint\n",
    "import random\n",
    "import re\n",
    "import string\n",
    "\n",
    "import tensorflow as tf\n",
    "import tensorflow.keras as keras"
   ]
  },
  {
   "cell_type": "markdown",
   "id": "339e6268-ebd7-4feb-86db-1fe7abccdbe5",
   "metadata": {},
   "source": [
    "## 0. Parameters <a name=\"parameters\"></a>"
   ]
  },
  {
   "cell_type": "code",
   "execution_count": 21,
   "id": "2d8352af-343e-4c2e-8c91-95f8bac1c8a1",
   "metadata": {},
   "outputs": [],
   "source": [
    "VOCAB_SIZE = 10000\n",
    "MAX_LEN = 200\n",
    "EMBEDDING_DIM = 100\n",
    "N_UNITS = 128\n",
    "VALIDATION_SPLIT = 0.2\n",
    "SEED = 42\n",
    "LOAD_MODEL = False\n",
    "BATCH_SIZE = 32"
   ]
  },
  {
   "cell_type": "markdown",
   "id": "b7716fac-0010-49b0-b98e-53be2259edde",
   "metadata": {},
   "source": [
    "## 1. Load the data <a name=\"load\"></a>"
   ]
  },
  {
   "cell_type": "code",
   "execution_count": 22,
   "id": "93cf6b0f-9667-4146-8911-763a8a2925d3",
   "metadata": {
    "tags": []
   },
   "outputs": [],
   "source": [
    "# Load the full dataset\n",
    "with open('/app/data/epirecipes/full_format_recipes.json') as json_data:\n",
    "    recipe_data = json.load(json_data)\n",
    "    "
   ]
  },
  {
   "cell_type": "code",
   "execution_count": 23,
   "id": "23a74eca-f1b7-4a46-9a1f-b5806a4ed361",
   "metadata": {
    "tags": []
   },
   "outputs": [],
   "source": [
    "# Filter the dataset\n",
    "filtered_data = ['Recipe for ' + x['title']+ ' | ' + ' '.join(x['directions']) for x in recipe_data\n",
    "              if 'title' in x\n",
    "              and x['title'] is not None\n",
    "              and 'directions' in x\n",
    "              and x['directions'] is not None\n",
    "             ]"
   ]
  },
  {
   "cell_type": "code",
   "execution_count": 24,
   "id": "389c20de-0422-4c48-a7b4-6ee12a7bf0e2",
   "metadata": {
    "tags": []
   },
   "outputs": [
    {
     "name": "stdout",
     "output_type": "stream",
     "text": [
      "20111 recipes loaded\n"
     ]
    }
   ],
   "source": [
    "# Count the recipes\n",
    "n_recipes = len(filtered_data)\n",
    "print(f'{n_recipes} recipes loaded')"
   ]
  },
  {
   "cell_type": "code",
   "execution_count": 25,
   "id": "1b2e3cf7-e416-460e-874a-0dd9637bca36",
   "metadata": {},
   "outputs": [
    {
     "name": "stdout",
     "output_type": "stream",
     "text": [
      "Recipe for Ham Persillade with Mustard Potato Salad and Mashed Peas  | Chop enough parsley leaves to measure 1 tablespoon; reserve. Chop remaining leaves and stems and simmer with broth and garlic in a small saucepan, covered, 5 minutes. Meanwhile, sprinkle gelatin over water in a medium bowl and let soften 1 minute. Strain broth through a fine-mesh sieve into bowl with gelatin and stir to dissolve. Season with salt and pepper. Set bowl in an ice bath and cool to room temperature, stirring. Toss ham with reserved parsley and divide among jars. Pour gelatin on top and chill until set, at least 1 hour. Whisk together mayonnaise, mustard, vinegar, 1/4 teaspoon salt, and 1/4 teaspoon pepper in a large bowl. Stir in celery, cornichons, and potatoes. Pulse peas with marjoram, oil, 1/2 teaspoon pepper, and 1/4 teaspoon salt in a food processor to a coarse mash. Layer peas, then potato salad, over ham.\n"
     ]
    }
   ],
   "source": [
    "example = filtered_data[9]\n",
    "print(example)"
   ]
  },
  {
   "cell_type": "markdown",
   "id": "3f871aaf-d873-41c7-8946-e4eef7ac17c1",
   "metadata": {},
   "source": [
    "## 2. Tokenise the data"
   ]
  },
  {
   "cell_type": "code",
   "execution_count": 26,
   "id": "5b2064fb-5dcc-4657-b470-0928d10e2ddc",
   "metadata": {
    "tags": []
   },
   "outputs": [],
   "source": [
    "# Pad the punctuation, to treat them as separate 'words'  \n",
    "def pad_punctuation(s):\n",
    "    s = re.sub(f\"([{string.punctuation}])\", r' \\1 ', s)\n",
    "    s = re.sub(' +', ' ', s)\n",
    "    return s\n",
    "\n",
    "text_data = [pad_punctuation(x) for x in filtered_data]"
   ]
  },
  {
   "cell_type": "code",
   "execution_count": 27,
   "id": "b87d7c65-9a46-492a-a5c0-a043b0d252f3",
   "metadata": {},
   "outputs": [
    {
     "data": {
      "text/plain": [
       "'Recipe for Ham Persillade with Mustard Potato Salad and Mashed Peas | Chop enough parsley leaves to measure 1 tablespoon ; reserve . Chop remaining leaves and stems and simmer with broth and garlic in a small saucepan , covered , 5 minutes . Meanwhile , sprinkle gelatin over water in a medium bowl and let soften 1 minute . Strain broth through a fine - mesh sieve into bowl with gelatin and stir to dissolve . Season with salt and pepper . Set bowl in an ice bath and cool to room temperature , stirring . Toss ham with reserved parsley and divide among jars . Pour gelatin on top and chill until set , at least 1 hour . Whisk together mayonnaise , mustard , vinegar , 1 / 4 teaspoon salt , and 1 / 4 teaspoon pepper in a large bowl . Stir in celery , cornichons , and potatoes . Pulse peas with marjoram , oil , 1 / 2 teaspoon pepper , and 1 / 4 teaspoon salt in a food processor to a coarse mash . Layer peas , then potato salad , over ham . '"
      ]
     },
     "execution_count": 27,
     "metadata": {},
     "output_type": "execute_result"
    }
   ],
   "source": [
    "# Display an example of a recipe\n",
    "example_data = text_data[9]\n",
    "example_data"
   ]
  },
  {
   "cell_type": "code",
   "execution_count": 28,
   "id": "9834f916-b21a-4104-acc9-f28d3bd7a8c1",
   "metadata": {
    "tags": []
   },
   "outputs": [],
   "source": [
    "# Convert to a Tensorflow Dataset\n",
    "text_ds = tf.data.Dataset.from_tensor_slices(text_data).batch(BATCH_SIZE).shuffle(1000)"
   ]
  },
  {
   "cell_type": "code",
   "execution_count": 29,
   "id": "884c0bcb-0807-45a1-8f7e-a32f2c6fa4de",
   "metadata": {},
   "outputs": [],
   "source": [
    "# Create a vectorisation layer\n",
    "vectorize_layer = keras.layers.TextVectorization(\n",
    "    standardize = 'lower',\n",
    "    max_tokens=VOCAB_SIZE,\n",
    "    output_mode=\"int\",\n",
    "    output_sequence_length=MAX_LEN + 1,\n",
    ")"
   ]
  },
  {
   "cell_type": "code",
   "execution_count": 30,
   "id": "4d6dd34a-d905-497b-926a-405380ebcf98",
   "metadata": {},
   "outputs": [],
   "source": [
    "# Adapt the layer to the training set\n",
    "vectorize_layer.adapt(text_ds)\n",
    "vocab = vectorize_layer.get_vocabulary()"
   ]
  },
  {
   "cell_type": "code",
   "execution_count": 31,
   "id": "f6c1c7ce-3cf0-40d4-a3dc-ab7090f69f2f",
   "metadata": {},
   "outputs": [
    {
     "name": "stdout",
     "output_type": "stream",
     "text": [
      "0: \n",
      "1: [UNK]\n",
      "2: .\n",
      "3: ,\n",
      "4: and\n",
      "5: to\n",
      "6: in\n",
      "7: the\n",
      "8: with\n",
      "9: a\n"
     ]
    }
   ],
   "source": [
    "# Display some token:word mappings\n",
    "for i, word in enumerate(vocab[:10]):\n",
    "    print(f'{i}: {word}')"
   ]
  },
  {
   "cell_type": "code",
   "execution_count": 32,
   "id": "1cc30186-7ec6-4eb6-b29a-65df6714d321",
   "metadata": {},
   "outputs": [
    {
     "name": "stdout",
     "output_type": "stream",
     "text": [
      "[  26   16  557    1    8  298  335  189    4 1054  494   27  332  228\n",
      "  235  262    5  594   11  133   22  311    2  332   45  262    4  671\n",
      "    4   70    8  171    4   81    6    9   65   80    3  121    3   59\n",
      "   12    2  299    3   88  650   20   39    6    9   29   21    4   67\n",
      "  529   11  164    2  320  171  102    9  374   13  643  306   25   21\n",
      "    8  650    4   42    5  931    2   63    8   24    4   33    2  114\n",
      "   21    6  178  181 1245    4   60    5  140  112    3   48    2  117\n",
      "  557    8  285  235    4  200  292  980    2  107  650   28   72    4\n",
      "  108   10  114    3   57  204   11  172    2   73  110  482    3  298\n",
      "    3  190    3   11   23   32  142   24    3    4   11   23   32  142\n",
      "   33    6    9   30   21    2   42    6  353    3 3224    3    4  150\n",
      "    2  437  494    8 1281    3   37    3   11   23   15  142   33    3\n",
      "    4   11   23   32  142   24    6    9  291  188    5    9  412  572\n",
      "    2  230  494    3   46  335  189    3   20  557    2    0    0    0\n",
      "    0    0    0    0    0]\n"
     ]
    }
   ],
   "source": [
    "# Display the same example converted to ints\n",
    "example_tokenised = vectorize_layer(example_data)\n",
    "print(example_tokenised.numpy())"
   ]
  },
  {
   "cell_type": "markdown",
   "id": "8c195efb-84c6-4be0-a989-a7542188ad35",
   "metadata": {},
   "source": [
    "## 3. Create the Training Set"
   ]
  },
  {
   "cell_type": "code",
   "execution_count": 33,
   "id": "740294a1-1a6b-4c89-92f2-036d7d1b788b",
   "metadata": {},
   "outputs": [],
   "source": [
    "# Create the training set of recipes and the same text shifted by one word\n",
    "def prepare_inputs(text):\n",
    "    text = tf.expand_dims(text, -1)\n",
    "    tokenized_sentences = vectorize_layer(text)\n",
    "    x = tokenized_sentences[:, :-1]\n",
    "    y = tokenized_sentences[:, 1:]\n",
    "    return x, y\n",
    "\n",
    "train_ds = text_ds.map(prepare_inputs)"
   ]
  },
  {
   "cell_type": "markdown",
   "id": "aff50401-3abe-4c10-bba8-b35bc13ad7d5",
   "metadata": {
    "tags": []
   },
   "source": [
    "## 2. Build the LSTM <a name=\"build\"></a>"
   ]
  },
  {
   "cell_type": "code",
   "execution_count": 38,
   "id": "9230b5bf-b4a8-48d5-b73b-6899a598f296",
   "metadata": {},
   "outputs": [
    {
     "name": "stdout",
     "output_type": "stream",
     "text": [
      "Model: \"model_1\"\n",
      "_________________________________________________________________\n",
      " Layer (type)                Output Shape              Param #   \n",
      "=================================================================\n",
      " input_2 (InputLayer)        [(None, None)]            0         \n",
      "                                                                 \n",
      " embedding_1 (Embedding)     (None, None, 100)         1000000   \n",
      "                                                                 \n",
      " lstm_1 (LSTM)               (None, None, 128)         117248    \n",
      "                                                                 \n",
      " dense_1 (Dense)             (None, None, 10000)       1290000   \n",
      "                                                                 \n",
      "=================================================================\n",
      "Total params: 2,407,248\n",
      "Trainable params: 2,407,248\n",
      "Non-trainable params: 0\n",
      "_________________________________________________________________\n"
     ]
    }
   ],
   "source": [
    "inputs = keras.layers.Input(shape=(None,), dtype=\"int32\")\n",
    "x = keras.layers.Embedding(VOCAB_SIZE, EMBEDDING_DIM)(inputs)\n",
    "x = keras.layers.LSTM(N_UNITS, return_sequences=True)(x)\n",
    "outputs = keras.layers.Dense(VOCAB_SIZE, activation = 'softmax')(x)\n",
    "model = keras.models.Model(inputs, outputs)\n",
    "model.summary()"
   ]
  },
  {
   "cell_type": "code",
   "execution_count": 39,
   "id": "800a3c6e-fb11-4792-b6bc-9a43a7c977ad",
   "metadata": {
    "tags": []
   },
   "outputs": [],
   "source": [
    "if LOAD_MODEL:\n",
    "    # model.load_weights('./models/model')\n",
    "    keras.models.load_model('./models/model', compile=False)"
   ]
  },
  {
   "cell_type": "markdown",
   "id": "35b14665-4359-447b-be58-3fd58ba69084",
   "metadata": {},
   "source": [
    "## 3. Train the LSTM <a name=\"train\"></a>"
   ]
  },
  {
   "cell_type": "code",
   "execution_count": 47,
   "id": "ffb1bd3b-6fd9-4536-973e-6375bbcbf16d",
   "metadata": {},
   "outputs": [],
   "source": [
    "loss_fn = keras.losses.SparseCategoricalCrossentropy()\n",
    "model.compile(\"adam\", loss_fn)"
   ]
  },
  {
   "cell_type": "code",
   "execution_count": 51,
   "id": "3ddcff5f-829d-4449-99d2-9a3cb68f7d72",
   "metadata": {},
   "outputs": [],
   "source": [
    "# Create a TextGenerator checkpoint\n",
    "class TextGenerator(keras.callbacks.Callback):\n",
    "    def __init__(self, index_to_word, top_k=10):\n",
    "        self.index_to_word = index_to_word\n",
    "        self.word_to_index = {}\n",
    "        for index, word in enumerate(index_to_word):\n",
    "            self.word_to_index[word] = index\n",
    "\n",
    "    def sample_from(self, probs, temperature):\n",
    "        probs = probs ** (1 / temperature)\n",
    "        probs = probs / np.sum(probs)\n",
    "        return np.random.choice(len(probs), p=probs), probs \n",
    "    \n",
    "    def generate(self, start_prompt, max_tokens = 40, temperature = 1.0):\n",
    "        start_tokens = [self.word_to_index.get(x, 1) for x in start_prompt.split()]\n",
    "        num_tokens_generated = 0\n",
    "        tokens_generated = []\n",
    "        info = []\n",
    "        sample_token = None\n",
    "        while num_tokens_generated <= max_tokens and sample_token != 0:\n",
    "            x = np.array([start_tokens])\n",
    "            y = self.model.predict(x)\n",
    "            sample_token, probs = self.sample_from(y[0][-1], temperature)\n",
    "            \n",
    "            info.append({'prompt': start_prompt , 'word_probs': probs})\n",
    "    \n",
    "            tokens_generated.append(sample_token)\n",
    "            start_tokens.append(sample_token)\n",
    "            start_prompt = start_prompt + ' ' + self.index_to_word[sample_token]\n",
    "            \n",
    "            num_tokens_generated = len(tokens_generated)\n",
    "   \n",
    "        print(f\"generated text:\\n{start_prompt}\\n\")\n",
    "        return info\n",
    "        \n",
    "    def on_epoch_end(self, epoch, logs=None):\n",
    "        self.generate(\"recipe for\", max_tokens = 40)\n",
    "        "
   ]
  },
  {
   "cell_type": "code",
   "execution_count": 52,
   "id": "349865fe-ffbe-450e-97be-043ae1740e78",
   "metadata": {},
   "outputs": [],
   "source": [
    "# Create a model save checkpoint\n",
    "model_checkpoint_callback = keras.callbacks.ModelCheckpoint(\n",
    "    filepath=\"./checkpoint/checkpoint.ckpt\",\n",
    "    save_weights_only=True,\n",
    "    save_freq=\"epoch\",\n",
    "    verbose=0,\n",
    ")\n",
    "\n",
    "tensorboard_callback = keras.callbacks.TensorBoard(log_dir=\"./logs\")\n",
    "\n",
    "# Tokenize starting prompt\n",
    "text_generator = TextGenerator(vocab)"
   ]
  },
  {
   "cell_type": "code",
   "execution_count": 54,
   "id": "461c2b3e-b5ae-4def-8bd9-e7bab8c63d8e",
   "metadata": {
    "tags": []
   },
   "outputs": [
    {
     "name": "stdout",
     "output_type": "stream",
     "text": [
      "Epoch 1/25\n",
      "3/3 [==============================] - ETA: 0s - loss: 4.8274generated text:\n",
      "recipe for have bagged square skillet . | \n",
      "\n",
      "3/3 [==============================] - 3s 1s/step - loss: 4.8274\n",
      "Epoch 2/25\n",
      "3/3 [==============================] - ETA: 0s - loss: 4.6818generated text:\n",
      "recipe for tucked working volume plate and half to 1 \n",
      "\n",
      "3/3 [==============================] - 2s 705ms/step - loss: 4.6818\n",
      "Epoch 3/25\n",
      "3/3 [==============================] - ETA: 0s - loss: 4.8788generated text:\n",
      "recipe for fruit color simmer flavors \n",
      "\n",
      "3/3 [==============================] - 2s 652ms/step - loss: 4.8788\n",
      "Epoch 4/25\n",
      "3/3 [==============================] - ETA: 0s - loss: 4.8780generated text:\n",
      "recipe for quesadilla wild up thyme \n",
      "\n",
      "3/3 [==============================] - 2s 685ms/step - loss: 4.8780\n",
      "Epoch 5/25\n",
      "2/3 [===================>..........] - ETA: 0s - loss: 4.6574"
     ]
    },
    {
     "ename": "KeyboardInterrupt",
     "evalue": "",
     "output_type": "error",
     "traceback": [
      "\u001b[0;31m---------------------------------------------------------------------------\u001b[0m",
      "\u001b[0;31mKeyboardInterrupt\u001b[0m                         Traceback (most recent call last)",
      "Input \u001b[0;32mIn [54]\u001b[0m, in \u001b[0;36m<cell line: 1>\u001b[0;34m()\u001b[0m\n\u001b[0;32m----> 1\u001b[0m \u001b[43mmodel\u001b[49m\u001b[38;5;241;43m.\u001b[39;49m\u001b[43mfit\u001b[49m\u001b[43m(\u001b[49m\n\u001b[1;32m      2\u001b[0m \u001b[43m    \u001b[49m\u001b[43mtrain_ds\u001b[49m\u001b[43m,\u001b[49m\u001b[43m \u001b[49m\n\u001b[1;32m      3\u001b[0m \u001b[43m    \u001b[49m\u001b[43mepochs\u001b[49m\u001b[38;5;241;43m=\u001b[39;49m\u001b[38;5;241;43m25\u001b[39;49m\u001b[43m,\u001b[49m\u001b[43m \u001b[49m\n\u001b[1;32m      4\u001b[0m \u001b[43m    \u001b[49m\u001b[43msteps_per_epoch\u001b[49m\u001b[43m \u001b[49m\u001b[38;5;241;43m=\u001b[39;49m\u001b[43m \u001b[49m\u001b[38;5;241;43m3\u001b[39;49m\u001b[43m,\u001b[49m\n\u001b[1;32m      5\u001b[0m \u001b[43m    \u001b[49m\u001b[43mcallbacks\u001b[49m\u001b[43m \u001b[49m\u001b[38;5;241;43m=\u001b[39;49m\u001b[43m \u001b[49m\u001b[43m[\u001b[49m\u001b[43mmodel_checkpoint_callback\u001b[49m\u001b[43m,\u001b[49m\u001b[43m \u001b[49m\u001b[43mtensorboard_callback\u001b[49m\u001b[43m,\u001b[49m\u001b[43m \u001b[49m\u001b[43mtext_generator\u001b[49m\u001b[43m]\u001b[49m\n\u001b[1;32m      6\u001b[0m \u001b[43m)\u001b[49m\n",
      "File \u001b[0;32m/usr/local/lib/python3.8/dist-packages/keras/utils/traceback_utils.py:64\u001b[0m, in \u001b[0;36mfilter_traceback.<locals>.error_handler\u001b[0;34m(*args, **kwargs)\u001b[0m\n\u001b[1;32m     62\u001b[0m filtered_tb \u001b[38;5;241m=\u001b[39m \u001b[38;5;28;01mNone\u001b[39;00m\n\u001b[1;32m     63\u001b[0m \u001b[38;5;28;01mtry\u001b[39;00m:\n\u001b[0;32m---> 64\u001b[0m   \u001b[38;5;28;01mreturn\u001b[39;00m \u001b[43mfn\u001b[49m\u001b[43m(\u001b[49m\u001b[38;5;241;43m*\u001b[39;49m\u001b[43margs\u001b[49m\u001b[43m,\u001b[49m\u001b[43m \u001b[49m\u001b[38;5;241;43m*\u001b[39;49m\u001b[38;5;241;43m*\u001b[39;49m\u001b[43mkwargs\u001b[49m\u001b[43m)\u001b[49m\n\u001b[1;32m     65\u001b[0m \u001b[38;5;28;01mexcept\u001b[39;00m \u001b[38;5;167;01mException\u001b[39;00m \u001b[38;5;28;01mas\u001b[39;00m e:  \u001b[38;5;66;03m# pylint: disable=broad-except\u001b[39;00m\n\u001b[1;32m     66\u001b[0m   filtered_tb \u001b[38;5;241m=\u001b[39m _process_traceback_frames(e\u001b[38;5;241m.\u001b[39m__traceback__)\n",
      "File \u001b[0;32m/usr/local/lib/python3.8/dist-packages/keras/engine/training.py:1384\u001b[0m, in \u001b[0;36mModel.fit\u001b[0;34m(self, x, y, batch_size, epochs, verbose, callbacks, validation_split, validation_data, shuffle, class_weight, sample_weight, initial_epoch, steps_per_epoch, validation_steps, validation_batch_size, validation_freq, max_queue_size, workers, use_multiprocessing)\u001b[0m\n\u001b[1;32m   1377\u001b[0m \u001b[38;5;28;01mwith\u001b[39;00m tf\u001b[38;5;241m.\u001b[39mprofiler\u001b[38;5;241m.\u001b[39mexperimental\u001b[38;5;241m.\u001b[39mTrace(\n\u001b[1;32m   1378\u001b[0m     \u001b[38;5;124m'\u001b[39m\u001b[38;5;124mtrain\u001b[39m\u001b[38;5;124m'\u001b[39m,\n\u001b[1;32m   1379\u001b[0m     epoch_num\u001b[38;5;241m=\u001b[39mepoch,\n\u001b[1;32m   1380\u001b[0m     step_num\u001b[38;5;241m=\u001b[39mstep,\n\u001b[1;32m   1381\u001b[0m     batch_size\u001b[38;5;241m=\u001b[39mbatch_size,\n\u001b[1;32m   1382\u001b[0m     _r\u001b[38;5;241m=\u001b[39m\u001b[38;5;241m1\u001b[39m):\n\u001b[1;32m   1383\u001b[0m   callbacks\u001b[38;5;241m.\u001b[39mon_train_batch_begin(step)\n\u001b[0;32m-> 1384\u001b[0m   tmp_logs \u001b[38;5;241m=\u001b[39m \u001b[38;5;28;43mself\u001b[39;49m\u001b[38;5;241;43m.\u001b[39;49m\u001b[43mtrain_function\u001b[49m\u001b[43m(\u001b[49m\u001b[43miterator\u001b[49m\u001b[43m)\u001b[49m\n\u001b[1;32m   1385\u001b[0m   \u001b[38;5;28;01mif\u001b[39;00m data_handler\u001b[38;5;241m.\u001b[39mshould_sync:\n\u001b[1;32m   1386\u001b[0m     context\u001b[38;5;241m.\u001b[39masync_wait()\n",
      "File \u001b[0;32m/usr/local/lib/python3.8/dist-packages/tensorflow/python/util/traceback_utils.py:150\u001b[0m, in \u001b[0;36mfilter_traceback.<locals>.error_handler\u001b[0;34m(*args, **kwargs)\u001b[0m\n\u001b[1;32m    148\u001b[0m filtered_tb \u001b[38;5;241m=\u001b[39m \u001b[38;5;28;01mNone\u001b[39;00m\n\u001b[1;32m    149\u001b[0m \u001b[38;5;28;01mtry\u001b[39;00m:\n\u001b[0;32m--> 150\u001b[0m   \u001b[38;5;28;01mreturn\u001b[39;00m \u001b[43mfn\u001b[49m\u001b[43m(\u001b[49m\u001b[38;5;241;43m*\u001b[39;49m\u001b[43margs\u001b[49m\u001b[43m,\u001b[49m\u001b[43m \u001b[49m\u001b[38;5;241;43m*\u001b[39;49m\u001b[38;5;241;43m*\u001b[39;49m\u001b[43mkwargs\u001b[49m\u001b[43m)\u001b[49m\n\u001b[1;32m    151\u001b[0m \u001b[38;5;28;01mexcept\u001b[39;00m \u001b[38;5;167;01mException\u001b[39;00m \u001b[38;5;28;01mas\u001b[39;00m e:\n\u001b[1;32m    152\u001b[0m   filtered_tb \u001b[38;5;241m=\u001b[39m _process_traceback_frames(e\u001b[38;5;241m.\u001b[39m__traceback__)\n",
      "File \u001b[0;32m/usr/local/lib/python3.8/dist-packages/tensorflow/python/eager/def_function.py:915\u001b[0m, in \u001b[0;36mFunction.__call__\u001b[0;34m(self, *args, **kwds)\u001b[0m\n\u001b[1;32m    912\u001b[0m compiler \u001b[38;5;241m=\u001b[39m \u001b[38;5;124m\"\u001b[39m\u001b[38;5;124mxla\u001b[39m\u001b[38;5;124m\"\u001b[39m \u001b[38;5;28;01mif\u001b[39;00m \u001b[38;5;28mself\u001b[39m\u001b[38;5;241m.\u001b[39m_jit_compile \u001b[38;5;28;01melse\u001b[39;00m \u001b[38;5;124m\"\u001b[39m\u001b[38;5;124mnonXla\u001b[39m\u001b[38;5;124m\"\u001b[39m\n\u001b[1;32m    914\u001b[0m \u001b[38;5;28;01mwith\u001b[39;00m OptionalXlaContext(\u001b[38;5;28mself\u001b[39m\u001b[38;5;241m.\u001b[39m_jit_compile):\n\u001b[0;32m--> 915\u001b[0m   result \u001b[38;5;241m=\u001b[39m \u001b[38;5;28;43mself\u001b[39;49m\u001b[38;5;241;43m.\u001b[39;49m\u001b[43m_call\u001b[49m\u001b[43m(\u001b[49m\u001b[38;5;241;43m*\u001b[39;49m\u001b[43margs\u001b[49m\u001b[43m,\u001b[49m\u001b[43m \u001b[49m\u001b[38;5;241;43m*\u001b[39;49m\u001b[38;5;241;43m*\u001b[39;49m\u001b[43mkwds\u001b[49m\u001b[43m)\u001b[49m\n\u001b[1;32m    917\u001b[0m new_tracing_count \u001b[38;5;241m=\u001b[39m \u001b[38;5;28mself\u001b[39m\u001b[38;5;241m.\u001b[39mexperimental_get_tracing_count()\n\u001b[1;32m    918\u001b[0m without_tracing \u001b[38;5;241m=\u001b[39m (tracing_count \u001b[38;5;241m==\u001b[39m new_tracing_count)\n",
      "File \u001b[0;32m/usr/local/lib/python3.8/dist-packages/tensorflow/python/eager/def_function.py:947\u001b[0m, in \u001b[0;36mFunction._call\u001b[0;34m(self, *args, **kwds)\u001b[0m\n\u001b[1;32m    944\u001b[0m   \u001b[38;5;28mself\u001b[39m\u001b[38;5;241m.\u001b[39m_lock\u001b[38;5;241m.\u001b[39mrelease()\n\u001b[1;32m    945\u001b[0m   \u001b[38;5;66;03m# In this case we have created variables on the first call, so we run the\u001b[39;00m\n\u001b[1;32m    946\u001b[0m   \u001b[38;5;66;03m# defunned version which is guaranteed to never create variables.\u001b[39;00m\n\u001b[0;32m--> 947\u001b[0m   \u001b[38;5;28;01mreturn\u001b[39;00m \u001b[38;5;28;43mself\u001b[39;49m\u001b[38;5;241;43m.\u001b[39;49m\u001b[43m_stateless_fn\u001b[49m\u001b[43m(\u001b[49m\u001b[38;5;241;43m*\u001b[39;49m\u001b[43margs\u001b[49m\u001b[43m,\u001b[49m\u001b[43m \u001b[49m\u001b[38;5;241;43m*\u001b[39;49m\u001b[38;5;241;43m*\u001b[39;49m\u001b[43mkwds\u001b[49m\u001b[43m)\u001b[49m  \u001b[38;5;66;03m# pylint: disable=not-callable\u001b[39;00m\n\u001b[1;32m    948\u001b[0m \u001b[38;5;28;01melif\u001b[39;00m \u001b[38;5;28mself\u001b[39m\u001b[38;5;241m.\u001b[39m_stateful_fn \u001b[38;5;129;01mis\u001b[39;00m \u001b[38;5;129;01mnot\u001b[39;00m \u001b[38;5;28;01mNone\u001b[39;00m:\n\u001b[1;32m    949\u001b[0m   \u001b[38;5;66;03m# Release the lock early so that multiple threads can perform the call\u001b[39;00m\n\u001b[1;32m    950\u001b[0m   \u001b[38;5;66;03m# in parallel.\u001b[39;00m\n\u001b[1;32m    951\u001b[0m   \u001b[38;5;28mself\u001b[39m\u001b[38;5;241m.\u001b[39m_lock\u001b[38;5;241m.\u001b[39mrelease()\n",
      "File \u001b[0;32m/usr/local/lib/python3.8/dist-packages/tensorflow/python/eager/function.py:2956\u001b[0m, in \u001b[0;36mFunction.__call__\u001b[0;34m(self, *args, **kwargs)\u001b[0m\n\u001b[1;32m   2953\u001b[0m \u001b[38;5;28;01mwith\u001b[39;00m \u001b[38;5;28mself\u001b[39m\u001b[38;5;241m.\u001b[39m_lock:\n\u001b[1;32m   2954\u001b[0m   (graph_function,\n\u001b[1;32m   2955\u001b[0m    filtered_flat_args) \u001b[38;5;241m=\u001b[39m \u001b[38;5;28mself\u001b[39m\u001b[38;5;241m.\u001b[39m_maybe_define_function(args, kwargs)\n\u001b[0;32m-> 2956\u001b[0m \u001b[38;5;28;01mreturn\u001b[39;00m \u001b[43mgraph_function\u001b[49m\u001b[38;5;241;43m.\u001b[39;49m\u001b[43m_call_flat\u001b[49m\u001b[43m(\u001b[49m\n\u001b[1;32m   2957\u001b[0m \u001b[43m    \u001b[49m\u001b[43mfiltered_flat_args\u001b[49m\u001b[43m,\u001b[49m\u001b[43m \u001b[49m\u001b[43mcaptured_inputs\u001b[49m\u001b[38;5;241;43m=\u001b[39;49m\u001b[43mgraph_function\u001b[49m\u001b[38;5;241;43m.\u001b[39;49m\u001b[43mcaptured_inputs\u001b[49m\u001b[43m)\u001b[49m\n",
      "File \u001b[0;32m/usr/local/lib/python3.8/dist-packages/tensorflow/python/eager/function.py:1853\u001b[0m, in \u001b[0;36mConcreteFunction._call_flat\u001b[0;34m(self, args, captured_inputs, cancellation_manager)\u001b[0m\n\u001b[1;32m   1849\u001b[0m possible_gradient_type \u001b[38;5;241m=\u001b[39m gradients_util\u001b[38;5;241m.\u001b[39mPossibleTapeGradientTypes(args)\n\u001b[1;32m   1850\u001b[0m \u001b[38;5;28;01mif\u001b[39;00m (possible_gradient_type \u001b[38;5;241m==\u001b[39m gradients_util\u001b[38;5;241m.\u001b[39mPOSSIBLE_GRADIENT_TYPES_NONE\n\u001b[1;32m   1851\u001b[0m     \u001b[38;5;129;01mand\u001b[39;00m executing_eagerly):\n\u001b[1;32m   1852\u001b[0m   \u001b[38;5;66;03m# No tape is watching; skip to running the function.\u001b[39;00m\n\u001b[0;32m-> 1853\u001b[0m   \u001b[38;5;28;01mreturn\u001b[39;00m \u001b[38;5;28mself\u001b[39m\u001b[38;5;241m.\u001b[39m_build_call_outputs(\u001b[38;5;28;43mself\u001b[39;49m\u001b[38;5;241;43m.\u001b[39;49m\u001b[43m_inference_function\u001b[49m\u001b[38;5;241;43m.\u001b[39;49m\u001b[43mcall\u001b[49m\u001b[43m(\u001b[49m\n\u001b[1;32m   1854\u001b[0m \u001b[43m      \u001b[49m\u001b[43mctx\u001b[49m\u001b[43m,\u001b[49m\u001b[43m \u001b[49m\u001b[43margs\u001b[49m\u001b[43m,\u001b[49m\u001b[43m \u001b[49m\u001b[43mcancellation_manager\u001b[49m\u001b[38;5;241;43m=\u001b[39;49m\u001b[43mcancellation_manager\u001b[49m\u001b[43m)\u001b[49m)\n\u001b[1;32m   1855\u001b[0m forward_backward \u001b[38;5;241m=\u001b[39m \u001b[38;5;28mself\u001b[39m\u001b[38;5;241m.\u001b[39m_select_forward_and_backward_functions(\n\u001b[1;32m   1856\u001b[0m     args,\n\u001b[1;32m   1857\u001b[0m     possible_gradient_type,\n\u001b[1;32m   1858\u001b[0m     executing_eagerly)\n\u001b[1;32m   1859\u001b[0m forward_function, args_with_tangents \u001b[38;5;241m=\u001b[39m forward_backward\u001b[38;5;241m.\u001b[39mforward()\n",
      "File \u001b[0;32m/usr/local/lib/python3.8/dist-packages/tensorflow/python/eager/function.py:499\u001b[0m, in \u001b[0;36m_EagerDefinedFunction.call\u001b[0;34m(self, ctx, args, cancellation_manager)\u001b[0m\n\u001b[1;32m    497\u001b[0m \u001b[38;5;28;01mwith\u001b[39;00m _InterpolateFunctionError(\u001b[38;5;28mself\u001b[39m):\n\u001b[1;32m    498\u001b[0m   \u001b[38;5;28;01mif\u001b[39;00m cancellation_manager \u001b[38;5;129;01mis\u001b[39;00m \u001b[38;5;28;01mNone\u001b[39;00m:\n\u001b[0;32m--> 499\u001b[0m     outputs \u001b[38;5;241m=\u001b[39m \u001b[43mexecute\u001b[49m\u001b[38;5;241;43m.\u001b[39;49m\u001b[43mexecute\u001b[49m\u001b[43m(\u001b[49m\n\u001b[1;32m    500\u001b[0m \u001b[43m        \u001b[49m\u001b[38;5;28;43mstr\u001b[39;49m\u001b[43m(\u001b[49m\u001b[38;5;28;43mself\u001b[39;49m\u001b[38;5;241;43m.\u001b[39;49m\u001b[43msignature\u001b[49m\u001b[38;5;241;43m.\u001b[39;49m\u001b[43mname\u001b[49m\u001b[43m)\u001b[49m\u001b[43m,\u001b[49m\n\u001b[1;32m    501\u001b[0m \u001b[43m        \u001b[49m\u001b[43mnum_outputs\u001b[49m\u001b[38;5;241;43m=\u001b[39;49m\u001b[38;5;28;43mself\u001b[39;49m\u001b[38;5;241;43m.\u001b[39;49m\u001b[43m_num_outputs\u001b[49m\u001b[43m,\u001b[49m\n\u001b[1;32m    502\u001b[0m \u001b[43m        \u001b[49m\u001b[43minputs\u001b[49m\u001b[38;5;241;43m=\u001b[39;49m\u001b[43margs\u001b[49m\u001b[43m,\u001b[49m\n\u001b[1;32m    503\u001b[0m \u001b[43m        \u001b[49m\u001b[43mattrs\u001b[49m\u001b[38;5;241;43m=\u001b[39;49m\u001b[43mattrs\u001b[49m\u001b[43m,\u001b[49m\n\u001b[1;32m    504\u001b[0m \u001b[43m        \u001b[49m\u001b[43mctx\u001b[49m\u001b[38;5;241;43m=\u001b[39;49m\u001b[43mctx\u001b[49m\u001b[43m)\u001b[49m\n\u001b[1;32m    505\u001b[0m   \u001b[38;5;28;01melse\u001b[39;00m:\n\u001b[1;32m    506\u001b[0m     outputs \u001b[38;5;241m=\u001b[39m execute\u001b[38;5;241m.\u001b[39mexecute_with_cancellation(\n\u001b[1;32m    507\u001b[0m         \u001b[38;5;28mstr\u001b[39m(\u001b[38;5;28mself\u001b[39m\u001b[38;5;241m.\u001b[39msignature\u001b[38;5;241m.\u001b[39mname),\n\u001b[1;32m    508\u001b[0m         num_outputs\u001b[38;5;241m=\u001b[39m\u001b[38;5;28mself\u001b[39m\u001b[38;5;241m.\u001b[39m_num_outputs,\n\u001b[0;32m   (...)\u001b[0m\n\u001b[1;32m    511\u001b[0m         ctx\u001b[38;5;241m=\u001b[39mctx,\n\u001b[1;32m    512\u001b[0m         cancellation_manager\u001b[38;5;241m=\u001b[39mcancellation_manager)\n",
      "File \u001b[0;32m/usr/local/lib/python3.8/dist-packages/tensorflow/python/eager/execute.py:54\u001b[0m, in \u001b[0;36mquick_execute\u001b[0;34m(op_name, num_outputs, inputs, attrs, ctx, name)\u001b[0m\n\u001b[1;32m     52\u001b[0m \u001b[38;5;28;01mtry\u001b[39;00m:\n\u001b[1;32m     53\u001b[0m   ctx\u001b[38;5;241m.\u001b[39mensure_initialized()\n\u001b[0;32m---> 54\u001b[0m   tensors \u001b[38;5;241m=\u001b[39m \u001b[43mpywrap_tfe\u001b[49m\u001b[38;5;241;43m.\u001b[39;49m\u001b[43mTFE_Py_Execute\u001b[49m\u001b[43m(\u001b[49m\u001b[43mctx\u001b[49m\u001b[38;5;241;43m.\u001b[39;49m\u001b[43m_handle\u001b[49m\u001b[43m,\u001b[49m\u001b[43m \u001b[49m\u001b[43mdevice_name\u001b[49m\u001b[43m,\u001b[49m\u001b[43m \u001b[49m\u001b[43mop_name\u001b[49m\u001b[43m,\u001b[49m\n\u001b[1;32m     55\u001b[0m \u001b[43m                                      \u001b[49m\u001b[43minputs\u001b[49m\u001b[43m,\u001b[49m\u001b[43m \u001b[49m\u001b[43mattrs\u001b[49m\u001b[43m,\u001b[49m\u001b[43m \u001b[49m\u001b[43mnum_outputs\u001b[49m\u001b[43m)\u001b[49m\n\u001b[1;32m     56\u001b[0m \u001b[38;5;28;01mexcept\u001b[39;00m core\u001b[38;5;241m.\u001b[39m_NotOkStatusException \u001b[38;5;28;01mas\u001b[39;00m e:\n\u001b[1;32m     57\u001b[0m   \u001b[38;5;28;01mif\u001b[39;00m name \u001b[38;5;129;01mis\u001b[39;00m \u001b[38;5;129;01mnot\u001b[39;00m \u001b[38;5;28;01mNone\u001b[39;00m:\n",
      "\u001b[0;31mKeyboardInterrupt\u001b[0m: "
     ]
    }
   ],
   "source": [
    "model.fit(\n",
    "    train_ds, \n",
    "    epochs=25, \n",
    "    steps_per_epoch = 3,\n",
    "    callbacks = [model_checkpoint_callback, tensorboard_callback, text_generator]\n",
    ")"
   ]
  },
  {
   "cell_type": "code",
   "execution_count": null,
   "id": "369bde44-2e39-4bc6-8549-a3a27ecce55c",
   "metadata": {
    "tags": []
   },
   "outputs": [],
   "source": [
    "# Save the final model\n",
    "model.save(\"./models/model\")"
   ]
  },
  {
   "cell_type": "markdown",
   "id": "d64e02d2-84dc-40c8-8446-40c09adf1e20",
   "metadata": {},
   "source": [
    "# 3. Generate text using the LSTM"
   ]
  },
  {
   "cell_type": "code",
   "execution_count": 55,
   "id": "4ad23adb-3ec9-4e9a-9a59-b9f9bafca649",
   "metadata": {},
   "outputs": [],
   "source": [
    "def print_probs(info, vocab, top_k = 5):\n",
    "    for i in info:\n",
    "        print(f\"\\nPROMPT: {i['prompt']}\")\n",
    "        word_probs = i['word_probs']\n",
    "        p_sorted = np.sort(word_probs)[::-1][:top_k]\n",
    "        i_sorted = np.argsort(word_probs)[::-1][:top_k]\n",
    "        for p, i in zip(p_sorted, i_sorted):\n",
    "            print(f'{vocab[i]}:   \\t{np.round(100*p,2)}%') \n",
    "        print('--------\\n')"
   ]
  },
  {
   "cell_type": "code",
   "execution_count": 56,
   "id": "3cf25578-d47c-4b26-8252-fcdf2316a4ac",
   "metadata": {},
   "outputs": [
    {
     "name": "stdout",
     "output_type": "stream",
     "text": [
      "generated text:\n",
      "recipe for view high , remove , \n",
      "\n"
     ]
    }
   ],
   "source": [
    "info = text_generator.generate(\"recipe for\", max_tokens = 40, temperature = 1.0)"
   ]
  },
  {
   "cell_type": "code",
   "execution_count": 57,
   "id": "9df72866-b483-4489-8e26-d5e1466410fa",
   "metadata": {
    "tags": []
   },
   "outputs": [
    {
     "name": "stdout",
     "output_type": "stream",
     "text": [
      "\n",
      "PROMPT: recipe for\n",
      ":   \t0.24%\n",
      ".:   \t0.15%\n",
      ",:   \t0.14%\n",
      "and:   \t0.13%\n",
      "to:   \t0.11%\n",
      "--------\n",
      "\n",
      "\n",
      "PROMPT: recipe for view\n",
      ":   \t2.42%\n",
      ".:   \t0.94%\n",
      ",:   \t0.85%\n",
      "and:   \t0.74%\n",
      "to:   \t0.52%\n",
      "--------\n",
      "\n",
      "\n",
      "PROMPT: recipe for view high\n",
      ":   \t15.23%\n",
      ".:   \t3.57%\n",
      ",:   \t3.05%\n",
      "and:   \t2.43%\n",
      "to:   \t1.45%\n",
      "--------\n",
      "\n",
      "\n",
      "PROMPT: recipe for view high ,\n",
      ":   \t25.24%\n",
      ".:   \t4.83%\n",
      ",:   \t4.03%\n",
      "and:   \t3.1%\n",
      "to:   \t1.74%\n",
      "--------\n",
      "\n",
      "\n",
      "PROMPT: recipe for view high , remove\n",
      ":   \t27.61%\n",
      ".:   \t5.06%\n",
      ",:   \t4.2%\n",
      "and:   \t3.21%\n",
      "to:   \t1.77%\n",
      "--------\n",
      "\n",
      "\n",
      "PROMPT: recipe for view high , remove ,\n",
      ":   \t28.06%\n",
      ".:   \t5.1%\n",
      ",:   \t4.24%\n",
      "and:   \t3.23%\n",
      "to:   \t1.78%\n",
      "--------\n",
      "\n"
     ]
    }
   ],
   "source": [
    "print_probs(info, vocab)"
   ]
  },
  {
   "cell_type": "code",
   "execution_count": 153,
   "id": "562e1fe8-cbcb-438f-9637-2f2a6279c924",
   "metadata": {},
   "outputs": [
    {
     "name": "stdout",
     "output_type": "stream",
     "text": [
      "generated text:\n",
      "recipe for grilled steak with roasted peppers and garlic | preheat oven to 350°f . butter 13x9x2 - inch glass baking dish . combine 1 / 2 cup sugar , and 1 / 2 cup sugar in heavy medium saucepan over medium heat\n",
      "\n"
     ]
    }
   ],
   "source": [
    "info = text_generator.generate(\"recipe for\", max_tokens = 40, temperature = 0.1)"
   ]
  },
  {
   "cell_type": "code",
   "execution_count": 154,
   "id": "56356f21-04ac-40e5-94ff-291eca6a7054",
   "metadata": {},
   "outputs": [
    {
     "name": "stdout",
     "output_type": "stream",
     "text": [
      "\n",
      "PROMPT: recipe for\n",
      "grilled:   \t97.53%\n",
      "roasted:   \t1.67%\n",
      "chicken:   \t0.65%\n",
      "chocolate:   \t0.1%\n",
      "lemon:   \t0.04%\n",
      "--------\n",
      "\n",
      "\n",
      "PROMPT: recipe for grilled\n",
      "chicken:   \t94.24%\n",
      "pork:   \t5.1%\n",
      "salmon:   \t0.55%\n",
      "steak:   \t0.1%\n",
      "beef:   \t0.0%\n",
      "--------\n",
      "\n",
      "\n",
      "PROMPT: recipe for grilled steak\n",
      "with:   \t100.0%\n",
      "and:   \t0.0%\n",
      "salad:   \t0.0%\n",
      "chops:   \t0.0%\n",
      ",:   \t0.0%\n",
      "--------\n",
      "\n",
      "\n",
      "PROMPT: recipe for grilled steak with\n",
      "roasted:   \t36.56%\n",
      "garlic:   \t34.7%\n",
      "lemon:   \t10.92%\n",
      "green:   \t5.64%\n",
      "tomato:   \t3.55%\n",
      "--------\n",
      "\n",
      "\n",
      "PROMPT: recipe for grilled steak with roasted\n",
      "peppers:   \t91.95%\n",
      "garlic:   \t7.67%\n",
      "tomatoes:   \t0.29%\n",
      "red:   \t0.07%\n",
      "-:   \t0.02%\n",
      "--------\n",
      "\n",
      "\n",
      "PROMPT: recipe for grilled steak with roasted peppers\n",
      "and:   \t100.0%\n",
      ",:   \t0.0%\n",
      "|:   \t0.0%\n",
      ".:   \t0.0%\n",
      "with:   \t0.0%\n",
      "--------\n",
      "\n",
      "\n",
      "PROMPT: recipe for grilled steak with roasted peppers and\n",
      "garlic:   \t98.66%\n",
      "red:   \t1.33%\n",
      "arugula:   \t0.0%\n",
      "olives:   \t0.0%\n",
      "cilantro:   \t0.0%\n",
      "--------\n",
      "\n",
      "\n",
      "PROMPT: recipe for grilled steak with roasted peppers and garlic\n",
      "|:   \t100.0%\n",
      "dressing:   \t0.0%\n",
      "and:   \t0.0%\n",
      "sauce:   \t0.0%\n",
      "vinaigrette:   \t0.0%\n",
      "--------\n",
      "\n",
      "\n",
      "PROMPT: recipe for grilled steak with roasted peppers and garlic |\n",
      "preheat:   \t90.82%\n",
      "heat:   \t9.16%\n",
      "in:   \t0.01%\n",
      "cook:   \t0.0%\n",
      "whisk:   \t0.0%\n",
      "--------\n",
      "\n",
      "\n",
      "PROMPT: recipe for grilled steak with roasted peppers and garlic | preheat\n",
      "oven:   \t100.0%\n",
      "broiler:   \t0.0%\n",
      "the:   \t0.0%\n",
      "to:   \t0.0%\n",
      "1:   \t0.0%\n",
      "--------\n",
      "\n",
      "\n",
      "PROMPT: recipe for grilled steak with roasted peppers and garlic | preheat oven\n",
      "to:   \t100.0%\n",
      "rack:   \t0.0%\n",
      "with:   \t0.0%\n",
      "for:   \t0.0%\n",
      "in:   \t0.0%\n",
      "--------\n",
      "\n",
      "\n",
      "PROMPT: recipe for grilled steak with roasted peppers and garlic | preheat oven to\n",
      "350°f:   \t57.32%\n",
      "450°f:   \t28.02%\n",
      "400°f:   \t14.29%\n",
      "375°f:   \t0.29%\n",
      "425°f:   \t0.09%\n",
      "--------\n",
      "\n",
      "\n",
      "PROMPT: recipe for grilled steak with roasted peppers and garlic | preheat oven to 350°f\n",
      ".:   \t100.0%\n",
      "with:   \t0.0%\n",
      "and:   \t0.0%\n",
      "(:   \t0.0%\n",
      ",:   \t0.0%\n",
      "--------\n",
      "\n",
      "\n",
      "PROMPT: recipe for grilled steak with roasted peppers and garlic | preheat oven to 350°f .\n",
      "butter:   \t99.88%\n",
      "in:   \t0.09%\n",
      "place:   \t0.03%\n",
      "heat:   \t0.01%\n",
      "line:   \t0.0%\n",
      "--------\n",
      "\n",
      "\n",
      "PROMPT: recipe for grilled steak with roasted peppers and garlic | preheat oven to 350°f . butter\n",
      "and:   \t53.25%\n",
      "13x9x2:   \t42.84%\n",
      "a:   \t3.86%\n",
      "large:   \t0.03%\n",
      "9:   \t0.01%\n",
      "--------\n",
      "\n",
      "\n",
      "PROMPT: recipe for grilled steak with roasted peppers and garlic | preheat oven to 350°f . butter 13x9x2\n",
      "-:   \t100.0%\n",
      "x:   \t0.0%\n",
      "inch:   \t0.0%\n",
      "large:   \t0.0%\n",
      ",:   \t0.0%\n",
      "--------\n",
      "\n",
      "\n",
      "PROMPT: recipe for grilled steak with roasted peppers and garlic | preheat oven to 350°f . butter 13x9x2 -\n",
      "inch:   \t100.0%\n",
      "cup:   \t0.0%\n",
      "by:   \t0.0%\n",
      "x:   \t0.0%\n",
      "-:   \t0.0%\n",
      "--------\n",
      "\n",
      "\n",
      "PROMPT: recipe for grilled steak with roasted peppers and garlic | preheat oven to 350°f . butter 13x9x2 - inch\n",
      "glass:   \t100.0%\n",
      "baking:   \t0.0%\n",
      "metal:   \t0.0%\n",
      "-:   \t0.0%\n",
      "heavy:   \t0.0%\n",
      "--------\n",
      "\n",
      "\n",
      "PROMPT: recipe for grilled steak with roasted peppers and garlic | preheat oven to 350°f . butter 13x9x2 - inch glass\n",
      "baking:   \t100.0%\n",
      "pie:   \t0.0%\n",
      "dish:   \t0.0%\n",
      "glass:   \t0.0%\n",
      "pan:   \t0.0%\n",
      "--------\n",
      "\n",
      "\n",
      "PROMPT: recipe for grilled steak with roasted peppers and garlic | preheat oven to 350°f . butter 13x9x2 - inch glass baking\n",
      "dish:   \t100.0%\n",
      "pan:   \t0.0%\n",
      "sheet:   \t0.0%\n",
      "pans:   \t0.0%\n",
      "baking:   \t0.0%\n",
      "--------\n",
      "\n",
      "\n",
      "PROMPT: recipe for grilled steak with roasted peppers and garlic | preheat oven to 350°f . butter 13x9x2 - inch glass baking dish\n",
      ".:   \t100.0%\n",
      ";:   \t0.0%\n",
      "with:   \t0.0%\n",
      "and:   \t0.0%\n",
      ",:   \t0.0%\n",
      "--------\n",
      "\n",
      "\n",
      "PROMPT: recipe for grilled steak with roasted peppers and garlic | preheat oven to 350°f . butter 13x9x2 - inch glass baking dish .\n",
      "mix:   \t63.13%\n",
      "combine:   \t25.01%\n",
      "whisk:   \t8.22%\n",
      "place:   \t2.3%\n",
      "melt:   \t0.72%\n",
      "--------\n",
      "\n",
      "\n",
      "PROMPT: recipe for grilled steak with roasted peppers and garlic | preheat oven to 350°f . butter 13x9x2 - inch glass baking dish . combine\n",
      "1:   \t93.77%\n",
      "first:   \t5.53%\n",
      "2:   \t0.58%\n",
      "sugar:   \t0.09%\n",
      "butter:   \t0.03%\n",
      "--------\n",
      "\n",
      "\n",
      "PROMPT: recipe for grilled steak with roasted peppers and garlic | preheat oven to 350°f . butter 13x9x2 - inch glass baking dish . combine 1\n",
      "/:   \t99.91%\n",
      "1:   \t0.09%\n",
      "cup:   \t0.0%\n",
      "tablespoon:   \t0.0%\n",
      "2:   \t0.0%\n",
      "--------\n",
      "\n",
      "\n",
      "PROMPT: recipe for grilled steak with roasted peppers and garlic | preheat oven to 350°f . butter 13x9x2 - inch glass baking dish . combine 1 /\n",
      "2:   \t98.42%\n",
      "4:   \t1.58%\n",
      "3:   \t0.0%\n",
      "8:   \t0.0%\n",
      "cup:   \t0.0%\n",
      "--------\n",
      "\n",
      "\n",
      "PROMPT: recipe for grilled steak with roasted peppers and garlic | preheat oven to 350°f . butter 13x9x2 - inch glass baking dish . combine 1 / 2\n",
      "cup:   \t100.0%\n",
      "cups:   \t0.0%\n",
      "teaspoon:   \t0.0%\n",
      "tsp:   \t0.0%\n",
      "-:   \t0.0%\n",
      "--------\n",
      "\n",
      "\n",
      "PROMPT: recipe for grilled steak with roasted peppers and garlic | preheat oven to 350°f . butter 13x9x2 - inch glass baking dish . combine 1 / 2 cup\n",
      "sugar:   \t99.58%\n",
      "water:   \t0.42%\n",
      "butter:   \t0.0%\n",
      "oil:   \t0.0%\n",
      "broth:   \t0.0%\n",
      "--------\n",
      "\n",
      "\n",
      "PROMPT: recipe for grilled steak with roasted peppers and garlic | preheat oven to 350°f . butter 13x9x2 - inch glass baking dish . combine 1 / 2 cup sugar\n",
      ",:   \t99.69%\n",
      "and:   \t0.31%\n",
      ".:   \t0.0%\n",
      ";:   \t0.0%\n",
      "in:   \t0.0%\n",
      "--------\n",
      "\n",
      "\n",
      "PROMPT: recipe for grilled steak with roasted peppers and garlic | preheat oven to 350°f . butter 13x9x2 - inch glass baking dish . combine 1 / 2 cup sugar ,\n",
      "1:   \t60.96%\n",
      "and:   \t38.29%\n",
      "sugar:   \t0.72%\n",
      "salt:   \t0.02%\n",
      "lemon:   \t0.01%\n",
      "--------\n",
      "\n",
      "\n",
      "PROMPT: recipe for grilled steak with roasted peppers and garlic | preheat oven to 350°f . butter 13x9x2 - inch glass baking dish . combine 1 / 2 cup sugar , and\n",
      "1:   \t99.94%\n",
      "salt:   \t0.06%\n",
      "2:   \t0.0%\n",
      "sugar:   \t0.0%\n",
      "lemon:   \t0.0%\n",
      "--------\n",
      "\n",
      "\n",
      "PROMPT: recipe for grilled steak with roasted peppers and garlic | preheat oven to 350°f . butter 13x9x2 - inch glass baking dish . combine 1 / 2 cup sugar , and 1\n",
      "/:   \t100.0%\n",
      "teaspoon:   \t0.0%\n",
      "tablespoon:   \t0.0%\n",
      "1:   \t0.0%\n",
      "cup:   \t0.0%\n",
      "--------\n",
      "\n",
      "\n",
      "PROMPT: recipe for grilled steak with roasted peppers and garlic | preheat oven to 350°f . butter 13x9x2 - inch glass baking dish . combine 1 / 2 cup sugar , and 1 /\n",
      "2:   \t93.19%\n",
      "4:   \t6.81%\n",
      "3:   \t0.0%\n",
      "8:   \t0.0%\n",
      "1:   \t0.0%\n",
      "--------\n",
      "\n",
      "\n",
      "PROMPT: recipe for grilled steak with roasted peppers and garlic | preheat oven to 350°f . butter 13x9x2 - inch glass baking dish . combine 1 / 2 cup sugar , and 1 / 2\n",
      "cup:   \t100.0%\n",
      "teaspoon:   \t0.0%\n",
      "tsp:   \t0.0%\n",
      "teaspoons:   \t0.0%\n",
      "cups:   \t0.0%\n",
      "--------\n",
      "\n",
      "\n",
      "PROMPT: recipe for grilled steak with roasted peppers and garlic | preheat oven to 350°f . butter 13x9x2 - inch glass baking dish . combine 1 / 2 cup sugar , and 1 / 2 cup\n",
      "sugar:   \t97.08%\n",
      "water:   \t2.92%\n",
      "butter:   \t0.0%\n",
      "of:   \t0.0%\n",
      "salt:   \t0.0%\n",
      "--------\n",
      "\n",
      "\n",
      "PROMPT: recipe for grilled steak with roasted peppers and garlic | preheat oven to 350°f . butter 13x9x2 - inch glass baking dish . combine 1 / 2 cup sugar , and 1 / 2 cup sugar\n",
      "in:   \t100.0%\n",
      "over:   \t0.0%\n",
      "to:   \t0.0%\n",
      ".:   \t0.0%\n",
      "and:   \t0.0%\n",
      "--------\n",
      "\n",
      "\n",
      "PROMPT: recipe for grilled steak with roasted peppers and garlic | preheat oven to 350°f . butter 13x9x2 - inch glass baking dish . combine 1 / 2 cup sugar , and 1 / 2 cup sugar in\n",
      "heavy:   \t99.87%\n",
      "small:   \t0.06%\n",
      "medium:   \t0.05%\n",
      "large:   \t0.02%\n",
      "processor:   \t0.0%\n",
      "--------\n",
      "\n",
      "\n",
      "PROMPT: recipe for grilled steak with roasted peppers and garlic | preheat oven to 350°f . butter 13x9x2 - inch glass baking dish . combine 1 / 2 cup sugar , and 1 / 2 cup sugar in heavy\n",
      "medium:   \t57.87%\n",
      "large:   \t42.09%\n",
      "small:   \t0.04%\n",
      "saucepan:   \t0.0%\n",
      "heavy:   \t0.0%\n",
      "--------\n",
      "\n",
      "\n",
      "PROMPT: recipe for grilled steak with roasted peppers and garlic | preheat oven to 350°f . butter 13x9x2 - inch glass baking dish . combine 1 / 2 cup sugar , and 1 / 2 cup sugar in heavy medium\n",
      "saucepan:   \t100.0%\n",
      "skillet:   \t0.0%\n",
      "bowl:   \t0.0%\n",
      "pot:   \t0.0%\n",
      "heat:   \t0.0%\n",
      "--------\n",
      "\n",
      "\n",
      "PROMPT: recipe for grilled steak with roasted peppers and garlic | preheat oven to 350°f . butter 13x9x2 - inch glass baking dish . combine 1 / 2 cup sugar , and 1 / 2 cup sugar in heavy medium saucepan\n",
      "over:   \t99.13%\n",
      ".:   \t0.87%\n",
      ";:   \t0.0%\n",
      ",:   \t0.0%\n",
      "until:   \t0.0%\n",
      "--------\n",
      "\n",
      "\n",
      "PROMPT: recipe for grilled steak with roasted peppers and garlic | preheat oven to 350°f . butter 13x9x2 - inch glass baking dish . combine 1 / 2 cup sugar , and 1 / 2 cup sugar in heavy medium saucepan over\n",
      "medium:   \t100.0%\n",
      "low:   \t0.0%\n",
      "high:   \t0.0%\n",
      "moderate:   \t0.0%\n",
      "moderately:   \t0.0%\n",
      "--------\n",
      "\n",
      "\n",
      "PROMPT: recipe for grilled steak with roasted peppers and garlic | preheat oven to 350°f . butter 13x9x2 - inch glass baking dish . combine 1 / 2 cup sugar , and 1 / 2 cup sugar in heavy medium saucepan over medium\n",
      "heat:   \t99.98%\n",
      "-:   \t0.02%\n",
      "saucepan:   \t0.0%\n",
      ".:   \t0.0%\n",
      "bowl:   \t0.0%\n",
      "--------\n",
      "\n"
     ]
    }
   ],
   "source": [
    "print_probs(info, vocab)"
   ]
  },
  {
   "cell_type": "code",
   "execution_count": null,
   "id": "2e434497-07f3-4989-a68d-3e31cf8fa4fe",
   "metadata": {},
   "outputs": [],
   "source": []
  }
 ],
 "metadata": {
  "kernelspec": {
   "display_name": "Python 3 (ipykernel)",
   "language": "python",
   "name": "python3"
  },
  "language_info": {
   "codemirror_mode": {
    "name": "ipython",
    "version": 3
   },
   "file_extension": ".py",
   "mimetype": "text/x-python",
   "name": "python",
   "nbconvert_exporter": "python",
   "pygments_lexer": "ipython3",
   "version": "3.8.10"
  }
 },
 "nbformat": 4,
 "nbformat_minor": 5
}
