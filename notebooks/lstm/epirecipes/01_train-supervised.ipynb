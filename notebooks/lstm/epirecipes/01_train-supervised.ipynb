{
 "cells": [
  {
   "cell_type": "markdown",
   "id": "b076bd1a-b236-4fbc-953d-8295b25122ae",
   "metadata": {},
   "source": [
    "# 🥙 LSTM on Recipe Data"
   ]
  },
  {
   "cell_type": "markdown",
   "id": "b863c414-1946-4482-b0d0-1552ee5ffd41",
   "metadata": {},
   "source": [
    "## Table of contents\n",
    "0. [Parameters](#parameters)\n",
    "1. [Prepare the Data](#prepare)\n",
    "2. [Build the LSTM](#build)\n",
    "3. [Train the LSTM](#train)"
   ]
  },
  {
   "cell_type": "code",
   "execution_count": 1,
   "id": "4dca6836-0007-43f3-af65-d12ae1922c02",
   "metadata": {},
   "outputs": [],
   "source": [
    "%load_ext autoreload\n",
    "%autoreload 2"
   ]
  },
  {
   "cell_type": "code",
   "execution_count": 41,
   "id": "4e0d56cc-4773-4029-97d8-26f882ba79c9",
   "metadata": {},
   "outputs": [],
   "source": [
    "import numpy as np\n",
    "import matplotlib.pyplot as plt\n",
    "import os\n",
    "import json\n",
    "from pprint import pprint\n",
    "import random\n",
    "import re\n",
    "import string\n",
    "\n",
    "# os.environ[\"TF_CPP_MIN_LOG_LEVEL\"] = \"2\"\n",
    "\n",
    "import tensorflow as tf\n",
    "import tensorflow.keras.backend as K\n",
    "from tensorflow.keras import layers, models, callbacks, losses, utils, metrics, optimizers, preprocessing, datasets\n",
    "\n",
    "from utils.image import display\n",
    "from utils.datasets import sample_batches, sample_batch\n",
    "from utils.losses import root_mean_squared_error"
   ]
  },
  {
   "cell_type": "markdown",
   "id": "339e6268-ebd7-4feb-86db-1fe7abccdbe5",
   "metadata": {},
   "source": [
    "## 0. Parameters <a name=\"parameters\"></a>"
   ]
  },
  {
   "cell_type": "code",
   "execution_count": 24,
   "id": "2d8352af-343e-4c2e-8c91-95f8bac1c8a1",
   "metadata": {},
   "outputs": [],
   "source": [
    "MAX_FEATURES = 20000  # Only consider the top 20k words\n",
    "MAX_LEN = 200  # Only consider the first 200 words of each movie review\n",
    "EMBEDDING_DIM = 128\n",
    "N_UNITS = 128\n",
    "VALIDATION_SPLIT = 0.2\n",
    "SEED = 42"
   ]
  },
  {
   "cell_type": "markdown",
   "id": "b7716fac-0010-49b0-b98e-53be2259edde",
   "metadata": {},
   "source": [
    "## 1. Load the data <a name=\"prepare\"></a>"
   ]
  },
  {
   "cell_type": "code",
   "execution_count": 21,
   "id": "93cf6b0f-9667-4146-8911-763a8a2925d3",
   "metadata": {
    "tags": []
   },
   "outputs": [],
   "source": [
    "# Load the full dataset\n",
    "with open('/app/data/epirecipes/full_format_recipes.json') as json_data:\n",
    "    train_data = json.load(json_data)\n",
    "    json_data.close()\n",
    "    "
   ]
  },
  {
   "cell_type": "code",
   "execution_count": 126,
   "id": "04019362-8a4e-4d6d-a42f-65f9cefc8d1a",
   "metadata": {
    "tags": []
   },
   "outputs": [
    {
     "name": "stdout",
     "output_type": "stream",
     "text": [
      "14557 recipes loaded\n"
     ]
    }
   ],
   "source": [
    "# Filter the dataset\n",
    "train_data = [x for x in train_data\n",
    "              if 'calories' in x \n",
    "              and x['calories'] is not None\n",
    "              and x['calories'] > 0\n",
    "              and x['calories'] < 1000\n",
    "              and 'ingredients' in x\n",
    "              and x['ingredients'] is not None\n",
    "             ]\n",
    "n_recipes = len(train_data)\n",
    "\n",
    "random.seed(SEED)\n",
    "random.shuffle(train_data)\n",
    "\n",
    "X_data = [' '.join(x['ingredients']) + ' ' + ' '.join(x['directions']) for x in train_data]\n",
    "y_data = [x['calories'] / 1000.0 for x in train_data]\n",
    "\n",
    "print(f'{n_recipes} recipes loaded')"
   ]
  },
  {
   "cell_type": "code",
   "execution_count": 127,
   "id": "641bec1b-896a-4b1e-90bd-e0dcd17284bf",
   "metadata": {
    "tags": []
   },
   "outputs": [
    {
     "name": "stdout",
     "output_type": "stream",
     "text": [
      "Train set: 11646 recipes\n",
      "Validation set: 2911 recipes\n"
     ]
    }
   ],
   "source": [
    "# Split into train and validation sets\n",
    "n_validation = int(VALIDATION_SPLIT * n_recipes)\n",
    "n_train = n_recipes - n_validation\n",
    "\n",
    "X_train = X_data[:n_train]\n",
    "X_valid = X_data[n_train:]\n",
    "\n",
    "y_train = y_data[:n_train]\n",
    "y_valid = y_data[n_train:]\n",
    "\n",
    "print(f'Train set: {n_train} recipes')\n",
    "print(f'Validation set: {n_validation} recipes')"
   ]
  },
  {
   "cell_type": "code",
   "execution_count": 128,
   "id": "b87d7c65-9a46-492a-a5c0-a043b0d252f3",
   "metadata": {},
   "outputs": [
    {
     "name": "stdout",
     "output_type": "stream",
     "text": [
      "('1 cup finely grated peeled fresh horseradish root (about 4 ounces) 1 8-ounce '\n",
      " 'container crème fraîche or sour cream 1/4 cup white wine vinegar Coarse '\n",
      " 'kosher salt 1 1/2 pounds red onions, very thinly sliced 2 cups dry red wine '\n",
      " '2 tablespoons honey 1 tablespoon chopped fresh thyme 2 tablespoons red wine '\n",
      " 'vinegar 10 7- to 8-inch-diameter flour tortillas, each cut into 5-inch '\n",
      " 'square 2 tablespoons olive oil 4 9- to 10-ounce boneless rib-eye steaks, '\n",
      " 'excess fat trimmed Fresh cilantro sprigs Mix first 3 ingredients in small '\n",
      " 'bowl to blend. Season to taste with kosher salt. (Can be prepared 1 day '\n",
      " 'ahead. Cover and refrigerate.) Combine onions, wine, honey, and thyme in '\n",
      " 'large skillet. Bring to boil. Reduce heat to medium-low and simmer uncovered '\n",
      " 'until wine is almost absorbed, stirring occasionally, about 55 minutes. Mix '\n",
      " 'in red wine vinegar. Simmer 10 minutes to blend flavors, adding water by '\n",
      " 'tablespoonfuls to moisten if jam is dry and stirring often (onions will '\n",
      " 'still be slightly crunchy). Season to taste with salt and pepper. (Can be '\n",
      " 'prepared 1 day ahead. Cover and refrigerate. Before using, rewarm over '\n",
      " 'medium heat until just warm, adding more water by tablespoonfuls if jam is '\n",
      " 'dry.) Preheat oven to 350°F. Wrap tortillas in foil, enclosing completely. '\n",
      " 'Place in oven until heated through, about 15 minutes. Meanwhile, heat 1 '\n",
      " 'tablespoon olive oil in each of 2 heavy large skillets over high heat. Add 2 '\n",
      " 'steaks to each skillet and cook to desired doneness, about 3 minutes per '\n",
      " 'side for medium-rare. Transfer steaks to cutting board. Thinly slice steaks '\n",
      " 'crosswise. Divide steak slices among warm tortillas. Top with onion jam, '\n",
      " 'then spoonful of horseradish crème fraîche. Garnish with cilantro sprigs.')\n",
      "0.232\n"
     ]
    }
   ],
   "source": [
    "# Display an example of a recipe\n",
    "pprint(X_data[0])\n",
    "pprint(y_data[0])"
   ]
  },
  {
   "cell_type": "markdown",
   "id": "3f871aaf-d873-41c7-8946-e4eef7ac17c1",
   "metadata": {},
   "source": [
    "## Prepare the data"
   ]
  },
  {
   "cell_type": "code",
   "execution_count": 129,
   "id": "1326cb19-35fb-4f84-aafa-0cbbe0840dd8",
   "metadata": {},
   "outputs": [],
   "source": [
    "def custom_standardization(input_data):\n",
    "    lowercase = tf.strings.lower(input_data)\n",
    "    stripped_html = tf.strings.regex_replace(lowercase, \"<br />\", \" \")\n",
    "    return tf.strings.regex_replace(\n",
    "        stripped_html, f\"[{re.escape(string.punctuation)}]\", \"\"\n",
    "    )"
   ]
  },
  {
   "cell_type": "code",
   "execution_count": 130,
   "id": "09ad49e6-b319-492a-9a6f-df53fcc7c9e4",
   "metadata": {},
   "outputs": [],
   "source": [
    "# Vectorise the text into ints\n",
    "vectorize_layer = layers.TextVectorization(\n",
    "    standardize=custom_standardization,\n",
    "    max_tokens=MAX_FEATURES,\n",
    "    output_mode=\"int\",\n",
    "    output_sequence_length=MAX_LEN,\n",
    ")\n",
    "\n",
    "# Adapt the mapping to the training set\n",
    "vectorize_layer.adapt(X_train)"
   ]
  },
  {
   "cell_type": "code",
   "execution_count": 131,
   "id": "47480c4f-5272-4288-8e26-d719d51cec9f",
   "metadata": {},
   "outputs": [],
   "source": [
    "# Convert the text to ints\n",
    "X_train_int = vectorize_layer(X_train)\n",
    "X_valid_int = vectorize_layer(X_valid)"
   ]
  },
  {
   "cell_type": "code",
   "execution_count": 132,
   "id": "59250d25-6a59-4ade-ab2f-421b541fda74",
   "metadata": {},
   "outputs": [],
   "source": [
    "# Pad sequences\n",
    "X_train_int = preprocessing.sequence.pad_sequences(X_train_int, maxlen=MAX_LEN)\n",
    "X_valid_int = preprocessing.sequence.pad_sequences(X_valid_int, maxlen=MAX_LEN)"
   ]
  },
  {
   "cell_type": "code",
   "execution_count": 133,
   "id": "bc2326f4-edd9-447c-8bfd-e06e0263a324",
   "metadata": {},
   "outputs": [],
   "source": [
    "# Convert y values to numpy arrays\n",
    "y_train = np.array(y_train)\n",
    "y_valid = np.array(y_valid)"
   ]
  },
  {
   "cell_type": "code",
   "execution_count": 134,
   "id": "812ec01f-5eee-4885-82e9-ba6de8197372",
   "metadata": {
    "tags": []
   },
   "outputs": [
    {
     "name": "stdout",
     "output_type": "stream",
     "text": [
      "array([   4,   11,   93,  135,  127,   33,  847,  865,   14,   36,  100,\n",
      "          4,  687,  502,  737,  879,   24,  364,   50,   27,   11,  130,\n",
      "        168,  112,  284,  251,   17,    4,   12,  195,  120,  148,  224,\n",
      "        183,  104,    9,   31,  119,  120,  168,    9,   16,  361,    4,\n",
      "         40,   29,   33,  219,    9,   16,  120,  168,  112,   88,  318,\n",
      "          3, 2213,   68,  688,   71,   39,   20, 1703,  813,    9,   16,\n",
      "         73,   26,   36,  484,    3,  932,  618, 2641,  594,  476,  362,\n",
      "        337,   33,  240,  316,  132,  397,   25,  158,    5,   57,   28,\n",
      "          3,  145,   80,    3,  109,    8,  251,   17,   84,   70,  196,\n",
      "          4,  213,   81,   61,    2,  239,  121,  148,  168,  361,    2,\n",
      "        219,    5,   21,   65,   95,    3,   78,  201,   19,    3,  448,\n",
      "          2,   76,  297,   10,  168,   41,  526,  654,   53,  106,   14,\n",
      "       1601,   13,  132,    5,  120,  168,  112,   76,   88,   13,    3,\n",
      "        145,  938,  457,   34,  214, 1170,    3, 1489,   99,  839,   41,\n",
      "        119,    2,   53,  491,  148,  236,  447,   70,  191, 2908,   80,\n",
      "          3,  109,    8,   17,    2,   30,   84,   70,  196,    4,  213,\n",
      "         81,   61,    2,  239,  198,   96,  700,   22,   42,   19,   10,\n",
      "        103,  186,  457,  146,   34,  214, 1170,   99,  839,   41,  119,\n",
      "         98,   54], dtype=int32)\n"
     ]
    }
   ],
   "source": [
    "pprint(X_train_int[0])"
   ]
  },
  {
   "cell_type": "code",
   "execution_count": 135,
   "id": "29df5461-157e-41df-8ebf-bfb42dc67c42",
   "metadata": {},
   "outputs": [
    {
     "name": "stdout",
     "output_type": "stream",
     "text": [
      "0.232\n"
     ]
    }
   ],
   "source": [
    "pprint(y_train[0])"
   ]
  },
  {
   "cell_type": "markdown",
   "id": "aff50401-3abe-4c10-bba8-b35bc13ad7d5",
   "metadata": {
    "tags": []
   },
   "source": [
    "## 2. Build the LSTM <a name=\"build\"></a>"
   ]
  },
  {
   "cell_type": "code",
   "execution_count": 136,
   "id": "9230b5bf-b4a8-48d5-b73b-6899a598f296",
   "metadata": {},
   "outputs": [
    {
     "name": "stdout",
     "output_type": "stream",
     "text": [
      "Model: \"model_7\"\n",
      "_________________________________________________________________\n",
      " Layer (type)                Output Shape              Param #   \n",
      "=================================================================\n",
      " input_10 (InputLayer)       [(None, None)]            0         \n",
      "                                                                 \n",
      " embedding_9 (Embedding)     (None, None, 128)         2560000   \n",
      "                                                                 \n",
      " bidirectional_16 (Bidirecti  (None, None, 128)        98816     \n",
      " onal)                                                           \n",
      "                                                                 \n",
      " bidirectional_17 (Bidirecti  (None, 128)              98816     \n",
      " onal)                                                           \n",
      "                                                                 \n",
      " dense_8 (Dense)             (None, 1)                 129       \n",
      "                                                                 \n",
      "=================================================================\n",
      "Total params: 2,757,761\n",
      "Trainable params: 2,757,761\n",
      "Non-trainable params: 0\n",
      "_________________________________________________________________\n"
     ]
    }
   ],
   "source": [
    "inputs = layers.Input(shape=(None,), dtype=\"int32\")\n",
    "# Embed each integer in a 128-dimensional vector\n",
    "x = layers.Embedding(MAX_FEATURES, EMBEDDING_DIM)(inputs)\n",
    "# Add 2 bidirectional LSTMs\n",
    "x = layers.Bidirectional(layers.LSTM(N_UNITS, return_sequences=True))(x)\n",
    "x = layers.Bidirectional(layers.LSTM(N_UNITS))(x)\n",
    "# Add a classifier\n",
    "outputs = layers.Dense(1, activation=\"sigmoid\")(x)\n",
    "model = models.Model(inputs, outputs)\n",
    "model.summary()"
   ]
  },
  {
   "cell_type": "code",
   "execution_count": 137,
   "id": "ffb1bd3b-6fd9-4536-973e-6375bbcbf16d",
   "metadata": {},
   "outputs": [],
   "source": [
    "model.compile(\"adam\", \"mse\", metrics = [\"mae\"])"
   ]
  },
  {
   "cell_type": "code",
   "execution_count": null,
   "id": "461c2b3e-b5ae-4def-8bd9-e7bab8c63d8e",
   "metadata": {},
   "outputs": [
    {
     "name": "stdout",
     "output_type": "stream",
     "text": [
      "Epoch 1/2\n",
      "352/364 [============================>.] - ETA: 2s - loss: 0.0216 - mae: 0.1110"
     ]
    }
   ],
   "source": [
    "model.fit(X_train_int, y_train, batch_size=32, epochs=2, validation_data=(X_valid_int, y_valid))"
   ]
  },
  {
   "cell_type": "code",
   "execution_count": 141,
   "id": "dd2ec350-e15e-4994-84e1-d097b20c4c0e",
   "metadata": {},
   "outputs": [],
   "source": [
    "preds = model.predict(X_valid_int)"
   ]
  },
  {
   "cell_type": "code",
   "execution_count": 142,
   "id": "34444c0e-acc2-4c86-abf1-893d914087aa",
   "metadata": {},
   "outputs": [
    {
     "data": {
      "text/plain": [
       "<matplotlib.collections.PathCollection at 0x7f1bea234820>"
      ]
     },
     "execution_count": 142,
     "metadata": {},
     "output_type": "execute_result"
    },
    {
     "data": {
      "image/png": "[encoded data removed]",
      "text/plain": [
       "<Figure size 432x288 with 1 Axes>"
      ]
     },
     "metadata": {
      "needs_background": "light"
     },
     "output_type": "display_data"
    }
   ],
   "source": [
    "plt.scatter(y_valid, preds, s = 1)"
   ]
  },
  {
   "cell_type": "code",
   "execution_count": 140,
   "id": "ed493725-488b-4390-8c64-661f3b97a632",
   "metadata": {
    "tags": []
   },
   "outputs": [
    {
     "ename": "NameError",
     "evalue": "name 'Model' is not defined",
     "output_type": "error",
     "traceback": [
      "\u001b[0;31m---------------------------------------------------------------------------\u001b[0m",
      "\u001b[0;31mNameError\u001b[0m                                 Traceback (most recent call last)",
      "Input \u001b[0;32mIn [140]\u001b[0m, in \u001b[0;36m<cell line: 1>\u001b[0;34m()\u001b[0m\n\u001b[0;32m----> 1\u001b[0m \u001b[38;5;28;01mclass\u001b[39;00m \u001b[38;5;21;01mLSTM\u001b[39;00m(\u001b[43mModel\u001b[49m):\n\u001b[1;32m      2\u001b[0m     \u001b[38;5;28;01mdef\u001b[39;00m \u001b[38;5;21m__init__\u001b[39m(\u001b[38;5;28mself\u001b[39m, discriminator, generator, latent_dim):\n\u001b[1;32m      3\u001b[0m         \u001b[38;5;28msuper\u001b[39m(LSTM, \u001b[38;5;28mself\u001b[39m)\u001b[38;5;241m.\u001b[39m\u001b[38;5;21m__init__\u001b[39m()\n",
      "\u001b[0;31mNameError\u001b[0m: name 'Model' is not defined"
     ]
    }
   ],
   "source": [
    "class LSTM(Model):\n",
    "    def __init__(self, discriminator, generator, latent_dim):\n",
    "        super(LSTM, self).__init__()\n",
    "        self.discriminator = discriminator\n",
    "        self.generator = generator\n",
    "        self.latent_dim = latent_dim\n",
    "\n",
    "    def compile(self, d_optimizer, g_optimizer):\n",
    "        super(GAN, self).compile()\n",
    "        self.loss_fn = BinaryCrossentropy()\n",
    "        self.d_optimizer = d_optimizer\n",
    "        self.g_optimizer = g_optimizer\n",
    "        self.d_loss_metric = Mean(name=\"d_loss\")\n",
    "        self.d_real_acc_metric = BinaryAccuracy(name=\"d_real_acc\")\n",
    "        self.d_fake_acc_metric = BinaryAccuracy(name=\"d_fake_acc\")\n",
    "        self.d_acc_metric = BinaryAccuracy(name=\"d_acc\")\n",
    "        self.g_loss_metric = Mean(name=\"g_loss\")\n",
    "        self.g_acc_metric = BinaryAccuracy(name=\"g_acc\")\n",
    "\n",
    "    @property\n",
    "    def metrics(self):\n",
    "        return [self.d_loss_metric, self.d_real_acc_metric, self.d_fake_acc_metric, self.d_acc_metric, self.g_loss_metric, self.g_acc_metric]\n",
    "    \n",
    "    def train_step(self, real_images):\n",
    "        # Sample random points in the latent space\n",
    "        batch_size = tf.shape(real_images)[0]\n",
    "        random_latent_vectors = tf.random.normal(shape=(batch_size, self.latent_dim))\n",
    "\n",
    "        # Train the discriminator on fake images\n",
    "        with tf.GradientTape() as gen_tape, tf.GradientTape() as disc_tape:\n",
    "            \n",
    "            generated_images = self.generator(random_latent_vectors, training = True)\n",
    "            real_predictions = self.discriminator(real_images, training = True)\n",
    "            fake_predictions = self.discriminator(generated_images, training = True)\n",
    "            \n",
    "            real_labels = tf.ones_like(real_predictions) \n",
    "            real_noisy_labels = real_labels + NOISE_PARAM * tf.random.uniform(tf.shape(real_predictions))\n",
    "            fake_labels = tf.zeros_like(fake_predictions)\n",
    "            fake_noisy_labels = fake_labels - NOISE_PARAM * tf.random.uniform(tf.shape(fake_predictions))\n",
    "            \n",
    "            d_real_loss = self.loss_fn(real_noisy_labels, real_predictions)\n",
    "            d_fake_loss = self.loss_fn(fake_noisy_labels, fake_predictions)\n",
    "            d_loss = (d_real_loss + d_fake_loss) / 2.0\n",
    "            \n",
    "            g_loss = self.loss_fn(real_labels, fake_predictions)\n",
    "            \n",
    "        \n",
    "        gradients_of_discriminator = disc_tape.gradient(d_loss, self.discriminator.trainable_variables)\n",
    "        gradients_of_generator = gen_tape.gradient(g_loss, self.generator.trainable_variables)\n",
    "\n",
    "        self.d_optimizer.apply_gradients(zip(gradients_of_discriminator, discriminator.trainable_variables))\n",
    "        self.g_optimizer.apply_gradients(zip(gradients_of_generator, generator.trainable_variables))\n",
    "        \n",
    "        # Update metrics\n",
    "        self.d_loss_metric.update_state(d_loss)\n",
    "        self.d_real_acc_metric.update_state(real_labels, real_predictions)\n",
    "        self.d_fake_acc_metric.update_state(fake_labels, fake_predictions)\n",
    "        self.d_acc_metric.update_state([real_labels, fake_labels], [real_predictions, fake_predictions])\n",
    "        self.g_loss_metric.update_state(g_loss)\n",
    "        self.g_acc_metric.update_state(real_labels, fake_predictions)\n",
    "        \n",
    "        return {m.name: m.result() for m in self.metrics}\n"
   ]
  },
  {
   "cell_type": "code",
   "execution_count": null,
   "id": "e898dd8e-f562-4517-8351-fc2f8b617a24",
   "metadata": {},
   "outputs": [],
   "source": [
    "#Create a GAN\n",
    "gan = GAN(discriminator=discriminator, generator=generator, latent_dim=Z_DIM)"
   ]
  },
  {
   "cell_type": "code",
   "execution_count": null,
   "id": "800a3c6e-fb11-4792-b6bc-9a43a7c977ad",
   "metadata": {},
   "outputs": [],
   "source": [
    "if LOAD_MODEL:\n",
    "    gan.load_weights('./checkpoint/checkpoint.ckpt')"
   ]
  },
  {
   "cell_type": "markdown",
   "id": "35b14665-4359-447b-be58-3fd58ba69084",
   "metadata": {},
   "source": [
    "## 3. Train the GAN <a name=\"train\"></a>"
   ]
  },
  {
   "cell_type": "code",
   "execution_count": null,
   "id": "245e6374-5f5b-4efa-be0a-07b182f82d2d",
   "metadata": {},
   "outputs": [],
   "source": [
    "gan.compile(\n",
    "    d_optimizer=Adam(learning_rate=LEARNING_RATE, beta_1 = ADAM_BETA_1, beta_2 = ADAM_BETA_2),\n",
    "    g_optimizer=Adam(learning_rate=LEARNING_RATE, beta_1 = ADAM_BETA_1, beta_2 = ADAM_BETA_2),\n",
    ")"
   ]
  },
  {
   "cell_type": "code",
   "execution_count": null,
   "id": "349865fe-ffbe-450e-97be-043ae1740e78",
   "metadata": {},
   "outputs": [],
   "source": [
    "# Create a model save checkpoint\n",
    "model_checkpoint_callback = ModelCheckpoint(\n",
    "    filepath=\"./checkpoint/checkpoint.ckpt\",\n",
    "    save_weights_only=True,\n",
    "    save_freq=\"epoch\",\n",
    "    verbose=0,\n",
    ")\n",
    "\n",
    "tensorboard_callback = TensorBoard(log_dir=\"./logs\")\n",
    "\n",
    "class ImageGenerator(Callback):\n",
    "    def __init__(self, num_img, latent_dim):\n",
    "        self.num_img = num_img\n",
    "        self.latent_dim = latent_dim\n",
    "\n",
    "    def on_epoch_end(self, epoch, logs=None):\n",
    "        random_latent_vectors = tf.random.normal(shape=(self.num_img, self.latent_dim))\n",
    "        generated_images = self.model.generator(random_latent_vectors)\n",
    "        generated_images = generated_images * 127.5 + 127.5\n",
    "        generated_images = generated_images.numpy()\n",
    "        display(generated_images, save_to = \"./output/generated_img_%03d.png\" % (epoch))\n",
    "        \n"
   ]
  },
  {
   "cell_type": "code",
   "execution_count": null,
   "id": "a8913a77-f472-4008-9039-dba00e6db980",
   "metadata": {
    "tags": []
   },
   "outputs": [],
   "source": [
    "gan.fit(\n",
    "    train, \n",
    "    epochs=EPOCHS, \n",
    "    # steps_per_epoch = 100, \n",
    "    # initial_epoch = 164,\n",
    "    callbacks=[model_checkpoint_callback, tensorboard_callback, ImageGenerator(num_img=10, latent_dim=Z_DIM)],\n",
    ")"
   ]
  },
  {
   "cell_type": "code",
   "execution_count": null,
   "id": "369bde44-2e39-4bc6-8549-a3a27ecce55c",
   "metadata": {},
   "outputs": [],
   "source": [
    "# Save the final models\n",
    "generator.save(\"./models/generator\")\n",
    "discriminator.save(\"./models/discriminator\")"
   ]
  },
  {
   "cell_type": "code",
   "execution_count": null,
   "id": "3cf25578-d47c-4b26-8252-fcdf2316a4ac",
   "metadata": {},
   "outputs": [],
   "source": []
  }
 ],
 "metadata": {
  "kernelspec": {
   "display_name": "Python 3 (ipykernel)",
   "language": "python",
   "name": "python3"
  },
  "language_info": {
   "codemirror_mode": {
    "name": "ipython",
    "version": 3
   },
   "file_extension": ".py",
   "mimetype": "text/x-python",
   "name": "python",
   "nbconvert_exporter": "python",
   "pygments_lexer": "ipython3",
   "version": "3.8.10"
  }
 },
 "nbformat": 4,
 "nbformat_minor": 5
}
