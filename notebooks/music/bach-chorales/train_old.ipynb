{
 "cells": [
  {
   "cell_type": "markdown",
   "metadata": {},
   "source": [
    "# MuseGAN Training"
   ]
  },
  {
   "cell_type": "markdown",
   "metadata": {},
   "source": [
    "## imports"
   ]
  },
  {
   "cell_type": "code",
   "execution_count": 9,
   "metadata": {},
   "outputs": [],
   "source": [
    "import os\n",
    "import matplotlib.pyplot as plt\n",
    "import numpy as np\n",
    "import types\n",
    "\n",
    "from musegan import MuseGAN\n",
    "\n",
    "from music21 import midi\n",
    "from music21 import note, stream, duration"
   ]
  },
  {
   "cell_type": "code",
   "execution_count": 10,
   "metadata": {},
   "outputs": [],
   "source": [
    "# run params\n",
    "SECTION = 'compose'\n",
    "RUN_ID = '001'\n",
    "\n",
    "\n",
    "\n",
    "BATCH_SIZE = 64\n",
    "n_bars = 2\n",
    "n_steps_per_bar = 16\n",
    "n_pitches = 84\n",
    "n_tracks = 4\n"
   ]
  },
  {
   "cell_type": "markdown",
   "metadata": {},
   "source": [
    "## data"
   ]
  },
  {
   "cell_type": "code",
   "execution_count": 11,
   "metadata": {},
   "outputs": [],
   "source": [
    "# Load the data\n",
    "file = os.path.join(\"/app/data/bach-chorales/Jsb16thSeparated.npz\")\n",
    "with np.load(file, encoding=\"bytes\", allow_pickle=True) as f:\n",
    "    data = f[\"train\"]"
   ]
  },
  {
   "cell_type": "code",
   "execution_count": 12,
   "metadata": {},
   "outputs": [],
   "source": [
    "data_ints = []\n",
    "\n",
    "for x in data:\n",
    "    counter = 0\n",
    "    cont = True\n",
    "    while cont:\n",
    "        if not np.any(np.isnan(x[counter : (counter + 4)])):\n",
    "            cont = False\n",
    "        else:\n",
    "            counter += 4\n",
    "\n",
    "    if n_bars * n_steps_per_bar < x.shape[0]:\n",
    "        data_ints.append(x[counter : (counter + (n_bars * n_steps_per_bar)), :])\n",
    "\n",
    "data_ints = np.array(data_ints)\n",
    "\n",
    "n_songs = data_ints.shape[0]\n",
    "n_tracks = data_ints.shape[2]\n",
    "\n",
    "data_ints = data_ints.reshape([n_songs, n_bars, n_steps_per_bar, n_tracks])\n",
    "\n",
    "max_note = 83\n",
    "\n",
    "where_are_NaNs = np.isnan(data_ints)\n",
    "data_ints[where_are_NaNs] = max_note + 1\n",
    "max_note = max_note + 1\n",
    "\n",
    "data_ints = data_ints.astype(int)\n",
    "\n",
    "num_classes = max_note + 1\n",
    "\n",
    "data_binary = np.eye(num_classes)[data_ints]\n",
    "data_binary[data_binary == 0] = -1\n",
    "data_binary = np.delete(data_binary, max_note, -1)\n",
    "\n",
    "data_binary = data_binary.transpose([0, 1, 2, 4, 3])\n"
   ]
  },
  {
   "cell_type": "code",
   "execution_count": 13,
   "metadata": {},
   "outputs": [
    {
     "data": {
      "text/plain": [
       "(229, 2, 16, 84, 4)"
      ]
     },
     "execution_count": 13,
     "metadata": {},
     "output_type": "execute_result"
    }
   ],
   "source": [
    "data_binary.shape"
   ]
  },
  {
   "cell_type": "markdown",
   "metadata": {},
   "source": [
    "## architecture"
   ]
  },
  {
   "cell_type": "code",
   "execution_count": 14,
   "metadata": {},
   "outputs": [],
   "source": [
    "gan = MuseGAN(input_dim = data_binary.shape[1:]\n",
    "        , critic_learning_rate = 0.001\n",
    "        , generator_learning_rate = 0.001\n",
    "        , optimiser = 'adam'\n",
    "        , grad_weight = 10\n",
    "        , z_dim = 32\n",
    "        , batch_size = BATCH_SIZE\n",
    "        , n_tracks = n_tracks\n",
    "        , n_bars = n_bars\n",
    "        , n_steps_per_bar = n_steps_per_bar\n",
    "        , n_pitches = n_pitches\n",
    "        )"
   ]
  },
  {
   "cell_type": "code",
   "execution_count": 17,
   "metadata": {},
   "outputs": [
    {
     "name": "stdout",
     "output_type": "stream",
     "text": [
      "Model: \"model_14\"\n",
      "_________________________________________________________________\n",
      " Layer (type)                Output Shape              Param #   \n",
      "=================================================================\n",
      " temporal_input (InputLayer)  [(None, 32)]             0         \n",
      "                                                                 \n",
      " reshape_18 (Reshape)        (None, 1, 1, 32)          0         \n",
      "                                                                 \n",
      " conv2d_transpose_30 (Conv2D  (None, 2, 1, 1024)       66560     \n",
      " Transpose)                                                      \n",
      "                                                                 \n",
      " batch_normalization_30 (Bat  (None, 2, 1, 1024)       4096      \n",
      " chNormalization)                                                \n",
      "                                                                 \n",
      " activation_30 (Activation)  (None, 2, 1, 1024)        0         \n",
      "                                                                 \n",
      " conv2d_transpose_31 (Conv2D  (None, 2, 1, 32)         32800     \n",
      " Transpose)                                                      \n",
      "                                                                 \n",
      " batch_normalization_31 (Bat  (None, 2, 1, 32)         128       \n",
      " chNormalization)                                                \n",
      "                                                                 \n",
      " activation_31 (Activation)  (None, 2, 1, 32)          0         \n",
      "                                                                 \n",
      " reshape_19 (Reshape)        (None, 2, 32)             0         \n",
      "                                                                 \n",
      "=================================================================\n",
      "Total params: 103,584\n",
      "Trainable params: 101,472\n",
      "Non-trainable params: 2,112\n",
      "_________________________________________________________________\n"
     ]
    }
   ],
   "source": [
    "gan.chords_tempNetwork.summary()"
   ]
  },
  {
   "cell_type": "code",
   "execution_count": 18,
   "metadata": {
    "collapsed": true,
    "jupyter": {
     "outputs_hidden": true
    },
    "tags": []
   },
   "outputs": [
    {
     "name": "stdout",
     "output_type": "stream",
     "text": [
      "Model: \"model_19\"\n",
      "_________________________________________________________________\n",
      " Layer (type)                Output Shape              Param #   \n",
      "=================================================================\n",
      " bar_generator_input (InputL  [(None, 128)]            0         \n",
      " ayer)                                                           \n",
      "                                                                 \n",
      " dense_8 (Dense)             (None, 1024)              132096    \n",
      "                                                                 \n",
      " batch_normalization_40 (Bat  (None, 1024)             4096      \n",
      " chNormalization)                                                \n",
      "                                                                 \n",
      " activation_40 (Activation)  (None, 1024)              0         \n",
      "                                                                 \n",
      " reshape_28 (Reshape)        (None, 2, 1, 512)         0         \n",
      "                                                                 \n",
      " conv2d_transpose_40 (Conv2D  (None, 4, 1, 512)        524800    \n",
      " Transpose)                                                      \n",
      "                                                                 \n",
      " batch_normalization_41 (Bat  (None, 4, 1, 512)        2048      \n",
      " chNormalization)                                                \n",
      "                                                                 \n",
      " activation_41 (Activation)  (None, 4, 1, 512)         0         \n",
      "                                                                 \n",
      " conv2d_transpose_41 (Conv2D  (None, 8, 1, 256)        262400    \n",
      " Transpose)                                                      \n",
      "                                                                 \n",
      " batch_normalization_42 (Bat  (None, 8, 1, 256)        1024      \n",
      " chNormalization)                                                \n",
      "                                                                 \n",
      " activation_42 (Activation)  (None, 8, 1, 256)         0         \n",
      "                                                                 \n",
      " conv2d_transpose_42 (Conv2D  (None, 16, 1, 256)       131328    \n",
      " Transpose)                                                      \n",
      "                                                                 \n",
      " batch_normalization_43 (Bat  (None, 16, 1, 256)       1024      \n",
      " chNormalization)                                                \n",
      "                                                                 \n",
      " activation_43 (Activation)  (None, 16, 1, 256)        0         \n",
      "                                                                 \n",
      " conv2d_transpose_43 (Conv2D  (None, 16, 7, 256)       459008    \n",
      " Transpose)                                                      \n",
      "                                                                 \n",
      " batch_normalization_44 (Bat  (None, 16, 7, 256)       1024      \n",
      " chNormalization)                                                \n",
      "                                                                 \n",
      " activation_44 (Activation)  (None, 16, 7, 256)        0         \n",
      "                                                                 \n",
      " conv2d_transpose_44 (Conv2D  (None, 16, 84, 1)        3073      \n",
      " Transpose)                                                      \n",
      "                                                                 \n",
      " reshape_29 (Reshape)        (None, 1, 16, 84, 1)      0         \n",
      "                                                                 \n",
      "=================================================================\n",
      "Total params: 1,521,921\n",
      "Trainable params: 1,517,313\n",
      "Non-trainable params: 4,608\n",
      "_________________________________________________________________\n"
     ]
    }
   ],
   "source": [
    "gan.barGen[0].summary()"
   ]
  },
  {
   "cell_type": "code",
   "execution_count": 19,
   "metadata": {},
   "outputs": [
    {
     "name": "stdout",
     "output_type": "stream",
     "text": [
      "Model: \"model_23\"\n",
      "__________________________________________________________________________________________________\n",
      " Layer (type)                   Output Shape         Param #     Connected to                     \n",
      "==================================================================================================\n",
      " melody_input (InputLayer)      [(None, 4, 32)]      0           []                               \n",
      "                                                                                                  \n",
      " chords_input (InputLayer)      [(None, 32)]         0           []                               \n",
      "                                                                                                  \n",
      " lambda_21 (Lambda)             (None, 32)           0           ['melody_input[0][0]']           \n",
      "                                                                                                  \n",
      " lambda_22 (Lambda)             (None, 32)           0           ['melody_input[0][0]']           \n",
      "                                                                                                  \n",
      " lambda_23 (Lambda)             (None, 32)           0           ['melody_input[0][0]']           \n",
      "                                                                                                  \n",
      " lambda_24 (Lambda)             (None, 32)           0           ['melody_input[0][0]']           \n",
      "                                                                                                  \n",
      " model_14 (Functional)          (None, 2, 32)        103584      ['chords_input[0][0]']           \n",
      "                                                                                                  \n",
      " model_15 (Functional)          (None, 2, 32)        103584      ['lambda_21[0][0]']              \n",
      "                                                                                                  \n",
      " groove_input (InputLayer)      [(None, 4, 32)]      0           []                               \n",
      "                                                                                                  \n",
      " model_16 (Functional)          (None, 2, 32)        103584      ['lambda_22[0][0]']              \n",
      "                                                                                                  \n",
      " model_17 (Functional)          (None, 2, 32)        103584      ['lambda_23[0][0]']              \n",
      "                                                                                                  \n",
      " model_18 (Functional)          (None, 2, 32)        103584      ['lambda_24[0][0]']              \n",
      "                                                                                                  \n",
      " chords_input_bar_0 (Lambda)    (None, 32)           0           ['model_14[0][0]']               \n",
      "                                                                                                  \n",
      " style_input (InputLayer)       [(None, 32)]         0           []                               \n",
      "                                                                                                  \n",
      " lambda_25 (Lambda)             (None, 32)           0           ['model_15[0][0]']               \n",
      "                                                                                                  \n",
      " lambda_26 (Lambda)             (None, 32)           0           ['groove_input[0][0]']           \n",
      "                                                                                                  \n",
      " lambda_27 (Lambda)             (None, 32)           0           ['model_16[0][0]']               \n",
      "                                                                                                  \n",
      " lambda_28 (Lambda)             (None, 32)           0           ['groove_input[0][0]']           \n",
      "                                                                                                  \n",
      " lambda_29 (Lambda)             (None, 32)           0           ['model_17[0][0]']               \n",
      "                                                                                                  \n",
      " lambda_30 (Lambda)             (None, 32)           0           ['groove_input[0][0]']           \n",
      "                                                                                                  \n",
      " lambda_31 (Lambda)             (None, 32)           0           ['model_18[0][0]']               \n",
      "                                                                                                  \n",
      " lambda_32 (Lambda)             (None, 32)           0           ['groove_input[0][0]']           \n",
      "                                                                                                  \n",
      " chords_input_bar_1 (Lambda)    (None, 32)           0           ['model_14[0][0]']               \n",
      "                                                                                                  \n",
      " lambda_33 (Lambda)             (None, 32)           0           ['model_15[0][0]']               \n",
      "                                                                                                  \n",
      " lambda_34 (Lambda)             (None, 32)           0           ['groove_input[0][0]']           \n",
      "                                                                                                  \n",
      " lambda_35 (Lambda)             (None, 32)           0           ['model_16[0][0]']               \n",
      "                                                                                                  \n",
      " lambda_36 (Lambda)             (None, 32)           0           ['groove_input[0][0]']           \n",
      "                                                                                                  \n",
      " lambda_37 (Lambda)             (None, 32)           0           ['model_17[0][0]']               \n",
      "                                                                                                  \n",
      " lambda_38 (Lambda)             (None, 32)           0           ['groove_input[0][0]']           \n",
      "                                                                                                  \n",
      " lambda_39 (Lambda)             (None, 32)           0           ['model_18[0][0]']               \n",
      "                                                                                                  \n",
      " lambda_40 (Lambda)             (None, 32)           0           ['groove_input[0][0]']           \n",
      "                                                                                                  \n",
      " total_input_bar_0_track_0 (Con  (None, 128)         0           ['chords_input_bar_0[0][0]',     \n",
      " catenate)                                                        'style_input[0][0]',            \n",
      "                                                                  'lambda_25[0][0]',              \n",
      "                                                                  'lambda_26[0][0]']              \n",
      "                                                                                                  \n",
      " total_input_bar_0_track_1 (Con  (None, 128)         0           ['chords_input_bar_0[0][0]',     \n",
      " catenate)                                                        'style_input[0][0]',            \n",
      "                                                                  'lambda_27[0][0]',              \n",
      "                                                                  'lambda_28[0][0]']              \n",
      "                                                                                                  \n",
      " total_input_bar_0_track_2 (Con  (None, 128)         0           ['chords_input_bar_0[0][0]',     \n",
      " catenate)                                                        'style_input[0][0]',            \n",
      "                                                                  'lambda_29[0][0]',              \n",
      "                                                                  'lambda_30[0][0]']              \n",
      "                                                                                                  \n",
      " total_input_bar_0_track_3 (Con  (None, 128)         0           ['chords_input_bar_0[0][0]',     \n",
      " catenate)                                                        'style_input[0][0]',            \n",
      "                                                                  'lambda_31[0][0]',              \n",
      "                                                                  'lambda_32[0][0]']              \n",
      "                                                                                                  \n",
      " total_input_bar_1_track_0 (Con  (None, 128)         0           ['chords_input_bar_1[0][0]',     \n",
      " catenate)                                                        'style_input[0][0]',            \n",
      "                                                                  'lambda_33[0][0]',              \n",
      "                                                                  'lambda_34[0][0]']              \n",
      "                                                                                                  \n",
      " total_input_bar_1_track_1 (Con  (None, 128)         0           ['chords_input_bar_1[0][0]',     \n",
      " catenate)                                                        'style_input[0][0]',            \n",
      "                                                                  'lambda_35[0][0]',              \n",
      "                                                                  'lambda_36[0][0]']              \n",
      "                                                                                                  \n",
      " total_input_bar_1_track_2 (Con  (None, 128)         0           ['chords_input_bar_1[0][0]',     \n",
      " catenate)                                                        'style_input[0][0]',            \n",
      "                                                                  'lambda_37[0][0]',              \n",
      "                                                                  'lambda_38[0][0]']              \n",
      "                                                                                                  \n",
      " total_input_bar_1_track_3 (Con  (None, 128)         0           ['chords_input_bar_1[0][0]',     \n",
      " catenate)                                                        'style_input[0][0]',            \n",
      "                                                                  'lambda_39[0][0]',              \n",
      "                                                                  'lambda_40[0][0]']              \n",
      "                                                                                                  \n",
      " model_19 (Functional)          (None, 1, 16, 84, 1  1521921     ['total_input_bar_0_track_0[0][0]\n",
      "                                )                                ',                               \n",
      "                                                                  'total_input_bar_1_track_0[0][0]\n",
      "                                                                 ']                               \n",
      "                                                                                                  \n",
      " model_20 (Functional)          (None, 1, 16, 84, 1  1521921     ['total_input_bar_0_track_1[0][0]\n",
      "                                )                                ',                               \n",
      "                                                                  'total_input_bar_1_track_1[0][0]\n",
      "                                                                 ']                               \n",
      "                                                                                                  \n",
      " model_21 (Functional)          (None, 1, 16, 84, 1  1521921     ['total_input_bar_0_track_2[0][0]\n",
      "                                )                                ',                               \n",
      "                                                                  'total_input_bar_1_track_2[0][0]\n",
      "                                                                 ']                               \n",
      "                                                                                                  \n",
      " model_22 (Functional)          (None, 1, 16, 84, 1  1521921     ['total_input_bar_0_track_3[0][0]\n",
      "                                )                                ',                               \n",
      "                                                                  'total_input_bar_1_track_3[0][0]\n",
      "                                                                 ']                               \n",
      "                                                                                                  \n",
      " concatenate_2 (Concatenate)    (None, 1, 16, 84, 4  0           ['model_19[0][0]',               \n",
      "                                )                                 'model_20[0][0]',               \n",
      "                                                                  'model_21[0][0]',               \n",
      "                                                                  'model_22[0][0]']               \n",
      "                                                                                                  \n",
      " concatenate_3 (Concatenate)    (None, 1, 16, 84, 4  0           ['model_19[1][0]',               \n",
      "                                )                                 'model_20[1][0]',               \n",
      "                                                                  'model_21[1][0]',               \n",
      "                                                                  'model_22[1][0]']               \n",
      "                                                                                                  \n",
      " concat_bars (Concatenate)      (None, 2, 16, 84, 4  0           ['concatenate_2[0][0]',          \n",
      "                                )                                 'concatenate_3[0][0]']          \n",
      "                                                                                                  \n",
      "==================================================================================================\n",
      "Total params: 6,605,604\n",
      "Trainable params: 6,576,612\n",
      "Non-trainable params: 28,992\n",
      "__________________________________________________________________________________________________\n"
     ]
    }
   ],
   "source": [
    "gan.generator.summary()"
   ]
  },
  {
   "cell_type": "code",
   "execution_count": 20,
   "metadata": {},
   "outputs": [
    {
     "name": "stdout",
     "output_type": "stream",
     "text": [
      "Model: \"model_13\"\n",
      "_________________________________________________________________\n",
      " Layer (type)                Output Shape              Param #   \n",
      "=================================================================\n",
      " critic_input (InputLayer)   [(None, 2, 16, 84, 4)]    0         \n",
      "                                                                 \n",
      " conv3d_8 (Conv3D)           multiple                  1152      \n",
      "                                                                 \n",
      " leaky_re_lu_9 (LeakyReLU)   multiple                  0         \n",
      "                                                                 \n",
      " conv3d_9 (Conv3D)           multiple                  16512     \n",
      "                                                                 \n",
      " leaky_re_lu_10 (LeakyReLU)  multiple                  0         \n",
      "                                                                 \n",
      " conv3d_10 (Conv3D)          multiple                  196736    \n",
      "                                                                 \n",
      " leaky_re_lu_11 (LeakyReLU)  multiple                  0         \n",
      "                                                                 \n",
      " conv3d_11 (Conv3D)          multiple                  114816    \n",
      "                                                                 \n",
      " leaky_re_lu_12 (LeakyReLU)  multiple                  0         \n",
      "                                                                 \n",
      " conv3d_12 (Conv3D)          multiple                  32896     \n",
      "                                                                 \n",
      " leaky_re_lu_13 (LeakyReLU)  multiple                  0         \n",
      "                                                                 \n",
      " conv3d_13 (Conv3D)          multiple                  32896     \n",
      "                                                                 \n",
      " leaky_re_lu_14 (LeakyReLU)  multiple                  0         \n",
      "                                                                 \n",
      " conv3d_14 (Conv3D)          multiple                  131328    \n",
      "                                                                 \n",
      " leaky_re_lu_15 (LeakyReLU)  multiple                  0         \n",
      "                                                                 \n",
      " conv3d_15 (Conv3D)          multiple                  393728    \n",
      "                                                                 \n",
      " leaky_re_lu_16 (LeakyReLU)  multiple                  0         \n",
      "                                                                 \n",
      " flatten_1 (Flatten)         multiple                  0         \n",
      "                                                                 \n",
      " dense_6 (Dense)             multiple                  525312    \n",
      "                                                                 \n",
      " leaky_re_lu_17 (LeakyReLU)  multiple                  0         \n",
      "                                                                 \n",
      " dense_7 (Dense)             multiple                  1025      \n",
      "                                                                 \n",
      "=================================================================\n",
      "Total params: 1,446,401\n",
      "Trainable params: 1,446,401\n",
      "Non-trainable params: 0\n",
      "_________________________________________________________________\n"
     ]
    }
   ],
   "source": [
    "gan.critic.summary()"
   ]
  },
  {
   "cell_type": "markdown",
   "metadata": {},
   "source": [
    "## training"
   ]
  },
  {
   "cell_type": "code",
   "execution_count": 21,
   "metadata": {},
   "outputs": [],
   "source": [
    "\n",
    "EPOCHS = 6000\n",
    "PRINT_EVERY_N_BATCHES = 10\n",
    "\n",
    "gan.epoch = 0"
   ]
  },
  {
   "cell_type": "code",
   "execution_count": 24,
   "metadata": {
    "scrolled": true
   },
   "outputs": [
    {
     "name": "stdout",
     "output_type": "stream",
     "text": [
      "WARNING:tensorflow:Discrepancy between trainable weights and collected trainable weights, did you set `model.trainable` without calling `model.compile` after ?\n"
     ]
    },
    {
     "name": "stderr",
     "output_type": "stream",
     "text": [
      "2022-11-07 15:41:05.135471: I tensorflow/core/platform/cpu_feature_guard.cc:151] This TensorFlow binary is optimized with oneAPI Deep Neural Network Library (oneDNN) to use the following CPU instructions in performance-critical operations:  AVX2 FMA\n",
      "To enable them in other operations, rebuild TensorFlow with the appropriate compiler flags.\n"
     ]
    },
    {
     "name": "stdout",
     "output_type": "stream",
     "text": [
      "WARNING:tensorflow:Discrepancy between trainable weights and collected trainable weights, did you set `model.trainable` without calling `model.compile` after ?\n",
      "0 (5, 1) [D loss: (9.4)(R -0.5, F -0.0, G 1.0)] [G loss: -0.2]\n"
     ]
    },
    {
     "name": "stderr",
     "output_type": "stream",
     "text": [
      "/usr/local/lib/python3.8/dist-packages/keras/engine/training_v1.py:2079: UserWarning: `Model.state_updates` will be removed in a future version. This property should not be used in TensorFlow 2.0, as `updates` are applied automatically.\n",
      "  updates=self.state_updates,\n"
     ]
    },
    {
     "ename": "FileNotFoundError",
     "evalue": "[Errno 2] No such file or directory: './output/images/sample_0.npy'",
     "output_type": "error",
     "traceback": [
      "\u001b[0;31m---------------------------------------------------------------------------\u001b[0m",
      "\u001b[0;31mFileNotFoundError\u001b[0m                         Traceback (most recent call last)",
      "Cell \u001b[0;32mIn [24], line 1\u001b[0m\n\u001b[0;32m----> 1\u001b[0m \u001b[43mgan\u001b[49m\u001b[38;5;241;43m.\u001b[39;49m\u001b[43mtrain\u001b[49m\u001b[43m(\u001b[49m\u001b[43m     \u001b[49m\n\u001b[1;32m      2\u001b[0m \u001b[43m    \u001b[49m\u001b[43mdata_binary\u001b[49m\n\u001b[1;32m      3\u001b[0m \u001b[43m    \u001b[49m\u001b[43m,\u001b[49m\u001b[43m \u001b[49m\u001b[43mbatch_size\u001b[49m\u001b[43m \u001b[49m\u001b[38;5;241;43m=\u001b[39;49m\u001b[43m \u001b[49m\u001b[43mBATCH_SIZE\u001b[49m\n\u001b[1;32m      4\u001b[0m \u001b[43m    \u001b[49m\u001b[43m,\u001b[49m\u001b[43m \u001b[49m\u001b[43mepochs\u001b[49m\u001b[43m \u001b[49m\u001b[38;5;241;43m=\u001b[39;49m\u001b[43m \u001b[49m\u001b[43mEPOCHS\u001b[49m\n\u001b[1;32m      5\u001b[0m \u001b[43m    \u001b[49m\u001b[43m,\u001b[49m\u001b[43m \u001b[49m\u001b[43mrun_folder\u001b[49m\u001b[43m \u001b[49m\u001b[38;5;241;43m=\u001b[39;49m\u001b[43m \u001b[49m\u001b[38;5;124;43m'\u001b[39;49m\u001b[38;5;124;43m./output/\u001b[39;49m\u001b[38;5;124;43m'\u001b[39;49m\n\u001b[1;32m      6\u001b[0m \u001b[43m    \u001b[49m\u001b[43m,\u001b[49m\u001b[43m \u001b[49m\u001b[43mprint_every_n_batches\u001b[49m\u001b[43m \u001b[49m\u001b[38;5;241;43m=\u001b[39;49m\u001b[43m \u001b[49m\u001b[43mPRINT_EVERY_N_BATCHES\u001b[49m\n\u001b[1;32m      7\u001b[0m \u001b[43m)\u001b[49m\n",
      "File \u001b[0;32m/app/notebooks/music/bach-chorales/musegan.py:405\u001b[0m, in \u001b[0;36mMuseGAN.train\u001b[0;34m(self, x_train, batch_size, epochs, run_folder, print_every_n_batches, n_critic, using_generator)\u001b[0m\n\u001b[1;32m    403\u001b[0m \u001b[38;5;66;03m# If at save interval => save generated image samples\u001b[39;00m\n\u001b[1;32m    404\u001b[0m \u001b[38;5;28;01mif\u001b[39;00m epoch \u001b[38;5;241m%\u001b[39m print_every_n_batches \u001b[38;5;241m==\u001b[39m \u001b[38;5;241m0\u001b[39m:\n\u001b[0;32m--> 405\u001b[0m     \u001b[38;5;28;43mself\u001b[39;49m\u001b[38;5;241;43m.\u001b[39;49m\u001b[43msample_images\u001b[49m\u001b[43m(\u001b[49m\u001b[43mrun_folder\u001b[49m\u001b[43m)\u001b[49m\n\u001b[1;32m    407\u001b[0m     \u001b[38;5;28mself\u001b[39m\u001b[38;5;241m.\u001b[39mgenerator\u001b[38;5;241m.\u001b[39msave_weights(os\u001b[38;5;241m.\u001b[39mpath\u001b[38;5;241m.\u001b[39mjoin(run_folder, \u001b[38;5;124m'\u001b[39m\u001b[38;5;124mweights/weights-g.h5\u001b[39m\u001b[38;5;124m'\u001b[39m))\n\u001b[1;32m    409\u001b[0m     \u001b[38;5;28mself\u001b[39m\u001b[38;5;241m.\u001b[39mcritic\u001b[38;5;241m.\u001b[39msave_weights(os\u001b[38;5;241m.\u001b[39mpath\u001b[38;5;241m.\u001b[39mjoin(run_folder, \u001b[38;5;124m'\u001b[39m\u001b[38;5;124mweights/weights-c.h5\u001b[39m\u001b[38;5;124m'\u001b[39m))\n",
      "File \u001b[0;32m/app/notebooks/music/bach-chorales/musegan.py:437\u001b[0m, in \u001b[0;36mMuseGAN.sample_images\u001b[0;34m(self, run_folder)\u001b[0m\n\u001b[1;32m    433\u001b[0m groove_noise \u001b[38;5;241m=\u001b[39m np\u001b[38;5;241m.\u001b[39mrandom\u001b[38;5;241m.\u001b[39mnormal(\u001b[38;5;241m0\u001b[39m, \u001b[38;5;241m1\u001b[39m, (r, \u001b[38;5;28mself\u001b[39m\u001b[38;5;241m.\u001b[39mn_tracks, \u001b[38;5;28mself\u001b[39m\u001b[38;5;241m.\u001b[39mz_dim))\n\u001b[1;32m    435\u001b[0m gen_scores \u001b[38;5;241m=\u001b[39m \u001b[38;5;28mself\u001b[39m\u001b[38;5;241m.\u001b[39mgenerator\u001b[38;5;241m.\u001b[39mpredict([chords_noise, style_noise, melody_noise, groove_noise])\n\u001b[0;32m--> 437\u001b[0m \u001b[43mnp\u001b[49m\u001b[38;5;241;43m.\u001b[39;49m\u001b[43msave\u001b[49m\u001b[43m(\u001b[49m\u001b[43mos\u001b[49m\u001b[38;5;241;43m.\u001b[39;49m\u001b[43mpath\u001b[49m\u001b[38;5;241;43m.\u001b[39;49m\u001b[43mjoin\u001b[49m\u001b[43m(\u001b[49m\u001b[43mrun_folder\u001b[49m\u001b[43m,\u001b[49m\u001b[43m \u001b[49m\u001b[38;5;124;43m\"\u001b[39;49m\u001b[38;5;124;43mimages/sample_\u001b[39;49m\u001b[38;5;132;43;01m%d\u001b[39;49;00m\u001b[38;5;124;43m.npy\u001b[39;49m\u001b[38;5;124;43m\"\u001b[39;49m\u001b[43m \u001b[49m\u001b[38;5;241;43m%\u001b[39;49m\u001b[43m \u001b[49m\u001b[38;5;28;43mself\u001b[39;49m\u001b[38;5;241;43m.\u001b[39;49m\u001b[43mepoch\u001b[49m\u001b[43m)\u001b[49m\u001b[43m,\u001b[49m\u001b[43m \u001b[49m\u001b[43mgen_scores\u001b[49m\u001b[43m)\u001b[49m\n\u001b[1;32m    439\u001b[0m \u001b[38;5;28mself\u001b[39m\u001b[38;5;241m.\u001b[39mnotes_to_midi(run_folder, gen_scores)\n",
      "File \u001b[0;32m<__array_function__ internals>:180\u001b[0m, in \u001b[0;36msave\u001b[0;34m(*args, **kwargs)\u001b[0m\n",
      "File \u001b[0;32m/usr/local/lib/python3.8/dist-packages/numpy/lib/npyio.py:498\u001b[0m, in \u001b[0;36msave\u001b[0;34m(file, arr, allow_pickle, fix_imports)\u001b[0m\n\u001b[1;32m    496\u001b[0m     \u001b[38;5;28;01mif\u001b[39;00m \u001b[38;5;129;01mnot\u001b[39;00m file\u001b[38;5;241m.\u001b[39mendswith(\u001b[38;5;124m'\u001b[39m\u001b[38;5;124m.npy\u001b[39m\u001b[38;5;124m'\u001b[39m):\n\u001b[1;32m    497\u001b[0m         file \u001b[38;5;241m=\u001b[39m file \u001b[38;5;241m+\u001b[39m \u001b[38;5;124m'\u001b[39m\u001b[38;5;124m.npy\u001b[39m\u001b[38;5;124m'\u001b[39m\n\u001b[0;32m--> 498\u001b[0m     file_ctx \u001b[38;5;241m=\u001b[39m \u001b[38;5;28;43mopen\u001b[39;49m\u001b[43m(\u001b[49m\u001b[43mfile\u001b[49m\u001b[43m,\u001b[49m\u001b[43m \u001b[49m\u001b[38;5;124;43m\"\u001b[39;49m\u001b[38;5;124;43mwb\u001b[39;49m\u001b[38;5;124;43m\"\u001b[39;49m\u001b[43m)\u001b[49m\n\u001b[1;32m    500\u001b[0m \u001b[38;5;28;01mwith\u001b[39;00m file_ctx \u001b[38;5;28;01mas\u001b[39;00m fid:\n\u001b[1;32m    501\u001b[0m     arr \u001b[38;5;241m=\u001b[39m np\u001b[38;5;241m.\u001b[39masanyarray(arr)\n",
      "\u001b[0;31mFileNotFoundError\u001b[0m: [Errno 2] No such file or directory: './output/images/sample_0.npy'"
     ]
    }
   ],
   "source": [
    "gan.train(     \n",
    "    data_binary\n",
    "    , batch_size = BATCH_SIZE\n",
    "    , epochs = EPOCHS\n",
    "    , run_folder = './output/'\n",
    "    , print_every_n_batches = PRINT_EVERY_N_BATCHES\n",
    ")"
   ]
  },
  {
   "cell_type": "code",
   "execution_count": 23,
   "metadata": {},
   "outputs": [
    {
     "name": "stderr",
     "output_type": "stream",
     "text": [
      "/tmp/ipykernel_18/1825600972.py:11: UserWarning: Attempting to set identical left == right == 0 results in singular transformations; automatically expanding.\n",
      "  plt.xlim(0, len(gan.d_losses))\n"
     ]
    },
    {
     "data": {
      "image/png": "[encoded data removed]",
      "text/plain": [
       "<Figure size 640x480 with 1 Axes>"
      ]
     },
     "metadata": {
      "image/png": {
       "height": 442,
       "width": 595
      }
     },
     "output_type": "display_data"
    }
   ],
   "source": [
    "fig = plt.figure()\n",
    "plt.plot([x[0] for x in gan.d_losses], color='black', linewidth=0.25)\n",
    "\n",
    "plt.plot([x[1] for x in gan.d_losses], color='green', linewidth=0.25)\n",
    "plt.plot([x[2] for x in gan.d_losses], color='red', linewidth=0.25)\n",
    "plt.plot(gan.g_losses, color='orange', linewidth=0.25)\n",
    "\n",
    "plt.xlabel('batch', fontsize=18)\n",
    "plt.ylabel('loss', fontsize=16)\n",
    "\n",
    "plt.xlim(0, len(gan.d_losses))\n",
    "# plt.ylim(0, 2)\n",
    "\n",
    "plt.show()\n"
   ]
  },
  {
   "cell_type": "code",
   "execution_count": null,
   "metadata": {},
   "outputs": [],
   "source": []
  }
 ],
 "metadata": {
  "kernelspec": {
   "display_name": "Python 3 (ipykernel)",
   "language": "python",
   "name": "python3"
  },
  "language_info": {
   "codemirror_mode": {
    "name": "ipython",
    "version": 3
   },
   "file_extension": ".py",
   "mimetype": "text/x-python",
   "name": "python",
   "nbconvert_exporter": "python",
   "pygments_lexer": "ipython3",
   "version": "3.8.10"
  }
 },
 "nbformat": 4,
 "nbformat_minor": 4
}
